{
 "cells": [
  {
   "cell_type": "code",
   "execution_count": 1,
   "id": "6651c1af-326f-4e61-aff0-61280d2d4683",
   "metadata": {
    "execution": {
     "iopub.execute_input": "2024-03-16T06:40:18.440792Z",
     "iopub.status.busy": "2024-03-16T06:40:18.440616Z",
     "iopub.status.idle": "2024-03-16T06:40:23.299594Z",
     "shell.execute_reply": "2024-03-16T06:40:23.298934Z",
     "shell.execute_reply.started": "2024-03-16T06:40:18.440776Z"
    }
   },
   "outputs": [],
   "source": [
    "from frechet_audio_distance import FrechetAudioDistance"
   ]
  },
  {
   "cell_type": "code",
   "execution_count": 2,
   "id": "f1652607-c1c3-4832-8e93-3bedb5af1f12",
   "metadata": {
    "execution": {
     "iopub.execute_input": "2024-03-16T06:40:23.301180Z",
     "iopub.status.busy": "2024-03-16T06:40:23.300560Z",
     "iopub.status.idle": "2024-03-16T06:40:24.549783Z",
     "shell.execute_reply": "2024-03-16T06:40:24.549045Z",
     "shell.execute_reply.started": "2024-03-16T06:40:23.301154Z"
    }
   },
   "outputs": [
    {
     "name": "stderr",
     "output_type": "stream",
     "text": [
      "Using cache found in /home/mateo/.cache/torch/hub/harritaylor_torchvggish_master\n"
     ]
    }
   ],
   "source": [
    "frechet = FrechetAudioDistance(\n",
    "    model_name=\"vggish\",\n",
    "    sample_rate=16000,\n",
    "    use_pca=False, \n",
    "    use_activation=False,\n",
    "    verbose=False\n",
    ")"
   ]
  },
  {
   "cell_type": "code",
   "execution_count": 3,
   "id": "e693cffc-3c7a-4254-af0b-6a69eeb7e7e3",
   "metadata": {
    "execution": {
     "iopub.execute_input": "2024-03-15T00:05:43.346474Z",
     "iopub.status.busy": "2024-03-15T00:05:43.346211Z",
     "iopub.status.idle": "2024-03-15T00:19:27.088676Z",
     "shell.execute_reply": "2024-03-15T00:19:27.086632Z",
     "shell.execute_reply.started": "2024-03-15T00:05:43.346449Z"
    }
   },
   "outputs": [],
   "source": [
    "fad_score = frechet.score(\n",
    "    \"gan_inference\",\n",
    "    \"validation_audio\",\n",
    "    dtype=\"float32\"\n",
    ")"
   ]
  },
  {
   "cell_type": "code",
   "execution_count": 4,
   "id": "be8c438e-2c44-4df7-94f9-6e0cd82dbb63",
   "metadata": {
    "execution": {
     "iopub.execute_input": "2024-03-15T00:19:27.092365Z",
     "iopub.status.busy": "2024-03-15T00:19:27.091650Z",
     "iopub.status.idle": "2024-03-15T00:19:27.115337Z",
     "shell.execute_reply": "2024-03-15T00:19:27.113060Z",
     "shell.execute_reply.started": "2024-03-15T00:19:27.092295Z"
    }
   },
   "outputs": [
    {
     "data": {
      "text/plain": [
       "1.9831932098939244"
      ]
     },
     "execution_count": 4,
     "metadata": {},
     "output_type": "execute_result"
    }
   ],
   "source": [
    "fad_score"
   ]
  },
  {
   "cell_type": "code",
   "execution_count": 5,
   "id": "436f8eda-64b8-488c-8c3f-8bec15954577",
   "metadata": {
    "execution": {
     "iopub.execute_input": "2024-03-15T00:19:27.119969Z",
     "iopub.status.busy": "2024-03-15T00:19:27.119143Z",
     "iopub.status.idle": "2024-03-15T00:33:31.172894Z",
     "shell.execute_reply": "2024-03-15T00:33:31.170747Z",
     "shell.execute_reply.started": "2024-03-15T00:19:27.119900Z"
    }
   },
   "outputs": [],
   "source": [
    "fad_score = frechet.score(\n",
    "    \"vae_inference\",\n",
    "    \"validation_audio\",\n",
    "    dtype=\"float32\"\n",
    ")"
   ]
  },
  {
   "cell_type": "code",
   "execution_count": 6,
   "id": "7b912398-ce2c-472e-a485-52b085bf0d57",
   "metadata": {
    "execution": {
     "iopub.execute_input": "2024-03-15T00:33:31.177738Z",
     "iopub.status.busy": "2024-03-15T00:33:31.176143Z",
     "iopub.status.idle": "2024-03-15T00:33:31.190989Z",
     "shell.execute_reply": "2024-03-15T00:33:31.188397Z",
     "shell.execute_reply.started": "2024-03-15T00:33:31.177633Z"
    }
   },
   "outputs": [
    {
     "data": {
      "text/plain": [
       "0.20206892611483873"
      ]
     },
     "execution_count": 6,
     "metadata": {},
     "output_type": "execute_result"
    }
   ],
   "source": [
    "fad_score"
   ]
  },
  {
   "cell_type": "code",
   "execution_count": 7,
   "id": "6f409156-ea1f-4a59-8e40-bc433914fbf1",
   "metadata": {
    "execution": {
     "iopub.execute_input": "2024-03-15T00:33:31.197508Z",
     "iopub.status.busy": "2024-03-15T00:33:31.196799Z",
     "iopub.status.idle": "2024-03-15T00:47:59.029252Z",
     "shell.execute_reply": "2024-03-15T00:47:59.025766Z",
     "shell.execute_reply.started": "2024-03-15T00:33:31.197442Z"
    }
   },
   "outputs": [],
   "source": [
    "fad_score = frechet.score(\n",
    "    \"vaegan_inference\",\n",
    "    \"validation_audio\",\n",
    "    dtype=\"float32\"\n",
    ")"
   ]
  },
  {
   "cell_type": "code",
   "execution_count": 8,
   "id": "f618fafa-fe32-408d-a838-383c0ae177f0",
   "metadata": {
    "execution": {
     "iopub.execute_input": "2024-03-15T00:47:59.034751Z",
     "iopub.status.busy": "2024-03-15T00:47:59.033403Z",
     "iopub.status.idle": "2024-03-15T00:47:59.054422Z",
     "shell.execute_reply": "2024-03-15T00:47:59.051673Z",
     "shell.execute_reply.started": "2024-03-15T00:47:59.034610Z"
    }
   },
   "outputs": [
    {
     "data": {
      "text/plain": [
       "0.9919342087014336"
      ]
     },
     "execution_count": 8,
     "metadata": {},
     "output_type": "execute_result"
    }
   ],
   "source": [
    "fad_score"
   ]
  },
  {
   "cell_type": "code",
   "execution_count": 9,
   "id": "e1a1ee14-7a4d-49ee-8a2e-80b939adeb99",
   "metadata": {
    "execution": {
     "iopub.execute_input": "2024-03-15T00:47:59.059560Z",
     "iopub.status.busy": "2024-03-15T00:47:59.058276Z",
     "iopub.status.idle": "2024-03-15T01:42:07.008048Z",
     "shell.execute_reply": "2024-03-15T01:42:07.005601Z",
     "shell.execute_reply.started": "2024-03-15T00:47:59.059434Z"
    }
   },
   "outputs": [],
   "source": [
    "fad_score = frechet.score(\n",
    "    \"train_audio_processed\",\n",
    "    \"validation_audio\",\n",
    "    dtype=\"float32\"\n",
    ")"
   ]
  },
  {
   "cell_type": "code",
   "execution_count": 10,
   "id": "25090721-d9f3-4a36-9d22-04d0abbfe163",
   "metadata": {
    "execution": {
     "iopub.execute_input": "2024-03-15T01:42:07.013346Z",
     "iopub.status.busy": "2024-03-15T01:42:07.012061Z",
     "iopub.status.idle": "2024-03-15T01:42:07.029491Z",
     "shell.execute_reply": "2024-03-15T01:42:07.027021Z",
     "shell.execute_reply.started": "2024-03-15T01:42:07.013213Z"
    }
   },
   "outputs": [
    {
     "data": {
      "text/plain": [
       "0.004842971540431229"
      ]
     },
     "execution_count": 10,
     "metadata": {},
     "output_type": "execute_result"
    }
   ],
   "source": [
    "fad_score"
   ]
  },
  {
   "cell_type": "code",
   "execution_count": 11,
   "id": "f910564c-3735-4758-a3ea-de2c6e9f3848",
   "metadata": {
    "execution": {
     "iopub.execute_input": "2024-03-15T01:42:07.032938Z",
     "iopub.status.busy": "2024-03-15T01:42:07.032252Z",
     "iopub.status.idle": "2024-03-15T02:03:42.383796Z",
     "shell.execute_reply": "2024-03-15T02:03:42.381494Z",
     "shell.execute_reply.started": "2024-03-15T01:42:07.032875Z"
    }
   },
   "outputs": [],
   "source": [
    "fad_score = frechet.score(\n",
    "    \"validation_audio\",\n",
    "    \"validation_audio\",\n",
    "    dtype=\"float32\"\n",
    ")"
   ]
  },
  {
   "cell_type": "code",
   "execution_count": 12,
   "id": "5375e826-391d-4200-b46f-24d94a9f05df",
   "metadata": {
    "execution": {
     "iopub.execute_input": "2024-03-15T02:03:42.387762Z",
     "iopub.status.busy": "2024-03-15T02:03:42.386792Z",
     "iopub.status.idle": "2024-03-15T02:03:42.400672Z",
     "shell.execute_reply": "2024-03-15T02:03:42.398522Z",
     "shell.execute_reply.started": "2024-03-15T02:03:42.387692Z"
    }
   },
   "outputs": [
    {
     "data": {
      "text/plain": [
       "-1.163513729807164e-13"
      ]
     },
     "execution_count": 12,
     "metadata": {},
     "output_type": "execute_result"
    }
   ],
   "source": [
    "fad_score"
   ]
  },
  {
   "cell_type": "code",
   "execution_count": 3,
   "id": "d0086170-c12c-48d7-9cb9-7e7327aaa922",
   "metadata": {
    "execution": {
     "iopub.execute_input": "2024-03-16T06:40:52.268125Z",
     "iopub.status.busy": "2024-03-16T06:40:52.267809Z",
     "iopub.status.idle": "2024-03-16T06:48:35.372767Z",
     "shell.execute_reply": "2024-03-16T06:48:35.372186Z",
     "shell.execute_reply.started": "2024-03-16T06:40:52.268102Z"
    }
   },
   "outputs": [],
   "source": [
    "fad_score = frechet.score(\n",
    "    \"vae_inference_peak\",\n",
    "    \"validation_audio\",\n",
    "    dtype=\"float32\"\n",
    ")"
   ]
  },
  {
   "cell_type": "code",
   "execution_count": 4,
   "id": "e5c976ab-2c45-46d6-b624-3212fdf81d8e",
   "metadata": {
    "execution": {
     "iopub.execute_input": "2024-03-16T06:48:35.374674Z",
     "iopub.status.busy": "2024-03-16T06:48:35.374003Z",
     "iopub.status.idle": "2024-03-16T06:48:35.383136Z",
     "shell.execute_reply": "2024-03-16T06:48:35.382466Z",
     "shell.execute_reply.started": "2024-03-16T06:48:35.374637Z"
    }
   },
   "outputs": [
    {
     "data": {
      "text/plain": [
       "0.26480767092652435"
      ]
     },
     "execution_count": 4,
     "metadata": {},
     "output_type": "execute_result"
    }
   ],
   "source": [
    "fad_score"
   ]
  },
  {
   "cell_type": "code",
   "execution_count": 17,
   "id": "a287e089-c6a7-4f16-9489-1308d50f0043",
   "metadata": {
    "execution": {
     "iopub.execute_input": "2024-03-16T07:34:29.000462Z",
     "iopub.status.busy": "2024-03-16T07:34:29.000238Z",
     "iopub.status.idle": "2024-03-16T07:42:30.123713Z",
     "shell.execute_reply": "2024-03-16T07:42:30.122710Z",
     "shell.execute_reply.started": "2024-03-16T07:34:29.000444Z"
    }
   },
   "outputs": [],
   "source": [
    "fad_score = frechet.score(\n",
    "    \"vae_inference_peak\",\n",
    "    \"audio_from_peak_processed\",\n",
    "    dtype=\"float32\"\n",
    ")"
   ]
  },
  {
   "cell_type": "code",
   "execution_count": 18,
   "id": "42aaed58-62ee-425e-baa7-dc1a5d6f7ff2",
   "metadata": {
    "execution": {
     "iopub.execute_input": "2024-03-16T07:42:30.125796Z",
     "iopub.status.busy": "2024-03-16T07:42:30.125451Z",
     "iopub.status.idle": "2024-03-16T07:42:30.143044Z",
     "shell.execute_reply": "2024-03-16T07:42:30.138189Z",
     "shell.execute_reply.started": "2024-03-16T07:42:30.125764Z"
    }
   },
   "outputs": [
    {
     "data": {
      "text/plain": [
       "0.43639885102408904"
      ]
     },
     "execution_count": 18,
     "metadata": {},
     "output_type": "execute_result"
    }
   ],
   "source": [
    "fad_score"
   ]
  },
  {
   "cell_type": "code",
   "execution_count": 19,
   "id": "f2b1caad-f914-482c-8623-56fdb615847f",
   "metadata": {
    "execution": {
     "iopub.execute_input": "2024-03-16T07:42:30.144378Z",
     "iopub.status.busy": "2024-03-16T07:42:30.144027Z",
     "iopub.status.idle": "2024-03-16T07:50:47.476291Z",
     "shell.execute_reply": "2024-03-16T07:50:47.475107Z",
     "shell.execute_reply.started": "2024-03-16T07:42:30.144341Z"
    }
   },
   "outputs": [],
   "source": [
    "fad_score = frechet.score(\n",
    "    \"vae_inference\",\n",
    "    \"audio_from_peak_processed\",\n",
    "    dtype=\"float32\"\n",
    ")"
   ]
  },
  {
   "cell_type": "code",
   "execution_count": 20,
   "id": "7286d646-2fed-47c9-bc41-56ce3768aebb",
   "metadata": {
    "execution": {
     "iopub.execute_input": "2024-03-16T07:50:47.479333Z",
     "iopub.status.busy": "2024-03-16T07:50:47.478525Z",
     "iopub.status.idle": "2024-03-16T07:50:47.488780Z",
     "shell.execute_reply": "2024-03-16T07:50:47.487122Z",
     "shell.execute_reply.started": "2024-03-16T07:50:47.479310Z"
    }
   },
   "outputs": [
    {
     "data": {
      "text/plain": [
       "0.41522735133498045"
      ]
     },
     "execution_count": 20,
     "metadata": {},
     "output_type": "execute_result"
    }
   ],
   "source": [
    "fad_score"
   ]
  },
  {
   "cell_type": "code",
   "execution_count": 10,
   "id": "7dac437f-6ef4-4f4a-98ee-a26dec27a70c",
   "metadata": {
    "execution": {
     "iopub.execute_input": "2024-03-16T06:59:58.847396Z",
     "iopub.status.busy": "2024-03-16T06:59:58.847141Z",
     "iopub.status.idle": "2024-03-16T07:03:30.796837Z",
     "shell.execute_reply": "2024-03-16T07:03:30.793596Z",
     "shell.execute_reply.started": "2024-03-16T06:59:58.847375Z"
    }
   },
   "outputs": [],
   "source": [
    "fad_score = frechet.score(\n",
    "    \"vae_inference\",\n",
    "    \"vae_inference_peak\",\n",
    "    dtype=\"float32\"\n",
    ")"
   ]
  },
  {
   "cell_type": "code",
   "execution_count": 11,
   "id": "acafa3fe-5026-4937-a2a6-c63e5b73d21c",
   "metadata": {
    "execution": {
     "iopub.execute_input": "2024-03-16T07:03:30.798061Z",
     "iopub.status.busy": "2024-03-16T07:03:30.797654Z",
     "iopub.status.idle": "2024-03-16T07:03:30.802066Z",
     "shell.execute_reply": "2024-03-16T07:03:30.801515Z",
     "shell.execute_reply.started": "2024-03-16T07:03:30.798035Z"
    }
   },
   "outputs": [
    {
     "data": {
      "text/plain": [
       "0.07708028742703155"
      ]
     },
     "execution_count": 11,
     "metadata": {},
     "output_type": "execute_result"
    }
   ],
   "source": [
    "fad_score"
   ]
  },
  {
   "cell_type": "code",
   "execution_count": null,
   "id": "b95c7570-1775-48f1-b89d-a1f769090ace",
   "metadata": {},
   "outputs": [],
   "source": []
  }
 ],
 "metadata": {
  "kernelspec": {
   "display_name": "aquatk",
   "language": "python",
   "name": "aquatk"
  },
  "language_info": {
   "codemirror_mode": {
    "name": "ipython",
    "version": 3
   },
   "file_extension": ".py",
   "mimetype": "text/x-python",
   "name": "python",
   "nbconvert_exporter": "python",
   "pygments_lexer": "ipython3",
   "version": "3.11.8"
  }
 },
 "nbformat": 4,
 "nbformat_minor": 5
}
