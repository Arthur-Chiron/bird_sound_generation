{
 "cells": [
  {
   "cell_type": "code",
   "execution_count": 1,
   "id": "6651c1af-326f-4e61-aff0-61280d2d4683",
   "metadata": {
    "execution": {
     "iopub.execute_input": "2024-03-15T00:05:34.363717Z",
     "iopub.status.busy": "2024-03-15T00:05:34.363507Z",
     "iopub.status.idle": "2024-03-15T00:05:40.264413Z",
     "shell.execute_reply": "2024-03-15T00:05:40.263833Z",
     "shell.execute_reply.started": "2024-03-15T00:05:34.363694Z"
    }
   },
   "outputs": [],
   "source": [
    "from frechet_audio_distance import FrechetAudioDistance"
   ]
  },
  {
   "cell_type": "code",
   "execution_count": 2,
   "id": "f1652607-c1c3-4832-8e93-3bedb5af1f12",
   "metadata": {
    "execution": {
     "iopub.execute_input": "2024-03-15T00:05:40.266605Z",
     "iopub.status.busy": "2024-03-15T00:05:40.266052Z",
     "iopub.status.idle": "2024-03-15T00:05:43.345544Z",
     "shell.execute_reply": "2024-03-15T00:05:43.344964Z",
     "shell.execute_reply.started": "2024-03-15T00:05:40.266575Z"
    }
   },
   "outputs": [
    {
     "name": "stderr",
     "output_type": "stream",
     "text": [
      "Using cache found in /home/mateo/.cache/torch/hub/harritaylor_torchvggish_master\n"
     ]
    }
   ],
   "source": [
    "frechet = FrechetAudioDistance(\n",
    "    model_name=\"vggish\",\n",
    "    sample_rate=16000,\n",
    "    use_pca=False, \n",
    "    use_activation=False,\n",
    "    verbose=False\n",
    ")"
   ]
  },
  {
   "cell_type": "code",
   "execution_count": 3,
   "id": "e693cffc-3c7a-4254-af0b-6a69eeb7e7e3",
   "metadata": {
    "execution": {
     "iopub.execute_input": "2024-03-15T00:05:43.346474Z",
     "iopub.status.busy": "2024-03-15T00:05:43.346211Z",
     "iopub.status.idle": "2024-03-15T00:19:27.088676Z",
     "shell.execute_reply": "2024-03-15T00:19:27.086632Z",
     "shell.execute_reply.started": "2024-03-15T00:05:43.346449Z"
    }
   },
   "outputs": [],
   "source": [
    "fad_score = frechet.score(\n",
    "    \"gan_inference\",\n",
    "    \"validation_audio\",\n",
    "    dtype=\"float32\"\n",
    ")"
   ]
  },
  {
   "cell_type": "code",
   "execution_count": 4,
   "id": "be8c438e-2c44-4df7-94f9-6e0cd82dbb63",
   "metadata": {
    "execution": {
     "iopub.execute_input": "2024-03-15T00:19:27.092365Z",
     "iopub.status.busy": "2024-03-15T00:19:27.091650Z",
     "iopub.status.idle": "2024-03-15T00:19:27.115337Z",
     "shell.execute_reply": "2024-03-15T00:19:27.113060Z",
     "shell.execute_reply.started": "2024-03-15T00:19:27.092295Z"
    }
   },
   "outputs": [
    {
     "data": {
      "text/plain": [
       "1.9831932098939244"
      ]
     },
     "execution_count": 4,
     "metadata": {},
     "output_type": "execute_result"
    }
   ],
   "source": [
    "fad_score"
   ]
  },
  {
   "cell_type": "code",
   "execution_count": 5,
   "id": "436f8eda-64b8-488c-8c3f-8bec15954577",
   "metadata": {
    "execution": {
     "iopub.execute_input": "2024-03-15T00:19:27.119969Z",
     "iopub.status.busy": "2024-03-15T00:19:27.119143Z",
     "iopub.status.idle": "2024-03-15T00:33:31.172894Z",
     "shell.execute_reply": "2024-03-15T00:33:31.170747Z",
     "shell.execute_reply.started": "2024-03-15T00:19:27.119900Z"
    }
   },
   "outputs": [],
   "source": [
    "fad_score = frechet.score(\n",
    "    \"vae_inference\",\n",
    "    \"validation_audio\",\n",
    "    dtype=\"float32\"\n",
    ")"
   ]
  },
  {
   "cell_type": "code",
   "execution_count": 6,
   "id": "7b912398-ce2c-472e-a485-52b085bf0d57",
   "metadata": {
    "execution": {
     "iopub.execute_input": "2024-03-15T00:33:31.177738Z",
     "iopub.status.busy": "2024-03-15T00:33:31.176143Z",
     "iopub.status.idle": "2024-03-15T00:33:31.190989Z",
     "shell.execute_reply": "2024-03-15T00:33:31.188397Z",
     "shell.execute_reply.started": "2024-03-15T00:33:31.177633Z"
    }
   },
   "outputs": [
    {
     "data": {
      "text/plain": [
       "0.20206892611483873"
      ]
     },
     "execution_count": 6,
     "metadata": {},
     "output_type": "execute_result"
    }
   ],
   "source": [
    "fad_score"
   ]
  },
  {
   "cell_type": "code",
   "execution_count": 7,
   "id": "6f409156-ea1f-4a59-8e40-bc433914fbf1",
   "metadata": {
    "execution": {
     "iopub.execute_input": "2024-03-15T00:33:31.197508Z",
     "iopub.status.busy": "2024-03-15T00:33:31.196799Z",
     "iopub.status.idle": "2024-03-15T00:47:59.029252Z",
     "shell.execute_reply": "2024-03-15T00:47:59.025766Z",
     "shell.execute_reply.started": "2024-03-15T00:33:31.197442Z"
    }
   },
   "outputs": [],
   "source": [
    "fad_score = frechet.score(\n",
    "    \"vaegan_inference\",\n",
    "    \"validation_audio\",\n",
    "    dtype=\"float32\"\n",
    ")"
   ]
  },
  {
   "cell_type": "code",
   "execution_count": 8,
   "id": "f618fafa-fe32-408d-a838-383c0ae177f0",
   "metadata": {
    "execution": {
     "iopub.execute_input": "2024-03-15T00:47:59.034751Z",
     "iopub.status.busy": "2024-03-15T00:47:59.033403Z",
     "iopub.status.idle": "2024-03-15T00:47:59.054422Z",
     "shell.execute_reply": "2024-03-15T00:47:59.051673Z",
     "shell.execute_reply.started": "2024-03-15T00:47:59.034610Z"
    }
   },
   "outputs": [
    {
     "data": {
      "text/plain": [
       "0.9919342087014336"
      ]
     },
     "execution_count": 8,
     "metadata": {},
     "output_type": "execute_result"
    }
   ],
   "source": [
    "fad_score"
   ]
  },
  {
   "cell_type": "code",
   "execution_count": 9,
   "id": "e1a1ee14-7a4d-49ee-8a2e-80b939adeb99",
   "metadata": {
    "execution": {
     "iopub.execute_input": "2024-03-15T00:47:59.059560Z",
     "iopub.status.busy": "2024-03-15T00:47:59.058276Z",
     "iopub.status.idle": "2024-03-15T01:42:07.008048Z",
     "shell.execute_reply": "2024-03-15T01:42:07.005601Z",
     "shell.execute_reply.started": "2024-03-15T00:47:59.059434Z"
    }
   },
   "outputs": [],
   "source": [
    "fad_score = frechet.score(\n",
    "    \"train_audio_processed\",\n",
    "    \"validation_audio\",\n",
    "    dtype=\"float32\"\n",
    ")"
   ]
  },
  {
   "cell_type": "code",
   "execution_count": 10,
   "id": "25090721-d9f3-4a36-9d22-04d0abbfe163",
   "metadata": {
    "execution": {
     "iopub.execute_input": "2024-03-15T01:42:07.013346Z",
     "iopub.status.busy": "2024-03-15T01:42:07.012061Z",
     "iopub.status.idle": "2024-03-15T01:42:07.029491Z",
     "shell.execute_reply": "2024-03-15T01:42:07.027021Z",
     "shell.execute_reply.started": "2024-03-15T01:42:07.013213Z"
    }
   },
   "outputs": [
    {
     "data": {
      "text/plain": [
       "0.004842971540431229"
      ]
     },
     "execution_count": 10,
     "metadata": {},
     "output_type": "execute_result"
    }
   ],
   "source": [
    "fad_score"
   ]
  },
  {
   "cell_type": "code",
   "execution_count": 11,
   "id": "f910564c-3735-4758-a3ea-de2c6e9f3848",
   "metadata": {
    "execution": {
     "iopub.execute_input": "2024-03-15T01:42:07.032938Z",
     "iopub.status.busy": "2024-03-15T01:42:07.032252Z",
     "iopub.status.idle": "2024-03-15T02:03:42.383796Z",
     "shell.execute_reply": "2024-03-15T02:03:42.381494Z",
     "shell.execute_reply.started": "2024-03-15T01:42:07.032875Z"
    }
   },
   "outputs": [],
   "source": [
    "fad_score = frechet.score(\n",
    "    \"validation_audio\",\n",
    "    \"validation_audio\",\n",
    "    dtype=\"float32\"\n",
    ")"
   ]
  },
  {
   "cell_type": "code",
   "execution_count": 12,
   "id": "5375e826-391d-4200-b46f-24d94a9f05df",
   "metadata": {
    "execution": {
     "iopub.execute_input": "2024-03-15T02:03:42.387762Z",
     "iopub.status.busy": "2024-03-15T02:03:42.386792Z",
     "iopub.status.idle": "2024-03-15T02:03:42.400672Z",
     "shell.execute_reply": "2024-03-15T02:03:42.398522Z",
     "shell.execute_reply.started": "2024-03-15T02:03:42.387692Z"
    }
   },
   "outputs": [
    {
     "data": {
      "text/plain": [
       "-1.163513729807164e-13"
      ]
     },
     "execution_count": 12,
     "metadata": {},
     "output_type": "execute_result"
    }
   ],
   "source": [
    "fad_score"
   ]
  },
  {
   "cell_type": "code",
   "execution_count": null,
   "id": "d0086170-c12c-48d7-9cb9-7e7327aaa922",
   "metadata": {},
   "outputs": [],
   "source": []
  }
 ],
 "metadata": {
  "kernelspec": {
   "display_name": "aquatk",
   "language": "python",
   "name": "aquatk"
  },
  "language_info": {
   "codemirror_mode": {
    "name": "ipython",
    "version": 3
   },
   "file_extension": ".py",
   "mimetype": "text/x-python",
   "name": "python",
   "nbconvert_exporter": "python",
   "pygments_lexer": "ipython3",
   "version": "3.11.8"
  }
 },
 "nbformat": 4,
 "nbformat_minor": 5
}
