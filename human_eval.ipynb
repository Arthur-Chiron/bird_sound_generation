{
 "cells": [
  {
   "cell_type": "code",
   "execution_count": 1,
   "id": "8ed7b4fd-3b13-4811-90db-465a7cfa3a1f",
   "metadata": {
    "execution": {
     "iopub.execute_input": "2024-03-15T22:24:59.486779Z",
     "iopub.status.busy": "2024-03-15T22:24:59.485994Z",
     "iopub.status.idle": "2024-03-15T22:25:04.395725Z",
     "shell.execute_reply": "2024-03-15T22:25:04.394880Z",
     "shell.execute_reply.started": "2024-03-15T22:24:59.486729Z"
    }
   },
   "outputs": [
    {
     "name": "stdout",
     "output_type": "stream",
     "text": [
      "Running on local URL:  http://0.0.0.0:7860\n",
      "\n",
      "To create a public link, set `share=True` in `launch()`.\n"
     ]
    },
    {
     "data": {
      "text/html": [
       "<div><iframe src=\"http://localhost:7860/\" width=\"100%\" height=\"500\" allow=\"autoplay; camera; microphone; clipboard-read; clipboard-write;\" frameborder=\"0\" allowfullscreen></iframe></div>"
      ],
      "text/plain": [
       "<IPython.core.display.HTML object>"
      ]
     },
     "metadata": {},
     "output_type": "display_data"
    },
    {
     "data": {
      "text/plain": []
     },
     "execution_count": 1,
     "metadata": {},
     "output_type": "execute_result"
    }
   ],
   "source": [
    "import gradio as gr\n",
    "import random\n",
    "import os\n",
    "import csv\n",
    "from datetime import datetime, timezone, timedelta\n",
    "\n",
    "directories = ['vae_inference', 'gan_inference', 'vaegan_inference', 'validation_audio', 'vae_inference_peak', \"audio_from_peak_processed\"]\n",
    "files = {dir: [os.path.join(dir, f) for f in os.listdir(dir) if f.endswith('.wav')] for dir in directories}\n",
    "\n",
    "csv_file = \"votes.csv\"\n",
    "\n",
    "if not os.path.exists(csv_file):\n",
    "    with open(csv_file, 'w', newline='') as f:\n",
    "        writer = csv.writer(f)\n",
    "        writer.writerow([\"audio1\", \"audio2\", \"audio1 wins\", \"time\", \"id\"])\n",
    "\n",
    "def get_audio_pair():\n",
    "    dir1, dir2 = random.sample(directories, 2)\n",
    "    file1, file2 = random.choice(files[dir1]), random.choice(files[dir2])\n",
    "    return file1, file2\n",
    "\n",
    "def fn(current_audio):\n",
    "    a1, a2 = get_audio_pair()\n",
    "    return f\"{random.randint(0, 1e16):016d}\", a1, a2, (a1, a2)\n",
    "\n",
    "def test_fn(btn, user_id, current_audio):\n",
    "    print(\"here\")\n",
    "    with open(csv_file, 'a', newline='') as f:\n",
    "        writer = csv.writer(f)\n",
    "        now = datetime.now(timezone.utc).astimezone(timezone(timedelta(hours=1)))\n",
    "        now_str = now.strftime('%d/%m/%Y %H:%M:%S')\n",
    "        writer.writerow([*current_audio, \"1\" in btn, now_str, user_id])\n",
    "    a1, a2 = get_audio_pair()\n",
    "    return a1, a2, (a1, a2)\n",
    "\n",
    "with gr.Blocks(title=\"Audio eval\") as demo:\n",
    "    current_audio = gr.State()\n",
    "    gr.Markdown(\n",
    "    \"\"\"\n",
    "    # Evaluation de sons d'oiseaux générés\n",
    "    Choisir l'audio qui ressemble le plus à un chant d'oiseau\n",
    "    \"\"\")\n",
    "    with gr.Row(equal_height=True):\n",
    "        a1, a2 = get_audio_pair()\n",
    "        with gr.Column(scale=1):\n",
    "            audio1 = gr.Audio(a1, label=\"Audio1\")\n",
    "            btn1 = gr.Button(value=\"Audio1 est meilleur\")\n",
    "        with gr.Column(scale=1):\n",
    "            audio2 = gr.Audio(a2, label=\"Audio2\")\n",
    "            btn2 = gr.Button(value=\"Audio2 est meilleur\")\n",
    "    user_id = gr.Text(label=\"user_id\")\n",
    "    demo.load(fn, [current_audio], [user_id, audio1, audio2, current_audio])\n",
    "    btn1.click(test_fn, [btn1, user_id, current_audio], [audio1, audio2, current_audio])\n",
    "    btn2.click(test_fn, [btn2, user_id, current_audio], [audio1, audio2, current_audio])\n",
    "\n",
    "demo.launch(share=False, server_name=\"0.0.0.0\", server_port=7860)"
   ]
  },
  {
   "cell_type": "code",
   "execution_count": null,
   "id": "7332a678-1052-44d1-8617-6f3d1d16043a",
   "metadata": {},
   "outputs": [],
   "source": []
  }
 ],
 "metadata": {
  "kernelspec": {
   "display_name": "ML",
   "language": "python",
   "name": "ml"
  },
  "language_info": {
   "codemirror_mode": {
    "name": "ipython",
    "version": 3
   },
   "file_extension": ".py",
   "mimetype": "text/x-python",
   "name": "python",
   "nbconvert_exporter": "python",
   "pygments_lexer": "ipython3",
   "version": "3.10.13"
  }
 },
 "nbformat": 4,
 "nbformat_minor": 5
}
