{
 "cells": [
  {
   "cell_type": "markdown",
   "id": "3f383662-bcde-4d47-b238-866c89f13405",
   "metadata": {},
   "source": [
    "# Generating bird sounds with a GAN"
   ]
  },
  {
   "cell_type": "markdown",
   "id": "ab492244-39a1-4fca-9863-00f4c174b140",
   "metadata": {},
   "source": [
    "## Imports"
   ]
  },
  {
   "cell_type": "code",
   "execution_count": 1,
   "id": "607baa89-7225-453e-a54a-6618505e07d7",
   "metadata": {
    "execution": {
     "iopub.execute_input": "2024-03-14T21:10:06.404447Z",
     "iopub.status.busy": "2024-03-14T21:10:06.404190Z",
     "iopub.status.idle": "2024-03-14T21:10:12.561285Z",
     "shell.execute_reply": "2024-03-14T21:10:12.560653Z",
     "shell.execute_reply.started": "2024-03-14T21:10:06.404420Z"
    }
   },
   "outputs": [],
   "source": [
    "import os\n",
    "import io\n",
    "\n",
    "import numpy as np\n",
    "import matplotlib.pyplot as plt\n",
    "from scipy import signal\n",
    "from tqdm.notebook import tqdm\n",
    "from IPython.display import display, Audio\n",
    "from PIL import Image\n",
    "\n",
    "import soundfile as sf\n",
    "import librosa\n",
    "import librosa.display\n",
    "\n",
    "import torchaudio\n",
    "import torch\n",
    "from torch.utils.data import Dataset, DataLoader\n",
    "import torch.nn as nn\n",
    "import torch.optim as optim\n",
    "import torch.nn.functional as F\n",
    "import torchvision.transforms.functional as TF\n",
    "import pytorch_lightning as pl\n",
    "from lightning.pytorch import loggers as pl_loggers\n",
    "\n",
    "from codecarbon import EmissionsTracker"
   ]
  },
  {
   "cell_type": "markdown",
   "id": "169f71ba-be56-459c-a755-333a60f44bb1",
   "metadata": {},
   "source": [
    "## Dataset"
   ]
  },
  {
   "cell_type": "code",
   "execution_count": 2,
   "id": "a221bf20-b88f-415e-9366-3a6e520fcb8b",
   "metadata": {
    "execution": {
     "iopub.execute_input": "2024-03-14T21:10:12.562904Z",
     "iopub.status.busy": "2024-03-14T21:10:12.562599Z",
     "iopub.status.idle": "2024-03-14T21:10:12.576755Z",
     "shell.execute_reply": "2024-03-14T21:10:12.576042Z",
     "shell.execute_reply.started": "2024-03-14T21:10:12.562884Z"
    }
   },
   "outputs": [],
   "source": [
    "class BirdClefDataset(Dataset):\n",
    "    def __init__(\n",
    "        self,\n",
    "        root_dir,\n",
    "        bird_name=None,\n",
    "        transform=None,\n",
    "        num_samples=65_500,\n",
    "        min_db=-80,\n",
    "        max_db=0,\n",
    "        cache=True\n",
    "    ):\n",
    "        self.root_dir = root_dir\n",
    "        self.bird_name = bird_name\n",
    "        self.transform = transform\n",
    "        self.num_samples = num_samples\n",
    "        self.min_db = min_db\n",
    "        self.max_db = max_db\n",
    "\n",
    "        if cache:\n",
    "            self.cache_dir = self.root_dir + \"_cache\"\n",
    "            os.makedirs(self.cache_dir, exist_ok=True)\n",
    "        else:\n",
    "            self.cache_dir = None\n",
    "        self.bird_folders = sorted(os.listdir(root_dir))\n",
    "\n",
    "        if bird_name is not None:\n",
    "            self.bird_folders = [bird_name]\n",
    "\n",
    "        self.audio_files = []\n",
    "\n",
    "        for bird_folder in self.bird_folders:\n",
    "            bird_path = os.path.join(root_dir, bird_folder)\n",
    "            audio_files = [os.path.join(bird_path, file) for file in os.listdir(bird_path) if file.endswith('.ogg')]\n",
    "            self.audio_files.extend(audio_files)\n",
    "\n",
    "    def get_spec(self, audio_path):\n",
    "        waveform, sample_rate = librosa.load(audio_path, sr=None, mono=True)\n",
    "\n",
    "        if len(waveform) < self.num_samples:\n",
    "            pad_amount = self.num_samples - len(waveform)\n",
    "            waveform = np.pad(waveform, (0, pad_amount))\n",
    "        else:\n",
    "            waveform = waveform[:self.num_samples]\n",
    "\n",
    "        mel_spec = librosa.feature.melspectrogram(y=waveform, sr=sample_rate)\n",
    "        mel_spec = librosa.power_to_db(mel_spec, ref=np.max)\n",
    "\n",
    "        return mel_spec\n",
    "\n",
    "    def normalize(self, x):\n",
    "        return (x- self.min_db) / (self.max_db - self.min_db)\n",
    "\n",
    "    def denormalize(self, x):\n",
    "        if isinstance(x, torch.Tensor):\n",
    "            x = x.cpu().detach().numpy()\n",
    "\n",
    "        flattened_array = x.reshape((x.shape[0], -1))\n",
    "\n",
    "        min_batch_values = flattened_array.min(axis=-1, keepdims=True)\n",
    "        max_batch_values = flattened_array.max(axis=-1, keepdims=True)\n",
    "\n",
    "        normalized_array = self.min_db + ((flattened_array - min_batch_values) / (max_batch_values - min_batch_values)) * (self.max_db - self.min_db)\n",
    "\n",
    "        normalized_batch = normalized_array.reshape(x.shape)\n",
    "\n",
    "        return normalized_batch\n",
    "\n",
    "    def cache_all(self):\n",
    "        self.cache = True\n",
    "        for idx in range(len(self)):\n",
    "            self.__getitem__(idx)\n",
    "\n",
    "    def __len__(self):\n",
    "        return len(self.audio_files)\n",
    "\n",
    "    def __getitem__(self, idx):\n",
    "        audio_path = self.audio_files[idx]\n",
    "\n",
    "        if self.cache_dir is not None:\n",
    "            cache_filename = f\"{os.path.basename(audio_path)}_{self.num_samples}.npy\"\n",
    "            cache_path = os.path.join(self.cache_dir, cache_filename)\n",
    "\n",
    "        if self.cache_dir is not None and os.path.isfile(cache_path):\n",
    "            try:\n",
    "                mel_spec = np.load(cache_path)\n",
    "            except Exception as e:\n",
    "                raise IOError(f\"Failed to read file: {cache_path}. Error: {e}\")\n",
    "        else:\n",
    "            mel_spec = self.get_spec(audio_path)\n",
    "\n",
    "            # Normalize mel_spec\n",
    "            mel_spec = self.normalize(mel_spec)\n",
    "            mel_spec = np.expand_dims(mel_spec, axis=0)\n",
    "\n",
    "            # Save mel spectrogram to cache\n",
    "            if self.cache_dir is not None:\n",
    "                np.save(cache_path, mel_spec)\n",
    "\n",
    "        if self.transform is not None:\n",
    "            mel_spec = self.transform(mel_spec)\n",
    "\n",
    "        folder, filename = os.path.split(audio_path)\n",
    "        basedir, bird = os.path.split(folder)\n",
    "\n",
    "        return mel_spec, bird, filename"
   ]
  },
  {
   "cell_type": "code",
   "execution_count": 3,
   "id": "1e7f6888-92a3-47f4-a719-ec97e87c7ff8",
   "metadata": {
    "execution": {
     "iopub.execute_input": "2024-03-14T21:10:12.578002Z",
     "iopub.status.busy": "2024-03-14T21:10:12.577557Z",
     "iopub.status.idle": "2024-03-14T21:10:12.587466Z",
     "shell.execute_reply": "2024-03-14T21:10:12.586818Z",
     "shell.execute_reply.started": "2024-03-14T21:10:12.577975Z"
    }
   },
   "outputs": [],
   "source": [
    "class BirdClefDataModule(pl.LightningDataModule):\n",
    "    def __init__(self,\n",
    "                 root_dir,\n",
    "                 batch_size=64,\n",
    "                 validation_split=0.2,\n",
    "                 num_workers=10,\n",
    "                 bird_name=None,\n",
    "                 transform=None,\n",
    "                 num_samples=65_500,\n",
    "                 min_db=-80,\n",
    "                 max_db=0,\n",
    "                 cache=True,\n",
    "                 seed=0\n",
    "                ):\n",
    "        super().__init__()\n",
    "        self.root_dir = root_dir\n",
    "        self.batch_size = batch_size\n",
    "        self.num_workers = num_workers\n",
    "        self.validation_split = validation_split\n",
    "        self.bird_name = bird_name\n",
    "        self.transform = transform\n",
    "        self.num_samples = num_samples\n",
    "        self.min_db = min_db\n",
    "        self.max_db = max_db\n",
    "        self.cache = cache\n",
    "        self.seed = seed\n",
    "\n",
    "        self.save_hyperparameters()\n",
    "\n",
    "    def setup(self, stage=None):\n",
    "        dataset = BirdClefDataset(self.root_dir, bird_name=self.bird_name)\n",
    "        self.normalize = dataset.normalize\n",
    "        self.denormalize = dataset.denormalize\n",
    "        if stage == 'fit' or stage is None:\n",
    "            train_dataset, validation_dataset = torch.utils.data.random_split(dataset,\n",
    "                                                                              (1 - self.validation_split, self.validation_split),\n",
    "                                                                             torch.Generator().manual_seed(self.seed))\n",
    "            self.train_loader = DataLoader(train_dataset, batch_size=self.batch_size, shuffle=True, num_workers=self.num_workers)\n",
    "            self.validation_loader = DataLoader(validation_dataset, batch_size=self.batch_size, shuffle=False, num_workers=self.num_workers)\n",
    "\n",
    "    def train_dataloader(self):\n",
    "        return self.train_loader\n",
    "\n",
    "    def val_dataloader(self):\n",
    "        return self.validation_loader\n",
    "\n",
    "    def illustration_dataloader(self, batch_size):\n",
    "        illustrative_dataset = self.validation_loader.dataset\n",
    "        illustrative_loader = DataLoader(illustrative_dataset, batch_size=batch_size, shuffle=False, num_workers=self.num_workers)\n",
    "        return illustrative_loader"
   ]
  },
  {
   "cell_type": "code",
   "execution_count": 4,
   "id": "c4a05391-c206-442b-b32b-a2f42de612da",
   "metadata": {
    "execution": {
     "iopub.execute_input": "2024-03-14T21:10:12.588740Z",
     "iopub.status.busy": "2024-03-14T21:10:12.588369Z",
     "iopub.status.idle": "2024-03-14T21:10:12.599215Z",
     "shell.execute_reply": "2024-03-14T21:10:12.598321Z",
     "shell.execute_reply.started": "2024-03-14T21:10:12.588710Z"
    }
   },
   "outputs": [],
   "source": [
    "root_directory = 'train_audio'\n",
    "data_module = BirdClefDataModule(root_directory, batch_size=128)#, bird_name=\"rerswa1\")"
   ]
  },
  {
   "cell_type": "markdown",
   "id": "74fb1e1e-5fa2-4d02-8bdd-99383247594e",
   "metadata": {},
   "source": [
    "## GAN model"
   ]
  },
  {
   "cell_type": "code",
   "execution_count": 5,
   "id": "4d169659-0b0b-4ac1-9063-b1428937d99f",
   "metadata": {
    "execution": {
     "iopub.execute_input": "2024-03-14T21:10:12.600099Z",
     "iopub.status.busy": "2024-03-14T21:10:12.599926Z",
     "iopub.status.idle": "2024-03-14T21:10:12.608014Z",
     "shell.execute_reply": "2024-03-14T21:10:12.607364Z",
     "shell.execute_reply.started": "2024-03-14T21:10:12.600082Z"
    }
   },
   "outputs": [],
   "source": [
    "class Flatten(nn.Module):\n",
    "    def forward(self, input):\n",
    "        return input.view(input.size(0), -1)\n",
    "\n",
    "class UnFlatten(nn.Module):\n",
    "    def __init__(self, size=16, channels=128):\n",
    "        super(UnFlatten, self).__init__()\n",
    "        self.size = size\n",
    "        self.channels = channels\n",
    "    def forward(self, input):\n",
    "        return input.view(input.size(0), self.channels, self.size, self.size)"
   ]
  },
  {
   "cell_type": "code",
   "execution_count": 6,
   "id": "ab161ae6-b928-453f-8b06-b8c5c698d2f2",
   "metadata": {
    "execution": {
     "iopub.execute_input": "2024-03-14T21:10:12.609109Z",
     "iopub.status.busy": "2024-03-14T21:10:12.608820Z",
     "iopub.status.idle": "2024-03-14T21:10:12.618243Z",
     "shell.execute_reply": "2024-03-14T21:10:12.617456Z",
     "shell.execute_reply.started": "2024-03-14T21:10:12.609079Z"
    }
   },
   "outputs": [],
   "source": [
    "class GANLoss(torch.nn.modules.loss._Loss):\n",
    "    __constants__ = ['reduction']\n",
    "\n",
    "    def __init__(self, size_average=None, reduce=None, reduction: str = 'mean'):\n",
    "        super().__init__(size_average, reduce, reduction)\n",
    "\n",
    "    def forward(self, sampled_classif, original_classif):\n",
    "        loss_discriminator_samples = F.binary_cross_entropy_with_logits(\n",
    "            sampled_classif,\n",
    "            torch.ones_like(sampled_classif),\n",
    "            reduction=self.reduction\n",
    "        )\n",
    "        loss_discriminator_original = F.binary_cross_entropy_with_logits(\n",
    "            original_classif,\n",
    "            torch.zeros_like(original_classif),\n",
    "            reduction=self.reduction\n",
    "        )\n",
    "        loss_discriminator = 1/2 * (loss_discriminator_samples + loss_discriminator_original)\n",
    "\n",
    "        loss_generator = F.binary_cross_entropy_with_logits(\n",
    "            sampled_classif,\n",
    "            torch.zeros_like(sampled_classif),\n",
    "            reduction=self.reduction\n",
    "        )\n",
    "\n",
    "        return (\n",
    "            loss_discriminator,\n",
    "            loss_generator,\n",
    "            loss_discriminator_samples,\n",
    "            loss_discriminator_original\n",
    "        )"
   ]
  },
  {
   "cell_type": "code",
   "execution_count": 7,
   "id": "4cbe3d27-24c8-47ce-91ed-727167823d67",
   "metadata": {
    "execution": {
     "iopub.execute_input": "2024-03-14T21:10:12.621747Z",
     "iopub.status.busy": "2024-03-14T21:10:12.621229Z",
     "iopub.status.idle": "2024-03-14T21:10:12.648910Z",
     "shell.execute_reply": "2024-03-14T21:10:12.648271Z",
     "shell.execute_reply.started": "2024-03-14T21:10:12.621715Z"
    }
   },
   "outputs": [],
   "source": [
    "class GAN(pl.LightningModule):\n",
    "    def __init__(\n",
    "        self,\n",
    "        img_channels=1,\n",
    "        img_size=256,\n",
    "        input_size=4096,\n",
    "        layers=[16, 32, 64],\n",
    "        learning_rate=0.001,\n",
    "        lr_decay=1,\n",
    "        activation=nn.ReLU,\n",
    "        optimizer=torch.optim.Adam,\n",
    "        generate_on_epoch=4,\n",
    "        generator_too_good=.6, # value of the discriminator's loss above which the generator shouldn't be trained\n",
    "        discriminator_too_good=.3, # value of the discriminator's loss above which the discriminator shouldn't be trained\n",
    "        seed=0\n",
    "    ):\n",
    "        super(GAN, self).__init__()\n",
    "\n",
    "        if img_size % (2**len(layers)) != 0:\n",
    "            raise ValueError(\"An image of size {image_size} with {len(layers)} layers won't work\")\n",
    "\n",
    "        self.input_size = input_size\n",
    "        last_conv_size = (img_size // (2**(len(layers)+1)))**2 * layers[-1]\n",
    "        self.generator = self.build_generator(img_channels, layers, img_size, last_conv_size, activation)\n",
    "        self.discriminator = self.build_discriminator(img_channels, layers, activation, last_conv_size)\n",
    "\n",
    "        self.generator_too_good = generator_too_good\n",
    "        self.discriminator_too_good = discriminator_too_good\n",
    "\n",
    "        self.learning_rate = learning_rate\n",
    "        self.lr_decay = lr_decay\n",
    "        self.optim = optimizer\n",
    "        self.criterion = GANLoss()\n",
    "        self.generate_on_epoch = generate_on_epoch\n",
    "        self.seed = seed\n",
    "\n",
    "        self.prev_disc_loss = None\n",
    "\n",
    "        self.automatic_optimization = False\n",
    "\n",
    "        self.save_hyperparameters()\n",
    "\n",
    "    def build_discriminator(self, input_channels, channels_list, activation, last_conv_size):\n",
    "        layers = []\n",
    "        in_channels = input_channels\n",
    "        for out_channels in channels_list:\n",
    "            layers.append(nn.Conv2d(in_channels, out_channels, kernel_size=3, stride=2, padding=1))\n",
    "            layers.append(activation())\n",
    "            in_channels = out_channels\n",
    "        layers.append(Flatten())\n",
    "        layers.append(nn.Linear(last_conv_size, 1))\n",
    "        return nn.Sequential(*layers)\n",
    "\n",
    "\n",
    "    def build_generator(self, input_channels, channels_list, img_size, last_conv_size, activation):\n",
    "        layers = [\n",
    "            nn.Linear(self.input_size, last_conv_size),\n",
    "            UnFlatten(img_size // (2**(len(channels_list)+1)), channels_list[-1])\n",
    "        ]\n",
    "        for in_channels, out_channels in zip(channels_list[::-1], channels_list[-2::-1]+[input_channels]):\n",
    "            layers.append(nn.ConvTranspose2d(in_channels, out_channels, kernel_size=3, stride=2, padding=1, output_padding=1))\n",
    "            layers.append(activation())\n",
    "            #layers.append(nn.Upsample(scale_factor=2, mode=\"bilinear\"))\n",
    "            #layers.append(nn.Conv2d(in_channels, out_channels, kernel_size=3, stride=1, padding=1))\n",
    "            #layers.append(activation())\n",
    "        layers.pop()\n",
    "        layers.append(nn.Sigmoid())\n",
    "        return nn.Sequential(*layers)\n",
    "\n",
    "\n",
    "    def sample(self, batch_size, seed=None):\n",
    "        if seed is None:\n",
    "            z = torch.randn((batch_size, self.input_size), device=self.device)\n",
    "        else:\n",
    "            gen = torch.Generator(device=self.device).manual_seed(seed)\n",
    "            z = torch.empty((batch_size, self.input_size), device=self.device).normal_(generator=gen)\n",
    "        return z\n",
    "\n",
    "    def generate(self, x):\n",
    "        return self.generator(x)\n",
    "\n",
    "    def forward(self, originals):\n",
    "        # generate\n",
    "        z = self.sample(originals.shape[0])\n",
    "        generated = self.generate(z)\n",
    "\n",
    "        # discriminate\n",
    "        logits_originals = self.discriminator(originals)\n",
    "        logits_generated = self.discriminator(generated)\n",
    "\n",
    "        return generated, logits_originals, logits_generated\n",
    "\n",
    "    def configure_optimizers(self):\n",
    "        if isinstance(self.learning_rate, tuple):\n",
    "            lr_generator, lr_discriminator = self.learning_rate\n",
    "        else:\n",
    "            lr_generator = lr_discriminator = self.learning_rate\n",
    "\n",
    "        if isinstance(self.lr_decay, tuple):\n",
    "            lr_decay_generator, lr_decay_discriminator = self.lr_decay\n",
    "        else:\n",
    "            lr_decay_generator = lr_decay_discriminator = self.lr_decay\n",
    "\n",
    "        optimizer_generator = self.optim(self.generator.parameters(), lr=lr_generator)\n",
    "        optimizer_discriminator = self.optim(self.discriminator.parameters(), lr=lr_discriminator)\n",
    "\n",
    "        scheduler_generator = {\n",
    "            'scheduler': torch.optim.lr_scheduler.ExponentialLR(optimizer_generator, gamma=lr_decay_generator),\n",
    "        }\n",
    "        scheduler_discriminator = {\n",
    "            'scheduler': torch.optim.lr_scheduler.ExponentialLR(optimizer_discriminator, gamma=lr_decay_discriminator),\n",
    "        }\n",
    "\n",
    "        return (\n",
    "            [\n",
    "                optimizer_generator,\n",
    "                optimizer_discriminator\n",
    "            ],\n",
    "            [\n",
    "                scheduler_discriminator,\n",
    "                scheduler_discriminator\n",
    "            ]\n",
    "        )\n",
    "\n",
    "\n",
    "    def training_step(self, batch, batch_idx):\n",
    "        optimizer_generator, optimizer_discriminator = self.optimizers()\n",
    "        #self.toggle_optimizer(optimizer_encoder)\n",
    "        #self.toggle_optimizer(optimizer_decoder)\n",
    "        #self.toggle_optimizer(optimizer_discriminator)\n",
    "        x, birdname, file = batch\n",
    "        generated, logits_originals, logits_generated = self(x)\n",
    "        loss_discriminator, loss_generator, loss_discriminator_samples, loss_discriminator_original = self.criterion(logits_generated, logits_originals)\n",
    "\n",
    "        optimizer_generator.zero_grad()\n",
    "        optimizer_discriminator.zero_grad()\n",
    "\n",
    "        # we apply the loss to the generator and then prevent it from being affected by other losses\n",
    "        loss_generator.backward(retain_graph=True)\n",
    "        for group in optimizer_generator.param_groups:\n",
    "            for param in group['params']:\n",
    "                param.requires_grad = False\n",
    "\n",
    "        # we reset the discriminator that has been affected by the generator's loss\n",
    "        optimizer_discriminator.zero_grad()\n",
    "\n",
    "        loss_discriminator.backward()\n",
    "\n",
    "        if self.prev_disc_loss is None or self.prev_disc_loss < self.generator_too_good:\n",
    "            optimizer_generator.step()\n",
    "            self.log('train/active/generator', 1, on_epoch=False, on_step=True, batch_size=x.shape[0])\n",
    "        else:\n",
    "            self.log('train/active/generator', 0, on_epoch=False, on_step=True, batch_size=x.shape[0])\n",
    "        if self.prev_disc_loss is None or self.prev_disc_loss > self.discriminator_too_good:\n",
    "            optimizer_discriminator.step()\n",
    "            self.log('train/active/discriminator', 1, on_epoch=False, on_step=True, batch_size=x.shape[0])\n",
    "        else:\n",
    "            self.log('train/active/discriminator', 0, on_epoch=False, on_step=True, batch_size=x.shape[0])\n",
    "\n",
    "        self.prev_disc_loss = loss_discriminator.detach()\n",
    "\n",
    "        # resettings things to thier normal states\n",
    "        for group in optimizer_generator.param_groups:\n",
    "            for param in group['params']:\n",
    "                param.requires_grad = True\n",
    "\n",
    "        self.log('train/loss_generator', loss_generator, on_epoch=True, on_step=True, batch_size=x.shape[0])\n",
    "        self.log('train/loss_discriminator', loss_discriminator, on_epoch=True, on_step=True, batch_size=x.shape[0])\n",
    "\n",
    "        self.log('train/loss_discriminator_samples', loss_discriminator_samples, on_epoch=True, on_step=True, batch_size=x.shape[0])\n",
    "        self.log('train/loss_discriminator_original', loss_discriminator_original, on_epoch=True, on_step=True, batch_size=x.shape[0])\n",
    "\n",
    "        tensorboard = self.logger.experiment\n",
    "\n",
    "        tensorboard.add_histogram(\n",
    "            \"train/pred_originals\",\n",
    "            F.sigmoid(logits_originals),\n",
    "            self.trainer.num_training_batches * self.current_epoch + batch_idx\n",
    "        )\n",
    "\n",
    "        tensorboard.add_histogram(\n",
    "            \"trian/pred_generated\",\n",
    "            F.sigmoid(logits_generated),\n",
    "            self.trainer.num_training_batches* self.current_epoch + batch_idx\n",
    "        )\n",
    "\n",
    "    def validation_step(self, batch, batch_idx):\n",
    "        x, birdname, file = batch\n",
    "        generated, logits_originals, logits_generated = self(x)\n",
    "        loss_discriminator, loss_generator, loss_discriminator_samples, loss_discriminator_original = self.criterion(logits_generated, logits_originals)\n",
    "\n",
    "        self.log('validation/loss_generator', loss_generator, on_epoch=True, on_step=True, batch_size=x.shape[0])\n",
    "        self.log('validation/loss_discriminator', loss_discriminator, on_epoch=True, on_step=False, batch_size=x.shape[0])\n",
    "\n",
    "        self.log('validation/loss_discriminator_samples', loss_discriminator_samples, on_epoch=True, on_step=True, batch_size=x.shape[0])\n",
    "        self.log('validation/loss_discriminator_original', loss_discriminator_original, on_epoch=True, on_step=True, batch_size=x.shape[0])\n",
    "\n",
    "\n",
    "        tensorboard = self.logger.experiment\n",
    "\n",
    "        tensorboard.add_histogram(\n",
    "            \"validation/pred_originals\",\n",
    "            F.sigmoid(logits_originals),\n",
    "            self.trainer.num_val_batches[0] * self.current_epoch + batch_idx\n",
    "        )\n",
    "        tensorboard.add_histogram(\n",
    "            \"validation/pred_generated\",\n",
    "            F.sigmoid(logits_generated),\n",
    "            self.trainer.num_val_batches[0] * self.current_epoch + batch_idx\n",
    "        )\n",
    "\n",
    "    def generate_specs(self, n=None):\n",
    "        if n is None:\n",
    "            n = self.trainer.datamodule.batch_size\n",
    "        z = self.sample(n, seed=0)\n",
    "        specs = self.generate(z)\n",
    "\n",
    "        return self.trainer.datamodule.denormalize(specs[:, 0])\n",
    "\n",
    "    def spec_to_img(self, spec):\n",
    "        fig, ax = plt.subplots()\n",
    "        img = librosa.display.specshow(spec, x_axis='time', y_axis='mel', sr=32000, ax=ax)\n",
    "        fig.colorbar(img, ax=ax, format='%+2.0f dB')\n",
    "        ax.set(title='Mel-frequency spectrogram')\n",
    "\n",
    "        buffer = io.BytesIO()\n",
    "        plt.savefig(buffer, format='png')\n",
    "        buffer.seek(0)\n",
    "\n",
    "        plt.close(fig)\n",
    "        image = Image.open(buffer)\n",
    "        image = image.convert('RGB')\n",
    "        image_tensor = torch.tensor(np.array(image)).permute(2, 0, 1)  # Convert to tensor and adjust dimensions\n",
    "\n",
    "        return image_tensor\n",
    "\n",
    "    def on_validation_end(self):\n",
    "        tensorboard = self.logger.experiment\n",
    "\n",
    "        specs = self.generate_specs(self.generate_on_epoch)\n",
    "        for i, spec in enumerate(specs):\n",
    "            tensorboard.add_image(f\"generated_spectrogram_{i}\", self.spec_to_img(spec), self.global_step)\n",
    "            audio = librosa.feature.inverse.mel_to_audio(spec)\n",
    "            tensorboard.add_audio(f\"generated_audio_{i}\", audio, self.global_step, 32000)\n",
    "\n",
    "    def on_train_epoch_end(self):\n",
    "        for scheduler in self.lr_schedulers():\n",
    "            scheduler.step()\n",
    "\n",
    "    def on_train_start(self):\n",
    "        self.logger.log_hyperparams(self.hparams)\n"
   ]
  },
  {
   "cell_type": "code",
   "execution_count": 8,
   "id": "1d3d60e7-0d75-4fdd-96a5-ac2fb2194352",
   "metadata": {
    "execution": {
     "iopub.execute_input": "2024-03-14T21:10:12.649858Z",
     "iopub.status.busy": "2024-03-14T21:10:12.649626Z",
     "iopub.status.idle": "2024-03-14T21:10:12.922495Z",
     "shell.execute_reply": "2024-03-14T21:10:12.921810Z",
     "shell.execute_reply.started": "2024-03-14T21:10:12.649832Z"
    }
   },
   "outputs": [
    {
     "name": "stderr",
     "output_type": "stream",
     "text": [
      "Seed set to 0\n"
     ]
    }
   ],
   "source": [
    "seed = 0\n",
    "num_epochs = 100\n",
    "\n",
    "pl.seed_everything(seed, workers=True)\n",
    "\n",
    "model = GAN(\n",
    "    img_channels=1,\n",
    "    img_size=256,\n",
    "    input_size=8192,\n",
    "    layers=[32, 64, 128, 256, 256],\n",
    "    learning_rate=1e-4,\n",
    "    lr_decay=(1/100)**(1/num_epochs),\n",
    "    seed=seed,\n",
    "    generator_too_good=.65,\n",
    "    discriminator_too_good=.5,\n",
    ")"
   ]
  },
  {
   "cell_type": "markdown",
   "id": "2e185172-2f0d-41c1-9d7d-a75d9615e518",
   "metadata": {},
   "source": [
    "## Training"
   ]
  },
  {
   "cell_type": "code",
   "execution_count": 9,
   "id": "fd7cdfa7-4b05-42ae-9dcd-6337b6bf751c",
   "metadata": {
    "execution": {
     "iopub.execute_input": "2024-03-14T21:10:12.923654Z",
     "iopub.status.busy": "2024-03-14T21:10:12.923139Z",
     "iopub.status.idle": "2024-03-14T22:14:47.525489Z",
     "shell.execute_reply": "2024-03-14T22:14:47.524603Z",
     "shell.execute_reply.started": "2024-03-14T21:10:12.923615Z"
    }
   },
   "outputs": [
    {
     "name": "stderr",
     "output_type": "stream",
     "text": [
      "GPU available: True (cuda), used: True\n",
      "TPU available: False, using: 0 TPU cores\n",
      "IPU available: False, using: 0 IPUs\n",
      "HPU available: False, using: 0 HPUs\n",
      "[codecarbon INFO @ 22:10:13] [setup] RAM Tracking...\n",
      "[codecarbon INFO @ 22:10:13] [setup] GPU Tracking...\n",
      "[codecarbon INFO @ 22:10:13] Tracking Nvidia GPU via pynvml\n",
      "[codecarbon INFO @ 22:10:13] [setup] CPU Tracking...\n",
      "[codecarbon WARNING @ 22:10:13] No CPU tracking mode found. Falling back on CPU constant mode.\n",
      "[codecarbon INFO @ 22:10:14] CPU Model on constant consumption mode: Intel(R) Core(TM) i7-9750H CPU @ 2.60GHz\n",
      "[codecarbon INFO @ 22:10:14] >>> Tracker's metadata:\n",
      "[codecarbon INFO @ 22:10:14]   Platform system: Linux-6.6.10-76060610-generic-x86_64-with-glibc2.35\n",
      "[codecarbon INFO @ 22:10:14]   Python version: 3.10.13\n",
      "[codecarbon INFO @ 22:10:14]   CodeCarbon version: 2.2.2\n",
      "[codecarbon INFO @ 22:10:14]   Available RAM : 15.472 GB\n",
      "[codecarbon INFO @ 22:10:14]   CPU count: 12\n",
      "[codecarbon INFO @ 22:10:14]   CPU model: Intel(R) Core(TM) i7-9750H CPU @ 2.60GHz\n",
      "[codecarbon INFO @ 22:10:14]   GPU count: 1\n",
      "[codecarbon INFO @ 22:10:14]   GPU model: 1 x NVIDIA GeForce RTX 2060\n",
      "LOCAL_RANK: 0 - CUDA_VISIBLE_DEVICES: [0]\n",
      "\n",
      "  | Name          | Type       | Params\n",
      "---------------------------------------------\n",
      "0 | generator     | Sequential | 34.5 M\n",
      "1 | discriminator | Sequential | 982 K \n",
      "2 | criterion     | GANLoss    | 0     \n",
      "---------------------------------------------\n",
      "35.5 M    Trainable params\n",
      "0         Non-trainable params\n",
      "35.5 M    Total params\n",
      "142.073   Total estimated model params size (MB)\n"
     ]
    },
    {
     "data": {
      "application/vnd.jupyter.widget-view+json": {
       "model_id": "",
       "version_major": 2,
       "version_minor": 0
      },
      "text/plain": [
       "Sanity Checking: |                                        | 0/? [00:00<?, ?it/s]"
      ]
     },
     "metadata": {},
     "output_type": "display_data"
    },
    {
     "name": "stderr",
     "output_type": "stream",
     "text": [
      "/home/mateo/mambaforge/envs/ml/lib/python3.10/site-packages/torch/nn/modules/conv.py:952: UserWarning: Applied workaround for CuDNN issue, install nvrtc.so (Triggered internally at /opt/conda/conda-bld/pytorch_1699449181202/work/aten/src/ATen/native/cudnn/Conv_v8.cpp:80.)\n",
      "  return F.conv_transpose2d(\n"
     ]
    },
    {
     "data": {
      "application/vnd.jupyter.widget-view+json": {
       "model_id": "f1f361c5fff948ac9d66f1d0a28f2af1",
       "version_major": 2,
       "version_minor": 0
      },
      "text/plain": [
       "Training: |                                               | 0/? [00:00<?, ?it/s]"
      ]
     },
     "metadata": {},
     "output_type": "display_data"
    },
    {
     "name": "stderr",
     "output_type": "stream",
     "text": [
      "[codecarbon INFO @ 22:10:32] Energy consumed for RAM : 0.000024 kWh. RAM Power : 5.8020172119140625 W\n",
      "[codecarbon INFO @ 22:10:32] Energy consumed for all GPUs : 0.000335 kWh. Total GPU Power : 80.45100000000001 W\n",
      "[codecarbon INFO @ 22:10:32] Energy consumed for all CPUs : 0.000094 kWh. Total CPU Power : 22.5 W\n",
      "[codecarbon INFO @ 22:10:32] 0.000453 kWh of electricity used since the beginning.\n",
      "[codecarbon INFO @ 22:10:47] Energy consumed for RAM : 0.000048 kWh. RAM Power : 5.8020172119140625 W\n",
      "[codecarbon INFO @ 22:10:47] Energy consumed for all GPUs : 0.000670 kWh. Total GPU Power : 80.399 W\n",
      "[codecarbon INFO @ 22:10:47] Energy consumed for all CPUs : 0.000188 kWh. Total CPU Power : 22.5 W\n",
      "[codecarbon INFO @ 22:10:47] 0.000906 kWh of electricity used since the beginning.\n"
     ]
    },
    {
     "data": {
      "application/vnd.jupyter.widget-view+json": {
       "model_id": "",
       "version_major": 2,
       "version_minor": 0
      },
      "text/plain": [
       "Validation: |                                             | 0/? [00:00<?, ?it/s]"
      ]
     },
     "metadata": {},
     "output_type": "display_data"
    },
    {
     "name": "stderr",
     "output_type": "stream",
     "text": [
      "[codecarbon INFO @ 22:11:02] Energy consumed for RAM : 0.000073 kWh. RAM Power : 5.8020172119140625 W\n",
      "[codecarbon INFO @ 22:11:02] Energy consumed for all GPUs : 0.001014 kWh. Total GPU Power : 82.51800000000001 W\n",
      "[codecarbon INFO @ 22:11:02] Energy consumed for all CPUs : 0.000281 kWh. Total CPU Power : 22.5 W\n",
      "[codecarbon INFO @ 22:11:02] 0.001368 kWh of electricity used since the beginning.\n",
      "[codecarbon INFO @ 22:11:17] Energy consumed for RAM : 0.000097 kWh. RAM Power : 5.8020172119140625 W\n",
      "[codecarbon INFO @ 22:11:17] Energy consumed for all GPUs : 0.001349 kWh. Total GPU Power : 80.59 W\n",
      "[codecarbon INFO @ 22:11:17] Energy consumed for all CPUs : 0.000375 kWh. Total CPU Power : 22.5 W\n",
      "[codecarbon INFO @ 22:11:17] 0.001821 kWh of electricity used since the beginning.\n"
     ]
    },
    {
     "data": {
      "application/vnd.jupyter.widget-view+json": {
       "model_id": "",
       "version_major": 2,
       "version_minor": 0
      },
      "text/plain": [
       "Validation: |                                             | 0/? [00:00<?, ?it/s]"
      ]
     },
     "metadata": {},
     "output_type": "display_data"
    },
    {
     "name": "stderr",
     "output_type": "stream",
     "text": [
      "[codecarbon INFO @ 22:11:32] Energy consumed for RAM : 0.000121 kWh. RAM Power : 5.8020172119140625 W\n",
      "[codecarbon INFO @ 22:11:32] Energy consumed for all GPUs : 0.001584 kWh. Total GPU Power : 56.229 W\n",
      "[codecarbon INFO @ 22:11:32] Energy consumed for all CPUs : 0.000469 kWh. Total CPU Power : 22.5 W\n",
      "[codecarbon INFO @ 22:11:32] 0.002173 kWh of electricity used since the beginning.\n",
      "[codecarbon INFO @ 22:11:47] Energy consumed for RAM : 0.000145 kWh. RAM Power : 5.8020172119140625 W\n",
      "[codecarbon INFO @ 22:11:47] Energy consumed for all GPUs : 0.001875 kWh. Total GPU Power : 70.051 W\n",
      "[codecarbon INFO @ 22:11:47] Energy consumed for all CPUs : 0.000563 kWh. Total CPU Power : 22.5 W\n",
      "[codecarbon INFO @ 22:11:47] 0.002583 kWh of electricity used since the beginning.\n"
     ]
    },
    {
     "data": {
      "application/vnd.jupyter.widget-view+json": {
       "model_id": "",
       "version_major": 2,
       "version_minor": 0
      },
      "text/plain": [
       "Validation: |                                             | 0/? [00:00<?, ?it/s]"
      ]
     },
     "metadata": {},
     "output_type": "display_data"
    },
    {
     "name": "stderr",
     "output_type": "stream",
     "text": [
      "[codecarbon INFO @ 22:12:02] Energy consumed for RAM : 0.000169 kWh. RAM Power : 5.8020172119140625 W\n",
      "[codecarbon INFO @ 22:12:02] Energy consumed for all GPUs : 0.002016 kWh. Total GPU Power : 33.877 W\n",
      "[codecarbon INFO @ 22:12:02] Energy consumed for all CPUs : 0.000656 kWh. Total CPU Power : 22.5 W\n",
      "[codecarbon INFO @ 22:12:02] 0.002842 kWh of electricity used since the beginning.\n",
      "[codecarbon INFO @ 22:12:17] Energy consumed for RAM : 0.000193 kWh. RAM Power : 5.8020172119140625 W\n",
      "[codecarbon INFO @ 22:12:17] Energy consumed for all GPUs : 0.002275 kWh. Total GPU Power : 62.091 W\n",
      "[codecarbon INFO @ 22:12:17] Energy consumed for all CPUs : 0.000750 kWh. Total CPU Power : 22.5 W\n",
      "[codecarbon INFO @ 22:12:17] 0.003218 kWh of electricity used since the beginning.\n",
      "[codecarbon INFO @ 22:12:32] Energy consumed for RAM : 0.000217 kWh. RAM Power : 5.8020172119140625 W\n",
      "[codecarbon INFO @ 22:12:32] Energy consumed for all GPUs : 0.002534 kWh. Total GPU Power : 62.293 W\n",
      "[codecarbon INFO @ 22:12:32] Energy consumed for all CPUs : 0.000844 kWh. Total CPU Power : 22.5 W\n",
      "[codecarbon INFO @ 22:12:32] 0.003596 kWh of electricity used since the beginning.\n"
     ]
    },
    {
     "data": {
      "application/vnd.jupyter.widget-view+json": {
       "model_id": "",
       "version_major": 2,
       "version_minor": 0
      },
      "text/plain": [
       "Validation: |                                             | 0/? [00:00<?, ?it/s]"
      ]
     },
     "metadata": {},
     "output_type": "display_data"
    },
    {
     "name": "stderr",
     "output_type": "stream",
     "text": [
      "[codecarbon INFO @ 22:12:47] Energy consumed for RAM : 0.000242 kWh. RAM Power : 5.8020172119140625 W\n",
      "[codecarbon INFO @ 22:12:47] Energy consumed for all GPUs : 0.002838 kWh. Total GPU Power : 72.949 W\n",
      "[codecarbon INFO @ 22:12:47] Energy consumed for all CPUs : 0.000938 kWh. Total CPU Power : 22.5 W\n",
      "[codecarbon INFO @ 22:12:47] 0.004017 kWh of electricity used since the beginning.\n",
      "[codecarbon INFO @ 22:13:02] Energy consumed for RAM : 0.000266 kWh. RAM Power : 5.8020172119140625 W\n",
      "[codecarbon INFO @ 22:13:02] Energy consumed for all GPUs : 0.003088 kWh. Total GPU Power : 60.034 W\n",
      "[codecarbon INFO @ 22:13:02] Energy consumed for all CPUs : 0.001031 kWh. Total CPU Power : 22.5 W\n",
      "[codecarbon INFO @ 22:13:02] 0.004385 kWh of electricity used since the beginning.\n"
     ]
    },
    {
     "data": {
      "application/vnd.jupyter.widget-view+json": {
       "model_id": "",
       "version_major": 2,
       "version_minor": 0
      },
      "text/plain": [
       "Validation: |                                             | 0/? [00:00<?, ?it/s]"
      ]
     },
     "metadata": {},
     "output_type": "display_data"
    },
    {
     "name": "stderr",
     "output_type": "stream",
     "text": [
      "[codecarbon INFO @ 22:13:17] Energy consumed for RAM : 0.000290 kWh. RAM Power : 5.8020172119140625 W\n",
      "[codecarbon INFO @ 22:13:17] Energy consumed for all GPUs : 0.003302 kWh. Total GPU Power : 51.34100000000001 W\n",
      "[codecarbon INFO @ 22:13:17] Energy consumed for all CPUs : 0.001125 kWh. Total CPU Power : 22.5 W\n",
      "[codecarbon INFO @ 22:13:17] 0.004717 kWh of electricity used since the beginning.\n"
     ]
    },
    {
     "name": "stdout",
     "output_type": "stream",
     "text": [
      "warning: audio amplitude out of range, auto clipped.\n"
     ]
    },
    {
     "name": "stderr",
     "output_type": "stream",
     "text": [
      "[codecarbon INFO @ 22:13:32] Energy consumed for RAM : 0.000314 kWh. RAM Power : 5.8020172119140625 W\n",
      "[codecarbon INFO @ 22:13:32] Energy consumed for all GPUs : 0.003541 kWh. Total GPU Power : 57.433 W\n",
      "[codecarbon INFO @ 22:13:32] Energy consumed for all CPUs : 0.001219 kWh. Total CPU Power : 22.5 W\n",
      "[codecarbon INFO @ 22:13:32] 0.005074 kWh of electricity used since the beginning.\n",
      "[codecarbon INFO @ 22:13:47] Energy consumed for RAM : 0.000338 kWh. RAM Power : 5.8020172119140625 W\n",
      "[codecarbon INFO @ 22:13:47] Energy consumed for all GPUs : 0.003790 kWh. Total GPU Power : 59.66300000000001 W\n",
      "[codecarbon INFO @ 22:13:47] Energy consumed for all CPUs : 0.001313 kWh. Total CPU Power : 22.5 W\n",
      "[codecarbon INFO @ 22:13:47] 0.005441 kWh of electricity used since the beginning.\n"
     ]
    },
    {
     "data": {
      "application/vnd.jupyter.widget-view+json": {
       "model_id": "",
       "version_major": 2,
       "version_minor": 0
      },
      "text/plain": [
       "Validation: |                                             | 0/? [00:00<?, ?it/s]"
      ]
     },
     "metadata": {},
     "output_type": "display_data"
    },
    {
     "name": "stderr",
     "output_type": "stream",
     "text": [
      "[codecarbon INFO @ 22:14:02] Energy consumed for RAM : 0.000362 kWh. RAM Power : 5.8020172119140625 W\n",
      "[codecarbon INFO @ 22:14:02] Energy consumed for all GPUs : 0.003931 kWh. Total GPU Power : 33.847 W\n",
      "[codecarbon INFO @ 22:14:02] Energy consumed for all CPUs : 0.001406 kWh. Total CPU Power : 22.5 W\n",
      "[codecarbon INFO @ 22:14:02] 0.005699 kWh of electricity used since the beginning.\n",
      "[codecarbon INFO @ 22:14:17] Energy consumed for RAM : 0.000387 kWh. RAM Power : 5.8020172119140625 W\n",
      "[codecarbon INFO @ 22:14:17] Energy consumed for all GPUs : 0.004183 kWh. Total GPU Power : 60.705000000000005 W\n",
      "[codecarbon INFO @ 22:14:17] Energy consumed for all CPUs : 0.001500 kWh. Total CPU Power : 22.5 W\n",
      "[codecarbon INFO @ 22:14:17] 0.006070 kWh of electricity used since the beginning.\n",
      "[codecarbon INFO @ 22:14:32] Energy consumed for RAM : 0.000411 kWh. RAM Power : 5.8020172119140625 W\n",
      "[codecarbon INFO @ 22:14:32] Energy consumed for all GPUs : 0.004418 kWh. Total GPU Power : 56.126000000000005 W\n",
      "[codecarbon INFO @ 22:14:32] Energy consumed for all CPUs : 0.001595 kWh. Total CPU Power : 22.5 W\n",
      "[codecarbon INFO @ 22:14:32] 0.006423 kWh of electricity used since the beginning.\n"
     ]
    },
    {
     "data": {
      "application/vnd.jupyter.widget-view+json": {
       "model_id": "",
       "version_major": 2,
       "version_minor": 0
      },
      "text/plain": [
       "Validation: |                                             | 0/? [00:00<?, ?it/s]"
      ]
     },
     "metadata": {},
     "output_type": "display_data"
    },
    {
     "name": "stderr",
     "output_type": "stream",
     "text": [
      "[codecarbon INFO @ 22:14:47] Energy consumed for RAM : 0.000435 kWh. RAM Power : 5.8020172119140625 W\n",
      "[codecarbon INFO @ 22:14:47] Energy consumed for all GPUs : 0.004654 kWh. Total GPU Power : 57.120000000000005 W\n",
      "[codecarbon INFO @ 22:14:47] Energy consumed for all CPUs : 0.001688 kWh. Total CPU Power : 22.5 W\n",
      "[codecarbon INFO @ 22:14:47] 0.006776 kWh of electricity used since the beginning.\n",
      "[codecarbon INFO @ 22:15:02] Energy consumed for RAM : 0.000459 kWh. RAM Power : 5.8020172119140625 W\n",
      "[codecarbon INFO @ 22:15:02] Energy consumed for all GPUs : 0.004902 kWh. Total GPU Power : 59.66300000000001 W\n",
      "[codecarbon INFO @ 22:15:02] Energy consumed for all CPUs : 0.001781 kWh. Total CPU Power : 22.5 W\n",
      "[codecarbon INFO @ 22:15:02] 0.007142 kWh of electricity used since the beginning.\n"
     ]
    },
    {
     "data": {
      "application/vnd.jupyter.widget-view+json": {
       "model_id": "",
       "version_major": 2,
       "version_minor": 0
      },
      "text/plain": [
       "Validation: |                                             | 0/? [00:00<?, ?it/s]"
      ]
     },
     "metadata": {},
     "output_type": "display_data"
    },
    {
     "name": "stderr",
     "output_type": "stream",
     "text": [
      "[codecarbon INFO @ 22:15:17] Energy consumed for RAM : 0.000483 kWh. RAM Power : 5.8020172119140625 W\n",
      "[codecarbon INFO @ 22:15:17] Energy consumed for all GPUs : 0.005097 kWh. Total GPU Power : 46.498 W\n",
      "[codecarbon INFO @ 22:15:17] Energy consumed for all CPUs : 0.001876 kWh. Total CPU Power : 22.5 W\n",
      "[codecarbon INFO @ 22:15:17] 0.007455 kWh of electricity used since the beginning.\n",
      "[codecarbon INFO @ 22:15:32] Energy consumed for RAM : 0.000507 kWh. RAM Power : 5.8020172119140625 W\n",
      "[codecarbon INFO @ 22:15:32] Energy consumed for all GPUs : 0.005353 kWh. Total GPU Power : 61.749 W\n",
      "[codecarbon INFO @ 22:15:32] Energy consumed for all CPUs : 0.001969 kWh. Total CPU Power : 22.5 W\n",
      "[codecarbon INFO @ 22:15:32] 0.007829 kWh of electricity used since the beginning.\n",
      "[codecarbon INFO @ 22:15:47] Energy consumed for RAM : 0.000531 kWh. RAM Power : 5.8020172119140625 W\n",
      "[codecarbon INFO @ 22:15:47] Energy consumed for all GPUs : 0.005611 kWh. Total GPU Power : 61.941 W\n",
      "[codecarbon INFO @ 22:15:47] Energy consumed for all CPUs : 0.002063 kWh. Total CPU Power : 22.5 W\n",
      "[codecarbon INFO @ 22:15:47] 0.008205 kWh of electricity used since the beginning.\n"
     ]
    },
    {
     "data": {
      "application/vnd.jupyter.widget-view+json": {
       "model_id": "",
       "version_major": 2,
       "version_minor": 0
      },
      "text/plain": [
       "Validation: |                                             | 0/? [00:00<?, ?it/s]"
      ]
     },
     "metadata": {},
     "output_type": "display_data"
    },
    {
     "name": "stderr",
     "output_type": "stream",
     "text": [
      "[codecarbon INFO @ 22:16:02] Energy consumed for RAM : 0.000556 kWh. RAM Power : 5.8020172119140625 W\n",
      "[codecarbon INFO @ 22:16:02] Energy consumed for all GPUs : 0.005755 kWh. Total GPU Power : 34.723 W\n",
      "[codecarbon INFO @ 22:16:02] Energy consumed for all CPUs : 0.002157 kWh. Total CPU Power : 22.5 W\n",
      "[codecarbon INFO @ 22:16:02] 0.008467 kWh of electricity used since the beginning.\n",
      "[codecarbon INFO @ 22:16:17] Energy consumed for RAM : 0.000580 kWh. RAM Power : 5.8020172119140625 W\n",
      "[codecarbon INFO @ 22:16:17] Energy consumed for all GPUs : 0.005995 kWh. Total GPU Power : 57.528000000000006 W\n",
      "[codecarbon INFO @ 22:16:17] Energy consumed for all CPUs : 0.002250 kWh. Total CPU Power : 22.5 W\n",
      "[codecarbon INFO @ 22:16:17] 0.008825 kWh of electricity used since the beginning.\n",
      "[codecarbon INFO @ 22:16:32] Energy consumed for RAM : 0.000604 kWh. RAM Power : 5.8020172119140625 W\n",
      "[codecarbon INFO @ 22:16:32] Energy consumed for all GPUs : 0.006253 kWh. Total GPU Power : 62.043 W\n",
      "[codecarbon INFO @ 22:16:32] Energy consumed for all CPUs : 0.002344 kWh. Total CPU Power : 22.5 W\n",
      "[codecarbon INFO @ 22:16:32] 0.009201 kWh of electricity used since the beginning.\n"
     ]
    },
    {
     "data": {
      "application/vnd.jupyter.widget-view+json": {
       "model_id": "",
       "version_major": 2,
       "version_minor": 0
      },
      "text/plain": [
       "Validation: |                                             | 0/? [00:00<?, ?it/s]"
      ]
     },
     "metadata": {},
     "output_type": "display_data"
    },
    {
     "name": "stderr",
     "output_type": "stream",
     "text": [
      "[codecarbon INFO @ 22:16:47] Energy consumed for RAM : 0.000628 kWh. RAM Power : 5.8020172119140625 W\n",
      "[codecarbon INFO @ 22:16:47] Energy consumed for all GPUs : 0.006497 kWh. Total GPU Power : 58.626 W\n",
      "[codecarbon INFO @ 22:16:47] Energy consumed for all CPUs : 0.002438 kWh. Total CPU Power : 22.5 W\n",
      "[codecarbon INFO @ 22:16:47] 0.009563 kWh of electricity used since the beginning.\n",
      "[codecarbon INFO @ 22:17:02] Energy consumed for RAM : 0.000652 kWh. RAM Power : 5.8020172119140625 W\n",
      "[codecarbon INFO @ 22:17:02] Energy consumed for all GPUs : 0.006736 kWh. Total GPU Power : 57.357 W\n",
      "[codecarbon INFO @ 22:17:02] Energy consumed for all CPUs : 0.002531 kWh. Total CPU Power : 22.5 W\n",
      "[codecarbon INFO @ 22:17:02] 0.009920 kWh of electricity used since the beginning.\n",
      "[codecarbon INFO @ 22:17:17] Energy consumed for RAM : 0.000676 kWh. RAM Power : 5.8020172119140625 W\n",
      "[codecarbon INFO @ 22:17:17] Energy consumed for all GPUs : 0.006884 kWh. Total GPU Power : 35.355000000000004 W\n",
      "[codecarbon INFO @ 22:17:17] Energy consumed for all CPUs : 0.002626 kWh. Total CPU Power : 22.5 W\n",
      "[codecarbon INFO @ 22:17:17] 0.010186 kWh of electricity used since the beginning.\n"
     ]
    },
    {
     "data": {
      "application/vnd.jupyter.widget-view+json": {
       "model_id": "",
       "version_major": 2,
       "version_minor": 0
      },
      "text/plain": [
       "Validation: |                                             | 0/? [00:00<?, ?it/s]"
      ]
     },
     "metadata": {},
     "output_type": "display_data"
    },
    {
     "name": "stderr",
     "output_type": "stream",
     "text": [
      "[codecarbon INFO @ 22:17:32] Energy consumed for RAM : 0.000700 kWh. RAM Power : 5.8020172119140625 W\n",
      "[codecarbon INFO @ 22:17:32] Energy consumed for all GPUs : 0.007127 kWh. Total GPU Power : 58.992000000000004 W\n",
      "[codecarbon INFO @ 22:17:32] Energy consumed for all CPUs : 0.002719 kWh. Total CPU Power : 22.5 W\n",
      "[codecarbon INFO @ 22:17:32] 0.010546 kWh of electricity used since the beginning.\n",
      "[codecarbon INFO @ 22:17:47] Energy consumed for RAM : 0.000724 kWh. RAM Power : 5.8020172119140625 W\n",
      "[codecarbon INFO @ 22:17:47] Energy consumed for all GPUs : 0.007371 kWh. Total GPU Power : 58.605000000000004 W\n",
      "[codecarbon INFO @ 22:17:47] Energy consumed for all CPUs : 0.002812 kWh. Total CPU Power : 22.5 W\n",
      "[codecarbon INFO @ 22:17:47] 0.010908 kWh of electricity used since the beginning.\n",
      "[codecarbon INFO @ 22:17:17] 0.010186 kWh of electricity used since the beginning.\n"
     ]
    },
    {
     "data": {
      "application/vnd.jupyter.widget-view+json": {
       "model_id": "",
       "version_major": 2,
       "version_minor": 0
      },
      "text/plain": [
       "Validation: |                                             | 0/? [00:00<?, ?it/s]"
      ]
     },
     "metadata": {},
     "output_type": "display_data"
    },
    {
     "name": "stderr",
     "output_type": "stream",
     "text": [
      "[codecarbon INFO @ 22:18:02] Energy consumed for RAM : 0.000749 kWh. RAM Power : 5.8020172119140625 W\n",
      "[codecarbon INFO @ 22:18:02] Energy consumed for all GPUs : 0.007519 kWh. Total GPU Power : 35.464000000000006 W\n",
      "[codecarbon INFO @ 22:18:02] Energy consumed for all CPUs : 0.002907 kWh. Total CPU Power : 22.5 W\n",
      "[codecarbon INFO @ 22:18:02] 0.011175 kWh of electricity used since the beginning.\n",
      "[codecarbon INFO @ 22:18:17] Energy consumed for RAM : 0.000772 kWh. RAM Power : 5.8020172119140625 W\n",
      "[codecarbon INFO @ 22:18:17] Energy consumed for all GPUs : 0.007769 kWh. Total GPU Power : 60.765 W\n",
      "[codecarbon INFO @ 22:18:17] Energy consumed for all CPUs : 0.003000 kWh. Total CPU Power : 22.5 W\n",
      "[codecarbon INFO @ 22:18:17] 0.011541 kWh of electricity used since the beginning.\n",
      "[codecarbon INFO @ 22:18:32] Energy consumed for RAM : 0.000797 kWh. RAM Power : 5.8020172119140625 W\n",
      "[codecarbon INFO @ 22:18:32] Energy consumed for all GPUs : 0.008006 kWh. Total GPU Power : 56.911 W\n",
      "[codecarbon INFO @ 22:18:32] Energy consumed for all CPUs : 0.003094 kWh. Total CPU Power : 22.5 W\n",
      "[codecarbon INFO @ 22:18:32] 0.011896 kWh of electricity used since the beginning.\n"
     ]
    },
    {
     "data": {
      "application/vnd.jupyter.widget-view+json": {
       "model_id": "",
       "version_major": 2,
       "version_minor": 0
      },
      "text/plain": [
       "Validation: |                                             | 0/? [00:00<?, ?it/s]"
      ]
     },
     "metadata": {},
     "output_type": "display_data"
    },
    {
     "name": "stderr",
     "output_type": "stream",
     "text": [
      "[codecarbon INFO @ 22:18:47] Energy consumed for RAM : 0.000821 kWh. RAM Power : 5.8020172119140625 W\n",
      "[codecarbon INFO @ 22:18:47] Energy consumed for all GPUs : 0.008151 kWh. Total GPU Power : 34.814 W\n",
      "[codecarbon INFO @ 22:18:47] Energy consumed for all CPUs : 0.003187 kWh. Total CPU Power : 22.5 W\n",
      "[codecarbon INFO @ 22:18:47] 0.012159 kWh of electricity used since the beginning.\n",
      "[codecarbon INFO @ 22:19:02] Energy consumed for RAM : 0.000845 kWh. RAM Power : 5.8020172119140625 W\n",
      "[codecarbon INFO @ 22:19:02] Energy consumed for all GPUs : 0.008414 kWh. Total GPU Power : 63.23100000000001 W\n",
      "[codecarbon INFO @ 22:19:02] Energy consumed for all CPUs : 0.003281 kWh. Total CPU Power : 22.5 W\n",
      "[codecarbon INFO @ 22:19:02] 0.012540 kWh of electricity used since the beginning.\n",
      "[codecarbon INFO @ 22:19:17] Energy consumed for RAM : 0.000869 kWh. RAM Power : 5.8020172119140625 W\n",
      "[codecarbon INFO @ 22:19:17] Energy consumed for all GPUs : 0.008664 kWh. Total GPU Power : 60.065 W\n",
      "[codecarbon INFO @ 22:19:17] Energy consumed for all CPUs : 0.003375 kWh. Total CPU Power : 22.5 W\n",
      "[codecarbon INFO @ 22:19:17] 0.012908 kWh of electricity used since the beginning.\n"
     ]
    },
    {
     "data": {
      "application/vnd.jupyter.widget-view+json": {
       "model_id": "",
       "version_major": 2,
       "version_minor": 0
      },
      "text/plain": [
       "Validation: |                                             | 0/? [00:00<?, ?it/s]"
      ]
     },
     "metadata": {},
     "output_type": "display_data"
    },
    {
     "name": "stderr",
     "output_type": "stream",
     "text": [
      "[codecarbon INFO @ 22:19:32] Energy consumed for RAM : 0.000893 kWh. RAM Power : 5.8020172119140625 W\n",
      "[codecarbon INFO @ 22:19:32] Energy consumed for all GPUs : 0.008808 kWh. Total GPU Power : 34.456 W\n",
      "[codecarbon INFO @ 22:19:32] Energy consumed for all CPUs : 0.003469 kWh. Total CPU Power : 22.5 W\n",
      "[codecarbon INFO @ 22:19:32] 0.013170 kWh of electricity used since the beginning.\n",
      "[codecarbon INFO @ 22:19:47] Energy consumed for RAM : 0.000917 kWh. RAM Power : 5.8020172119140625 W\n",
      "[codecarbon INFO @ 22:19:47] Energy consumed for all GPUs : 0.009041 kWh. Total GPU Power : 56.085 W\n",
      "[codecarbon INFO @ 22:19:47] Energy consumed for all CPUs : 0.003563 kWh. Total CPU Power : 22.5 W\n",
      "[codecarbon INFO @ 22:19:47] 0.013521 kWh of electricity used since the beginning.\n",
      "[codecarbon INFO @ 22:20:02] Energy consumed for RAM : 0.000942 kWh. RAM Power : 5.8020172119140625 W\n",
      "[codecarbon INFO @ 22:20:02] Energy consumed for all GPUs : 0.009262 kWh. Total GPU Power : 52.982 W\n",
      "[codecarbon INFO @ 22:20:02] Energy consumed for all CPUs : 0.003656 kWh. Total CPU Power : 22.5 W\n",
      "[codecarbon INFO @ 22:20:02] 0.013860 kWh of electricity used since the beginning.\n"
     ]
    },
    {
     "data": {
      "application/vnd.jupyter.widget-view+json": {
       "model_id": "",
       "version_major": 2,
       "version_minor": 0
      },
      "text/plain": [
       "Validation: |                                             | 0/? [00:00<?, ?it/s]"
      ]
     },
     "metadata": {},
     "output_type": "display_data"
    },
    {
     "name": "stderr",
     "output_type": "stream",
     "text": [
      "[codecarbon INFO @ 22:20:17] Energy consumed for RAM : 0.000966 kWh. RAM Power : 5.8020172119140625 W\n",
      "[codecarbon INFO @ 22:20:17] Energy consumed for all GPUs : 0.009510 kWh. Total GPU Power : 59.52100000000001 W\n",
      "[codecarbon INFO @ 22:20:17] Energy consumed for all CPUs : 0.003750 kWh. Total CPU Power : 22.5 W\n",
      "[codecarbon INFO @ 22:20:17] 0.014226 kWh of electricity used since the beginning.\n",
      "[codecarbon INFO @ 22:20:32] Energy consumed for RAM : 0.000990 kWh. RAM Power : 5.8020172119140625 W\n",
      "[codecarbon INFO @ 22:20:32] Energy consumed for all GPUs : 0.009751 kWh. Total GPU Power : 57.887 W\n",
      "[codecarbon INFO @ 22:20:32] Energy consumed for all CPUs : 0.003844 kWh. Total CPU Power : 22.5 W\n",
      "[codecarbon INFO @ 22:20:32] 0.014584 kWh of electricity used since the beginning.\n",
      "[codecarbon INFO @ 22:20:47] Energy consumed for RAM : 0.001014 kWh. RAM Power : 5.8020172119140625 W\n",
      "[codecarbon INFO @ 22:20:47] Energy consumed for all GPUs : 0.009988 kWh. Total GPU Power : 56.813 W\n",
      "[codecarbon INFO @ 22:20:47] Energy consumed for all CPUs : 0.003937 kWh. Total CPU Power : 22.5 W\n",
      "[codecarbon INFO @ 22:20:47] 0.014939 kWh of electricity used since the beginning.\n"
     ]
    },
    {
     "data": {
      "application/vnd.jupyter.widget-view+json": {
       "model_id": "",
       "version_major": 2,
       "version_minor": 0
      },
      "text/plain": [
       "Validation: |                                             | 0/? [00:00<?, ?it/s]"
      ]
     },
     "metadata": {},
     "output_type": "display_data"
    },
    {
     "name": "stderr",
     "output_type": "stream",
     "text": [
      "[codecarbon INFO @ 22:21:02] Energy consumed for RAM : 0.001038 kWh. RAM Power : 5.8020172119140625 W\n",
      "[codecarbon INFO @ 22:21:02] Energy consumed for all GPUs : 0.010226 kWh. Total GPU Power : 57.297000000000004 W\n",
      "[codecarbon INFO @ 22:21:02] Energy consumed for all CPUs : 0.004031 kWh. Total CPU Power : 22.5 W\n",
      "[codecarbon INFO @ 22:21:02] 0.015296 kWh of electricity used since the beginning.\n",
      "[codecarbon INFO @ 22:21:17] Energy consumed for RAM : 0.001062 kWh. RAM Power : 5.8020172119140625 W\n",
      "[codecarbon INFO @ 22:21:17] Energy consumed for all GPUs : 0.010462 kWh. Total GPU Power : 56.632000000000005 W\n",
      "[codecarbon INFO @ 22:21:17] Energy consumed for all CPUs : 0.004125 kWh. Total CPU Power : 22.5 W\n",
      "[codecarbon INFO @ 22:21:17] 0.015649 kWh of electricity used since the beginning.\n"
     ]
    },
    {
     "data": {
      "application/vnd.jupyter.widget-view+json": {
       "model_id": "",
       "version_major": 2,
       "version_minor": 0
      },
      "text/plain": [
       "Validation: |                                             | 0/? [00:00<?, ?it/s]"
      ]
     },
     "metadata": {},
     "output_type": "display_data"
    },
    {
     "name": "stderr",
     "output_type": "stream",
     "text": [
      "[codecarbon INFO @ 22:21:32] Energy consumed for RAM : 0.001086 kWh. RAM Power : 5.8020172119140625 W\n",
      "[codecarbon INFO @ 22:21:32] Energy consumed for all GPUs : 0.010646 kWh. Total GPU Power : 44.188 W\n",
      "[codecarbon INFO @ 22:21:32] Energy consumed for all CPUs : 0.004219 kWh. Total CPU Power : 22.5 W\n",
      "[codecarbon INFO @ 22:21:32] 0.015951 kWh of electricity used since the beginning.\n",
      "[codecarbon INFO @ 22:21:47] Energy consumed for RAM : 0.001111 kWh. RAM Power : 5.8020172119140625 W\n",
      "[codecarbon INFO @ 22:21:47] Energy consumed for all GPUs : 0.010882 kWh. Total GPU Power : 56.602000000000004 W\n",
      "[codecarbon INFO @ 22:21:47] Energy consumed for all CPUs : 0.004312 kWh. Total CPU Power : 22.5 W\n",
      "[codecarbon INFO @ 22:21:47] 0.016305 kWh of electricity used since the beginning.\n",
      "[codecarbon INFO @ 22:22:02] Energy consumed for RAM : 0.001135 kWh. RAM Power : 5.8020172119140625 W\n",
      "[codecarbon INFO @ 22:22:02] Energy consumed for all GPUs : 0.011123 kWh. Total GPU Power : 57.925000000000004 W\n",
      "[codecarbon INFO @ 22:22:02] Energy consumed for all CPUs : 0.004406 kWh. Total CPU Power : 22.5 W\n",
      "[codecarbon INFO @ 22:22:02] 0.016664 kWh of electricity used since the beginning.\n"
     ]
    },
    {
     "data": {
      "application/vnd.jupyter.widget-view+json": {
       "model_id": "",
       "version_major": 2,
       "version_minor": 0
      },
      "text/plain": [
       "Validation: |                                             | 0/? [00:00<?, ?it/s]"
      ]
     },
     "metadata": {},
     "output_type": "display_data"
    },
    {
     "name": "stderr",
     "output_type": "stream",
     "text": [
      "[codecarbon INFO @ 22:22:17] Energy consumed for RAM : 0.001159 kWh. RAM Power : 5.8020172119140625 W\n",
      "[codecarbon INFO @ 22:22:17] Energy consumed for all GPUs : 0.011351 kWh. Total GPU Power : 54.847 W\n",
      "[codecarbon INFO @ 22:22:17] Energy consumed for all CPUs : 0.004500 kWh. Total CPU Power : 22.5 W\n",
      "[codecarbon INFO @ 22:22:17] 0.017010 kWh of electricity used since the beginning.\n",
      "[codecarbon INFO @ 22:22:32] Energy consumed for RAM : 0.001183 kWh. RAM Power : 5.8020172119140625 W\n",
      "[codecarbon INFO @ 22:22:32] Energy consumed for all GPUs : 0.011571 kWh. Total GPU Power : 52.786 W\n",
      "[codecarbon INFO @ 22:22:32] Energy consumed for all CPUs : 0.004594 kWh. Total CPU Power : 22.5 W\n",
      "[codecarbon INFO @ 22:22:32] 0.017348 kWh of electricity used since the beginning.\n",
      "[codecarbon INFO @ 22:22:47] Energy consumed for RAM : 0.001207 kWh. RAM Power : 5.8020172119140625 W\n",
      "[codecarbon INFO @ 22:22:47] Energy consumed for all GPUs : 0.011805 kWh. Total GPU Power : 56.035000000000004 W\n",
      "[codecarbon INFO @ 22:22:47] Energy consumed for all CPUs : 0.004687 kWh. Total CPU Power : 22.5 W\n",
      "[codecarbon INFO @ 22:22:47] 0.017699 kWh of electricity used since the beginning.\n"
     ]
    },
    {
     "data": {
      "application/vnd.jupyter.widget-view+json": {
       "model_id": "",
       "version_major": 2,
       "version_minor": 0
      },
      "text/plain": [
       "Validation: |                                             | 0/? [00:00<?, ?it/s]"
      ]
     },
     "metadata": {},
     "output_type": "display_data"
    },
    {
     "name": "stderr",
     "output_type": "stream",
     "text": [
      "[codecarbon INFO @ 22:23:02] Energy consumed for RAM : 0.001231 kWh. RAM Power : 5.8020172119140625 W\n",
      "[codecarbon INFO @ 22:23:02] Energy consumed for all GPUs : 0.011956 kWh. Total GPU Power : 36.223 W\n",
      "[codecarbon INFO @ 22:23:02] Energy consumed for all CPUs : 0.004782 kWh. Total CPU Power : 22.5 W\n",
      "[codecarbon INFO @ 22:23:02] 0.017970 kWh of electricity used since the beginning.\n",
      "[codecarbon INFO @ 22:23:17] Energy consumed for RAM : 0.001255 kWh. RAM Power : 5.8020172119140625 W\n",
      "[codecarbon INFO @ 22:23:17] Energy consumed for all GPUs : 0.012199 kWh. Total GPU Power : 59.013 W\n",
      "[codecarbon INFO @ 22:23:17] Energy consumed for all CPUs : 0.004875 kWh. Total CPU Power : 22.5 W\n",
      "[codecarbon INFO @ 22:23:17] 0.018329 kWh of electricity used since the beginning.\n",
      "[codecarbon INFO @ 22:23:32] Energy consumed for RAM : 0.001280 kWh. RAM Power : 5.8020172119140625 W\n",
      "[codecarbon INFO @ 22:23:32] Energy consumed for all GPUs : 0.012430 kWh. Total GPU Power : 55.50300000000001 W\n",
      "[codecarbon INFO @ 22:23:32] Energy consumed for all CPUs : 0.004969 kWh. Total CPU Power : 22.5 W\n",
      "[codecarbon INFO @ 22:23:32] 0.018678 kWh of electricity used since the beginning.\n"
     ]
    },
    {
     "data": {
      "application/vnd.jupyter.widget-view+json": {
       "model_id": "",
       "version_major": 2,
       "version_minor": 0
      },
      "text/plain": [
       "Validation: |                                             | 0/? [00:00<?, ?it/s]"
      ]
     },
     "metadata": {},
     "output_type": "display_data"
    },
    {
     "name": "stderr",
     "output_type": "stream",
     "text": [
      "[codecarbon INFO @ 22:23:47] Energy consumed for RAM : 0.001304 kWh. RAM Power : 5.8020172119140625 W\n",
      "[codecarbon INFO @ 22:23:48] Energy consumed for all GPUs : 0.012576 kWh. Total GPU Power : 34.944 W\n",
      "[codecarbon INFO @ 22:23:48] Energy consumed for all CPUs : 0.005065 kWh. Total CPU Power : 22.5 W\n",
      "[codecarbon INFO @ 22:23:48] 0.018945 kWh of electricity used since the beginning.\n",
      "[codecarbon INFO @ 22:24:02] Energy consumed for RAM : 0.001327 kWh. RAM Power : 5.8020172119140625 W\n",
      "[codecarbon INFO @ 22:24:02] Energy consumed for all GPUs : 0.012815 kWh. Total GPU Power : 59.198 W\n",
      "[codecarbon INFO @ 22:24:02] Energy consumed for all CPUs : 0.005156 kWh. Total CPU Power : 22.5 W\n",
      "[codecarbon INFO @ 22:24:02] 0.019298 kWh of electricity used since the beginning.\n",
      "[codecarbon INFO @ 22:24:17] Energy consumed for RAM : 0.001351 kWh. RAM Power : 5.8020172119140625 W\n",
      "[codecarbon INFO @ 22:24:17] Energy consumed for all GPUs : 0.013052 kWh. Total GPU Power : 56.931000000000004 W\n",
      "[codecarbon INFO @ 22:24:17] Energy consumed for all CPUs : 0.005250 kWh. Total CPU Power : 22.5 W\n",
      "[codecarbon INFO @ 22:24:17] 0.019653 kWh of electricity used since the beginning.\n"
     ]
    },
    {
     "data": {
      "application/vnd.jupyter.widget-view+json": {
       "model_id": "",
       "version_major": 2,
       "version_minor": 0
      },
      "text/plain": [
       "Validation: |                                             | 0/? [00:00<?, ?it/s]"
      ]
     },
     "metadata": {},
     "output_type": "display_data"
    },
    {
     "name": "stderr",
     "output_type": "stream",
     "text": [
      "[codecarbon INFO @ 22:24:32] Energy consumed for RAM : 0.001375 kWh. RAM Power : 5.8020172119140625 W\n",
      "[codecarbon INFO @ 22:24:32] Energy consumed for all GPUs : 0.013197 kWh. Total GPU Power : 34.925000000000004 W\n",
      "[codecarbon INFO @ 22:24:32] Energy consumed for all CPUs : 0.005344 kWh. Total CPU Power : 22.5 W\n",
      "[codecarbon INFO @ 22:24:32] 0.019917 kWh of electricity used since the beginning.\n",
      "[codecarbon INFO @ 22:24:47] Energy consumed for RAM : 0.001400 kWh. RAM Power : 5.8020172119140625 W\n",
      "[codecarbon INFO @ 22:24:47] Energy consumed for all GPUs : 0.013433 kWh. Total GPU Power : 56.508 W\n",
      "[codecarbon INFO @ 22:24:47] Energy consumed for all CPUs : 0.005437 kWh. Total CPU Power : 22.5 W\n",
      "[codecarbon INFO @ 22:24:47] 0.020270 kWh of electricity used since the beginning.\n",
      "[codecarbon INFO @ 22:25:02] Energy consumed for RAM : 0.001424 kWh. RAM Power : 5.8020172119140625 W\n",
      "[codecarbon INFO @ 22:25:02] Energy consumed for all GPUs : 0.013662 kWh. Total GPU Power : 55.133 W\n",
      "[codecarbon INFO @ 22:25:02] Energy consumed for all CPUs : 0.005531 kWh. Total CPU Power : 22.5 W\n",
      "[codecarbon INFO @ 22:25:02] 0.020617 kWh of electricity used since the beginning.\n"
     ]
    },
    {
     "data": {
      "application/vnd.jupyter.widget-view+json": {
       "model_id": "",
       "version_major": 2,
       "version_minor": 0
      },
      "text/plain": [
       "Validation: |                                             | 0/? [00:00<?, ?it/s]"
      ]
     },
     "metadata": {},
     "output_type": "display_data"
    },
    {
     "name": "stderr",
     "output_type": "stream",
     "text": [
      "[codecarbon INFO @ 22:25:17] Energy consumed for RAM : 0.001448 kWh. RAM Power : 5.8020172119140625 W\n",
      "[codecarbon INFO @ 22:25:17] Energy consumed for all GPUs : 0.013915 kWh. Total GPU Power : 60.637 W\n",
      "[codecarbon INFO @ 22:25:17] Energy consumed for all CPUs : 0.005625 kWh. Total CPU Power : 22.5 W\n",
      "[codecarbon INFO @ 22:25:17] 0.020988 kWh of electricity used since the beginning.\n",
      "[codecarbon INFO @ 22:25:32] Energy consumed for RAM : 0.001472 kWh. RAM Power : 5.8020172119140625 W\n",
      "[codecarbon INFO @ 22:25:32] Energy consumed for all GPUs : 0.014157 kWh. Total GPU Power : 58.178000000000004 W\n",
      "[codecarbon INFO @ 22:25:32] Energy consumed for all CPUs : 0.005719 kWh. Total CPU Power : 22.5 W\n",
      "[codecarbon INFO @ 22:25:32] 0.021348 kWh of electricity used since the beginning.\n",
      "[codecarbon INFO @ 22:25:47] Energy consumed for RAM : 0.001496 kWh. RAM Power : 5.8020172119140625 W\n",
      "[codecarbon INFO @ 22:25:47] Energy consumed for all GPUs : 0.014362 kWh. Total GPU Power : 49.095 W\n",
      "[codecarbon INFO @ 22:25:48] Energy consumed for all CPUs : 0.005814 kWh. Total CPU Power : 22.5 W\n",
      "[codecarbon INFO @ 22:25:48] 0.021672 kWh of electricity used since the beginning.\n"
     ]
    },
    {
     "data": {
      "application/vnd.jupyter.widget-view+json": {
       "model_id": "c5c6be9294ee4732bb27b8913167a5b3",
       "version_major": 2,
       "version_minor": 0
      },
      "text/plain": [
       "Validation: |                                             | 0/? [00:00<?, ?it/s]"
      ]
     },
     "metadata": {},
     "output_type": "display_data"
    },
    {
     "name": "stderr",
     "output_type": "stream",
     "text": [
      "[codecarbon INFO @ 22:26:02] Energy consumed for RAM : 0.001520 kWh. RAM Power : 5.8020172119140625 W\n",
      "[codecarbon INFO @ 22:26:02] Energy consumed for all GPUs : 0.014615 kWh. Total GPU Power : 61.377 W\n",
      "[codecarbon INFO @ 22:26:02] Energy consumed for all CPUs : 0.005906 kWh. Total CPU Power : 22.5 W\n",
      "[codecarbon INFO @ 22:26:02] 0.022041 kWh of electricity used since the beginning.\n",
      "[codecarbon INFO @ 22:26:17] Energy consumed for RAM : 0.001544 kWh. RAM Power : 5.8020172119140625 W\n",
      "[codecarbon INFO @ 22:26:17] Energy consumed for all GPUs : 0.014867 kWh. Total GPU Power : 60.579 W\n",
      "[codecarbon INFO @ 22:26:17] Energy consumed for all CPUs : 0.006000 kWh. Total CPU Power : 22.5 W\n",
      "[codecarbon INFO @ 22:26:17] 0.022411 kWh of electricity used since the beginning.\n"
     ]
    },
    {
     "data": {
      "application/vnd.jupyter.widget-view+json": {
       "model_id": "0df26e39d22742fe8d39aef3197b0dd8",
       "version_major": 2,
       "version_minor": 0
      },
      "text/plain": [
       "Validation: |                                             | 0/? [00:00<?, ?it/s]"
      ]
     },
     "metadata": {},
     "output_type": "display_data"
    },
    {
     "name": "stderr",
     "output_type": "stream",
     "text": [
      "[codecarbon INFO @ 22:26:32] Energy consumed for RAM : 0.001568 kWh. RAM Power : 5.8020172119140625 W\n",
      "[codecarbon INFO @ 22:26:32] Energy consumed for all GPUs : 0.015014 kWh. Total GPU Power : 35.202 W\n",
      "[codecarbon INFO @ 22:26:32] Energy consumed for all CPUs : 0.006094 kWh. Total CPU Power : 22.5 W\n",
      "[codecarbon INFO @ 22:26:32] 0.022677 kWh of electricity used since the beginning.\n",
      "[codecarbon INFO @ 22:26:47] Energy consumed for RAM : 0.001592 kWh. RAM Power : 5.8020172119140625 W\n",
      "[codecarbon INFO @ 22:26:47] Energy consumed for all GPUs : 0.015260 kWh. Total GPU Power : 59.612 W\n",
      "[codecarbon INFO @ 22:26:47] Energy consumed for all CPUs : 0.006187 kWh. Total CPU Power : 22.5 W\n",
      "[codecarbon INFO @ 22:26:47] 0.023040 kWh of electricity used since the beginning.\n",
      "[codecarbon INFO @ 22:27:02] Energy consumed for RAM : 0.001617 kWh. RAM Power : 5.8020172119140625 W\n",
      "[codecarbon INFO @ 22:27:02] Energy consumed for all GPUs : 0.015510 kWh. Total GPU Power : 60.025 W\n",
      "[codecarbon INFO @ 22:27:02] Energy consumed for all CPUs : 0.006281 kWh. Total CPU Power : 22.5 W\n",
      "[codecarbon INFO @ 22:27:02] 0.023407 kWh of electricity used since the beginning.\n"
     ]
    },
    {
     "data": {
      "application/vnd.jupyter.widget-view+json": {
       "model_id": "be24d1783c1e431a92f755033e519210",
       "version_major": 2,
       "version_minor": 0
      },
      "text/plain": [
       "Validation: |                                             | 0/? [00:00<?, ?it/s]"
      ]
     },
     "metadata": {},
     "output_type": "display_data"
    },
    {
     "name": "stderr",
     "output_type": "stream",
     "text": [
      "[codecarbon INFO @ 22:27:17] Energy consumed for RAM : 0.001641 kWh. RAM Power : 5.8020172119140625 W\n",
      "[codecarbon INFO @ 22:27:17] Energy consumed for all GPUs : 0.015654 kWh. Total GPU Power : 34.697 W\n",
      "[codecarbon INFO @ 22:27:17] Energy consumed for all CPUs : 0.006375 kWh. Total CPU Power : 22.5 W\n",
      "[codecarbon INFO @ 22:27:17] 0.023670 kWh of electricity used since the beginning.\n",
      "[codecarbon INFO @ 22:27:32] Energy consumed for RAM : 0.001665 kWh. RAM Power : 5.8020172119140625 W\n",
      "[codecarbon INFO @ 22:27:32] Energy consumed for all GPUs : 0.015892 kWh. Total GPU Power : 57.051 W\n",
      "[codecarbon INFO @ 22:27:32] Energy consumed for all CPUs : 0.006468 kWh. Total CPU Power : 22.5 W\n",
      "[codecarbon INFO @ 22:27:32] 0.024025 kWh of electricity used since the beginning.\n",
      "[codecarbon INFO @ 22:27:47] Energy consumed for RAM : 0.001689 kWh. RAM Power : 5.8020172119140625 W\n",
      "[codecarbon INFO @ 22:27:47] Energy consumed for all GPUs : 0.016138 kWh. Total GPU Power : 59.107 W\n",
      "[codecarbon INFO @ 22:27:47] Energy consumed for all CPUs : 0.006562 kWh. Total CPU Power : 22.5 W\n",
      "[codecarbon INFO @ 22:27:47] 0.024389 kWh of electricity used since the beginning.\n"
     ]
    },
    {
     "data": {
      "application/vnd.jupyter.widget-view+json": {
       "model_id": "5dd881734bca4457a2a2a01ccdd929b8",
       "version_major": 2,
       "version_minor": 0
      },
      "text/plain": [
       "Validation: |                                             | 0/? [00:00<?, ?it/s]"
      ]
     },
     "metadata": {},
     "output_type": "display_data"
    },
    {
     "name": "stderr",
     "output_type": "stream",
     "text": [
      "[codecarbon INFO @ 22:28:02] Energy consumed for RAM : 0.001713 kWh. RAM Power : 5.8020172119140625 W\n",
      "[codecarbon INFO @ 22:28:02] Energy consumed for all GPUs : 0.016389 kWh. Total GPU Power : 60.199000000000005 W\n",
      "[codecarbon INFO @ 22:28:02] Energy consumed for all CPUs : 0.006656 kWh. Total CPU Power : 22.5 W\n",
      "[codecarbon INFO @ 22:28:02] 0.024758 kWh of electricity used since the beginning.\n",
      "[codecarbon INFO @ 22:28:17] Energy consumed for RAM : 0.001737 kWh. RAM Power : 5.8020172119140625 W\n",
      "[codecarbon INFO @ 22:28:17] Energy consumed for all GPUs : 0.016644 kWh. Total GPU Power : 61.153 W\n",
      "[codecarbon INFO @ 22:28:17] Energy consumed for all CPUs : 0.006750 kWh. Total CPU Power : 22.5 W\n",
      "[codecarbon INFO @ 22:28:17] 0.025131 kWh of electricity used since the beginning.\n"
     ]
    },
    {
     "data": {
      "application/vnd.jupyter.widget-view+json": {
       "model_id": "475e2f4b0a5942a2bcb70332cf8c2add",
       "version_major": 2,
       "version_minor": 0
      },
      "text/plain": [
       "Validation: |                                             | 0/? [00:00<?, ?it/s]"
      ]
     },
     "metadata": {},
     "output_type": "display_data"
    },
    {
     "name": "stderr",
     "output_type": "stream",
     "text": [
      "[codecarbon INFO @ 22:28:32] Energy consumed for RAM : 0.001762 kWh. RAM Power : 5.8020172119140625 W\n",
      "[codecarbon INFO @ 22:28:32] Energy consumed for all GPUs : 0.016792 kWh. Total GPU Power : 35.491 W\n",
      "[codecarbon INFO @ 22:28:33] Energy consumed for all CPUs : 0.006844 kWh. Total CPU Power : 22.5 W\n",
      "[codecarbon INFO @ 22:28:33] 0.025398 kWh of electricity used since the beginning.\n",
      "[codecarbon INFO @ 22:28:47] Energy consumed for RAM : 0.001785 kWh. RAM Power : 5.8020172119140625 W\n",
      "[codecarbon INFO @ 22:28:47] Energy consumed for all GPUs : 0.017047 kWh. Total GPU Power : 62.124 W\n",
      "[codecarbon INFO @ 22:28:47] Energy consumed for all CPUs : 0.006937 kWh. Total CPU Power : 22.5 W\n",
      "[codecarbon INFO @ 22:28:47] 0.025769 kWh of electricity used since the beginning.\n",
      "[codecarbon INFO @ 22:29:02] Energy consumed for RAM : 0.001810 kWh. RAM Power : 5.8020172119140625 W\n",
      "[codecarbon INFO @ 22:29:02] Energy consumed for all GPUs : 0.017302 kWh. Total GPU Power : 61.158 W\n",
      "[codecarbon INFO @ 22:29:02] Energy consumed for all CPUs : 0.007031 kWh. Total CPU Power : 22.5 W\n",
      "[codecarbon INFO @ 22:29:02] 0.026142 kWh of electricity used since the beginning.\n"
     ]
    },
    {
     "data": {
      "application/vnd.jupyter.widget-view+json": {
       "model_id": "c487d3357693405fbe6ed45adb671009",
       "version_major": 2,
       "version_minor": 0
      },
      "text/plain": [
       "Validation: |                                             | 0/? [00:00<?, ?it/s]"
      ]
     },
     "metadata": {},
     "output_type": "display_data"
    },
    {
     "name": "stderr",
     "output_type": "stream",
     "text": [
      "[codecarbon INFO @ 22:29:17] Energy consumed for RAM : 0.001834 kWh. RAM Power : 5.8020172119140625 W\n",
      "[codecarbon INFO @ 22:29:18] Energy consumed for all GPUs : 0.017448 kWh. Total GPU Power : 35.029 W\n",
      "[codecarbon INFO @ 22:29:18] Energy consumed for all CPUs : 0.007125 kWh. Total CPU Power : 22.5 W\n",
      "[codecarbon INFO @ 22:29:18] 0.026408 kWh of electricity used since the beginning.\n",
      "[codecarbon INFO @ 22:29:32] Energy consumed for RAM : 0.001858 kWh. RAM Power : 5.8020172119140625 W\n",
      "[codecarbon INFO @ 22:29:32] Energy consumed for all GPUs : 0.017692 kWh. Total GPU Power : 58.955 W\n",
      "[codecarbon INFO @ 22:29:32] Energy consumed for all CPUs : 0.007218 kWh. Total CPU Power : 22.5 W\n",
      "[codecarbon INFO @ 22:29:32] 0.026768 kWh of electricity used since the beginning.\n",
      "[codecarbon INFO @ 22:29:47] Energy consumed for RAM : 0.001882 kWh. RAM Power : 5.8020172119140625 W\n",
      "[codecarbon INFO @ 22:29:47] Energy consumed for all GPUs : 0.017927 kWh. Total GPU Power : 56.479 W\n",
      "[codecarbon INFO @ 22:29:47] Energy consumed for all CPUs : 0.007312 kWh. Total CPU Power : 22.5 W\n",
      "[codecarbon INFO @ 22:29:47] 0.027121 kWh of electricity used since the beginning.\n"
     ]
    },
    {
     "data": {
      "application/vnd.jupyter.widget-view+json": {
       "model_id": "a2b6dfdd22214864a24d1b00fee41117",
       "version_major": 2,
       "version_minor": 0
      },
      "text/plain": [
       "Validation: |                                             | 0/? [00:00<?, ?it/s]"
      ]
     },
     "metadata": {},
     "output_type": "display_data"
    },
    {
     "name": "stderr",
     "output_type": "stream",
     "text": [
      "[codecarbon INFO @ 22:30:02] Energy consumed for RAM : 0.001906 kWh. RAM Power : 5.8020172119140625 W\n",
      "[codecarbon INFO @ 22:30:02] Energy consumed for all GPUs : 0.018204 kWh. Total GPU Power : 66.475 W\n",
      "[codecarbon INFO @ 22:30:02] Energy consumed for all CPUs : 0.007406 kWh. Total CPU Power : 22.5 W\n",
      "[codecarbon INFO @ 22:30:02] 0.027516 kWh of electricity used since the beginning.\n",
      "[codecarbon INFO @ 22:30:17] Energy consumed for RAM : 0.001930 kWh. RAM Power : 5.8020172119140625 W\n",
      "[codecarbon INFO @ 22:30:17] Energy consumed for all GPUs : 0.018448 kWh. Total GPU Power : 58.78 W\n",
      "[codecarbon INFO @ 22:30:17] Energy consumed for all CPUs : 0.007499 kWh. Total CPU Power : 22.5 W\n",
      "[codecarbon INFO @ 22:30:17] 0.027878 kWh of electricity used since the beginning.\n",
      "[codecarbon INFO @ 22:30:32] Energy consumed for RAM : 0.001954 kWh. RAM Power : 5.8020172119140625 W\n",
      "[codecarbon INFO @ 22:30:33] Energy consumed for all GPUs : 0.018598 kWh. Total GPU Power : 35.9 W\n",
      "[codecarbon INFO @ 22:30:33] Energy consumed for all CPUs : 0.007594 kWh. Total CPU Power : 22.5 W\n",
      "[codecarbon INFO @ 22:30:33] 0.028147 kWh of electricity used since the beginning.\n"
     ]
    },
    {
     "data": {
      "application/vnd.jupyter.widget-view+json": {
       "model_id": "5882e665d60b47a98c53ffa939a49487",
       "version_major": 2,
       "version_minor": 0
      },
      "text/plain": [
       "Validation: |                                             | 0/? [00:00<?, ?it/s]"
      ]
     },
     "metadata": {},
     "output_type": "display_data"
    },
    {
     "name": "stderr",
     "output_type": "stream",
     "text": [
      "[codecarbon INFO @ 22:30:47] Energy consumed for RAM : 0.001978 kWh. RAM Power : 5.8020172119140625 W\n",
      "[codecarbon INFO @ 22:30:47] Energy consumed for all GPUs : 0.018848 kWh. Total GPU Power : 60.34100000000001 W\n",
      "[codecarbon INFO @ 22:30:47] Energy consumed for all CPUs : 0.007687 kWh. Total CPU Power : 22.5 W\n",
      "[codecarbon INFO @ 22:30:47] 0.028514 kWh of electricity used since the beginning.\n",
      "[codecarbon INFO @ 22:31:02] Energy consumed for RAM : 0.002003 kWh. RAM Power : 5.8020172119140625 W\n",
      "[codecarbon INFO @ 22:31:02] Energy consumed for all GPUs : 0.019093 kWh. Total GPU Power : 58.809000000000005 W\n",
      "[codecarbon INFO @ 22:31:02] Energy consumed for all CPUs : 0.007781 kWh. Total CPU Power : 22.5 W\n",
      "[codecarbon INFO @ 22:31:02] 0.028877 kWh of electricity used since the beginning.\n"
     ]
    },
    {
     "data": {
      "application/vnd.jupyter.widget-view+json": {
       "model_id": "e8c98cd6d2b3430c863ac1fc5707710d",
       "version_major": 2,
       "version_minor": 0
      },
      "text/plain": [
       "Validation: |                                             | 0/? [00:00<?, ?it/s]"
      ]
     },
     "metadata": {},
     "output_type": "display_data"
    },
    {
     "name": "stderr",
     "output_type": "stream",
     "text": [
      "[codecarbon INFO @ 22:31:18] Energy consumed for RAM : 0.002027 kWh. RAM Power : 5.8020172119140625 W\n",
      "[codecarbon INFO @ 22:31:18] Energy consumed for all GPUs : 0.019241 kWh. Total GPU Power : 35.347 W\n",
      "[codecarbon INFO @ 22:31:18] Energy consumed for all CPUs : 0.007876 kWh. Total CPU Power : 22.5 W\n",
      "[codecarbon INFO @ 22:31:18] 0.029144 kWh of electricity used since the beginning.\n",
      "[codecarbon INFO @ 22:31:33] Energy consumed for RAM : 0.002051 kWh. RAM Power : 5.8020172119140625 W\n",
      "[codecarbon INFO @ 22:31:33] Energy consumed for all GPUs : 0.019501 kWh. Total GPU Power : 63.31500000000001 W\n",
      "[codecarbon INFO @ 22:31:33] Energy consumed for all CPUs : 0.007968 kWh. Total CPU Power : 22.5 W\n",
      "[codecarbon INFO @ 22:31:33] 0.029520 kWh of electricity used since the beginning.\n",
      "[codecarbon INFO @ 22:31:48] Energy consumed for RAM : 0.002075 kWh. RAM Power : 5.8020172119140625 W\n",
      "[codecarbon INFO @ 22:31:48] Energy consumed for all GPUs : 0.019736 kWh. Total GPU Power : 56.415 W\n",
      "[codecarbon INFO @ 22:31:48] Energy consumed for all CPUs : 0.008062 kWh. Total CPU Power : 22.5 W\n",
      "[codecarbon INFO @ 22:31:48] 0.029872 kWh of electricity used since the beginning.\n"
     ]
    },
    {
     "data": {
      "application/vnd.jupyter.widget-view+json": {
       "model_id": "d819e853d00c4071be960ff8a71e6807",
       "version_major": 2,
       "version_minor": 0
      },
      "text/plain": [
       "Validation: |                                             | 0/? [00:00<?, ?it/s]"
      ]
     },
     "metadata": {},
     "output_type": "display_data"
    },
    {
     "name": "stderr",
     "output_type": "stream",
     "text": [
      "[codecarbon INFO @ 22:32:03] Energy consumed for RAM : 0.002099 kWh. RAM Power : 5.8020172119140625 W\n",
      "[codecarbon INFO @ 22:32:03] Energy consumed for all GPUs : 0.019883 kWh. Total GPU Power : 35.033 W\n",
      "[codecarbon INFO @ 22:32:03] Energy consumed for all CPUs : 0.008157 kWh. Total CPU Power : 22.5 W\n",
      "[codecarbon INFO @ 22:32:03] 0.030138 kWh of electricity used since the beginning.\n",
      "[codecarbon INFO @ 22:32:18] Energy consumed for RAM : 0.002123 kWh. RAM Power : 5.8020172119140625 W\n",
      "[codecarbon INFO @ 22:32:18] Energy consumed for all GPUs : 0.020143 kWh. Total GPU Power : 63.095 W\n",
      "[codecarbon INFO @ 22:32:18] Energy consumed for all CPUs : 0.008250 kWh. Total CPU Power : 22.5 W\n",
      "[codecarbon INFO @ 22:32:18] 0.030516 kWh of electricity used since the beginning.\n",
      "[codecarbon INFO @ 22:32:33] Energy consumed for RAM : 0.002147 kWh. RAM Power : 5.8020172119140625 W\n",
      "[codecarbon INFO @ 22:32:33] Energy consumed for all GPUs : 0.020372 kWh. Total GPU Power : 54.934000000000005 W\n",
      "[codecarbon INFO @ 22:32:33] Energy consumed for all CPUs : 0.008343 kWh. Total CPU Power : 22.5 W\n",
      "[codecarbon INFO @ 22:32:33] 0.030862 kWh of electricity used since the beginning.\n"
     ]
    },
    {
     "data": {
      "application/vnd.jupyter.widget-view+json": {
       "model_id": "4b395f85a43946eb9e3bf5a9eaa619f5",
       "version_major": 2,
       "version_minor": 0
      },
      "text/plain": [
       "Validation: |                                             | 0/? [00:00<?, ?it/s]"
      ]
     },
     "metadata": {},
     "output_type": "display_data"
    },
    {
     "name": "stderr",
     "output_type": "stream",
     "text": [
      "[codecarbon INFO @ 22:32:48] Energy consumed for RAM : 0.002171 kWh. RAM Power : 5.8020172119140625 W\n",
      "[codecarbon INFO @ 22:32:48] Energy consumed for all GPUs : 0.020619 kWh. Total GPU Power : 59.41100000000001 W\n",
      "[codecarbon INFO @ 22:32:48] Energy consumed for all CPUs : 0.008437 kWh. Total CPU Power : 22.5 W\n",
      "[codecarbon INFO @ 22:32:48] 0.031228 kWh of electricity used since the beginning.\n",
      "[codecarbon INFO @ 22:33:03] Energy consumed for RAM : 0.002196 kWh. RAM Power : 5.8020172119140625 W\n",
      "[codecarbon INFO @ 22:33:03] Energy consumed for all GPUs : 0.020882 kWh. Total GPU Power : 63.023999999999994 W\n",
      "[codecarbon INFO @ 22:33:03] Energy consumed for all CPUs : 0.008531 kWh. Total CPU Power : 22.5 W\n",
      "[codecarbon INFO @ 22:33:03] 0.031608 kWh of electricity used since the beginning.\n"
     ]
    },
    {
     "data": {
      "application/vnd.jupyter.widget-view+json": {
       "model_id": "e340203a56074547a58bea1841fd6bc2",
       "version_major": 2,
       "version_minor": 0
      },
      "text/plain": [
       "Validation: |                                             | 0/? [00:00<?, ?it/s]"
      ]
     },
     "metadata": {},
     "output_type": "display_data"
    },
    {
     "name": "stderr",
     "output_type": "stream",
     "text": [
      "[codecarbon INFO @ 22:33:18] Energy consumed for RAM : 0.002220 kWh. RAM Power : 5.8020172119140625 W\n",
      "[codecarbon INFO @ 22:33:18] Energy consumed for all GPUs : 0.021139 kWh. Total GPU Power : 61.681000000000004 W\n",
      "[codecarbon INFO @ 22:33:18] Energy consumed for all CPUs : 0.008624 kWh. Total CPU Power : 22.5 W\n",
      "[codecarbon INFO @ 22:33:18] 0.031983 kWh of electricity used since the beginning.\n",
      "[codecarbon INFO @ 22:33:33] Energy consumed for RAM : 0.002244 kWh. RAM Power : 5.8020172119140625 W\n",
      "[codecarbon INFO @ 22:33:33] Energy consumed for all GPUs : 0.021384 kWh. Total GPU Power : 58.817 W\n",
      "[codecarbon INFO @ 22:33:33] Energy consumed for all CPUs : 0.008718 kWh. Total CPU Power : 22.5 W\n",
      "[codecarbon INFO @ 22:33:33] 0.032346 kWh of electricity used since the beginning.\n",
      "[codecarbon INFO @ 22:33:48] Energy consumed for RAM : 0.002268 kWh. RAM Power : 5.8020172119140625 W\n",
      "[codecarbon INFO @ 22:33:48] Energy consumed for all GPUs : 0.021637 kWh. Total GPU Power : 60.832 W\n",
      "[codecarbon INFO @ 22:33:48] Energy consumed for all CPUs : 0.008812 kWh. Total CPU Power : 22.5 W\n",
      "[codecarbon INFO @ 22:33:48] 0.032717 kWh of electricity used since the beginning.\n"
     ]
    },
    {
     "data": {
      "application/vnd.jupyter.widget-view+json": {
       "model_id": "bd982ecac3824c0185c7f6b76ad594b2",
       "version_major": 2,
       "version_minor": 0
      },
      "text/plain": [
       "Validation: |                                             | 0/? [00:00<?, ?it/s]"
      ]
     },
     "metadata": {},
     "output_type": "display_data"
    },
    {
     "name": "stderr",
     "output_type": "stream",
     "text": [
      "[codecarbon INFO @ 22:34:03] Energy consumed for RAM : 0.002292 kWh. RAM Power : 5.8020172119140625 W\n",
      "[codecarbon INFO @ 22:34:03] Energy consumed for all GPUs : 0.021784 kWh. Total GPU Power : 35.101 W\n",
      "[codecarbon INFO @ 22:34:03] Energy consumed for all CPUs : 0.008906 kWh. Total CPU Power : 22.5 W\n",
      "[codecarbon INFO @ 22:34:03] 0.032982 kWh of electricity used since the beginning.\n",
      "[codecarbon INFO @ 22:34:18] Energy consumed for RAM : 0.002316 kWh. RAM Power : 5.8020172119140625 W\n",
      "[codecarbon INFO @ 22:34:18] Energy consumed for all GPUs : 0.022014 kWh. Total GPU Power : 55.471000000000004 W\n",
      "[codecarbon INFO @ 22:34:18] Energy consumed for all CPUs : 0.008999 kWh. Total CPU Power : 22.5 W\n",
      "[codecarbon INFO @ 22:34:18] 0.033330 kWh of electricity used since the beginning.\n",
      "[codecarbon INFO @ 22:34:33] Energy consumed for RAM : 0.002340 kWh. RAM Power : 5.8020172119140625 W\n",
      "[codecarbon INFO @ 22:34:33] Energy consumed for all GPUs : 0.022266 kWh. Total GPU Power : 60.338 W\n",
      "[codecarbon INFO @ 22:34:33] Energy consumed for all CPUs : 0.009093 kWh. Total CPU Power : 22.5 W\n",
      "[codecarbon INFO @ 22:34:33] 0.033699 kWh of electricity used since the beginning.\n"
     ]
    },
    {
     "data": {
      "application/vnd.jupyter.widget-view+json": {
       "model_id": "961fbc22135d4723b79191e9b55af5cd",
       "version_major": 2,
       "version_minor": 0
      },
      "text/plain": [
       "Validation: |                                             | 0/? [00:00<?, ?it/s]"
      ]
     },
     "metadata": {},
     "output_type": "display_data"
    },
    {
     "name": "stderr",
     "output_type": "stream",
     "text": [
      "[codecarbon INFO @ 22:34:48] Energy consumed for RAM : 0.002365 kWh. RAM Power : 5.8020172119140625 W\n",
      "[codecarbon INFO @ 22:34:48] Energy consumed for all GPUs : 0.022454 kWh. Total GPU Power : 45.13300000000001 W\n",
      "[codecarbon INFO @ 22:34:48] Energy consumed for all CPUs : 0.009187 kWh. Total CPU Power : 22.5 W\n",
      "[codecarbon INFO @ 22:34:48] 0.034005 kWh of electricity used since the beginning.\n",
      "[codecarbon INFO @ 22:35:03] Energy consumed for RAM : 0.002389 kWh. RAM Power : 5.8020172119140625 W\n",
      "[codecarbon INFO @ 22:35:03] Energy consumed for all GPUs : 0.022700 kWh. Total GPU Power : 59.1 W\n",
      "[codecarbon INFO @ 22:35:03] Energy consumed for all CPUs : 0.009281 kWh. Total CPU Power : 22.5 W\n",
      "[codecarbon INFO @ 22:35:03] 0.034369 kWh of electricity used since the beginning.\n"
     ]
    },
    {
     "data": {
      "application/vnd.jupyter.widget-view+json": {
       "model_id": "4796a250dc3245338ce4c5416b492ac0",
       "version_major": 2,
       "version_minor": 0
      },
      "text/plain": [
       "Validation: |                                             | 0/? [00:00<?, ?it/s]"
      ]
     },
     "metadata": {},
     "output_type": "display_data"
    },
    {
     "name": "stderr",
     "output_type": "stream",
     "text": [
      "[codecarbon INFO @ 22:35:18] Energy consumed for RAM : 0.002413 kWh. RAM Power : 5.8020172119140625 W\n",
      "[codecarbon INFO @ 22:35:18] Energy consumed for all GPUs : 0.022895 kWh. Total GPU Power : 46.923 W\n",
      "[codecarbon INFO @ 22:35:18] Energy consumed for all CPUs : 0.009374 kWh. Total CPU Power : 22.5 W\n",
      "[codecarbon INFO @ 22:35:18] 0.034682 kWh of electricity used since the beginning.\n",
      "[codecarbon INFO @ 22:35:33] Energy consumed for RAM : 0.002437 kWh. RAM Power : 5.8020172119140625 W\n",
      "[codecarbon INFO @ 22:35:33] Energy consumed for all GPUs : 0.023142 kWh. Total GPU Power : 59.365 W\n",
      "[codecarbon INFO @ 22:35:33] Energy consumed for all CPUs : 0.009468 kWh. Total CPU Power : 22.5 W\n",
      "[codecarbon INFO @ 22:35:33] 0.035048 kWh of electricity used since the beginning.\n",
      "[codecarbon INFO @ 22:35:48] Energy consumed for RAM : 0.002461 kWh. RAM Power : 5.8020172119140625 W\n",
      "[codecarbon INFO @ 22:35:48] Energy consumed for all GPUs : 0.023385 kWh. Total GPU Power : 58.384 W\n",
      "[codecarbon INFO @ 22:35:48] Energy consumed for all CPUs : 0.009562 kWh. Total CPU Power : 22.5 W\n",
      "[codecarbon INFO @ 22:35:48] 0.035409 kWh of electricity used since the beginning.\n"
     ]
    },
    {
     "data": {
      "application/vnd.jupyter.widget-view+json": {
       "model_id": "b68f6db73dff43d8a7c9d52516076d37",
       "version_major": 2,
       "version_minor": 0
      },
      "text/plain": [
       "Validation: |                                             | 0/? [00:00<?, ?it/s]"
      ]
     },
     "metadata": {},
     "output_type": "display_data"
    },
    {
     "name": "stderr",
     "output_type": "stream",
     "text": [
      "[codecarbon INFO @ 22:36:03] Energy consumed for RAM : 0.002486 kWh. RAM Power : 5.8020172119140625 W\n",
      "[codecarbon INFO @ 22:36:03] Energy consumed for all GPUs : 0.023535 kWh. Total GPU Power : 34.961 W\n",
      "[codecarbon INFO @ 22:36:03] Energy consumed for all CPUs : 0.009658 kWh. Total CPU Power : 22.5 W\n",
      "[codecarbon INFO @ 22:36:03] 0.035680 kWh of electricity used since the beginning.\n",
      "[codecarbon INFO @ 22:36:18] Energy consumed for RAM : 0.002510 kWh. RAM Power : 5.8020172119140625 W\n",
      "[codecarbon INFO @ 22:36:18] Energy consumed for all GPUs : 0.023785 kWh. Total GPU Power : 60.446 W\n",
      "[codecarbon INFO @ 22:36:18] Energy consumed for all CPUs : 0.009751 kWh. Total CPU Power : 22.5 W\n",
      "[codecarbon INFO @ 22:36:18] 0.036046 kWh of electricity used since the beginning.\n",
      "[codecarbon INFO @ 22:36:33] Energy consumed for RAM : 0.002534 kWh. RAM Power : 5.8020172119140625 W\n",
      "[codecarbon INFO @ 22:36:33] Energy consumed for all GPUs : 0.024024 kWh. Total GPU Power : 57.497 W\n",
      "[codecarbon INFO @ 22:36:33] Energy consumed for all CPUs : 0.009845 kWh. Total CPU Power : 22.5 W\n",
      "[codecarbon INFO @ 22:36:33] 0.036403 kWh of electricity used since the beginning.\n"
     ]
    },
    {
     "data": {
      "application/vnd.jupyter.widget-view+json": {
       "model_id": "f701a70e2e6f4b4d85097dec369aff51",
       "version_major": 2,
       "version_minor": 0
      },
      "text/plain": [
       "Validation: |                                             | 0/? [00:00<?, ?it/s]"
      ]
     },
     "metadata": {},
     "output_type": "display_data"
    },
    {
     "name": "stderr",
     "output_type": "stream",
     "text": [
      "[codecarbon INFO @ 22:36:48] Energy consumed for RAM : 0.002558 kWh. RAM Power : 5.8020172119140625 W\n",
      "[codecarbon INFO @ 22:36:48] Energy consumed for all GPUs : 0.024170 kWh. Total GPU Power : 34.875 W\n",
      "[codecarbon INFO @ 22:36:48] Energy consumed for all CPUs : 0.009939 kWh. Total CPU Power : 22.5 W\n",
      "[codecarbon INFO @ 22:36:48] 0.036668 kWh of electricity used since the beginning.\n",
      "[codecarbon INFO @ 22:37:03] Energy consumed for RAM : 0.002582 kWh. RAM Power : 5.8020172119140625 W\n",
      "[codecarbon INFO @ 22:37:03] Energy consumed for all GPUs : 0.024413 kWh. Total GPU Power : 58.601 W\n",
      "[codecarbon INFO @ 22:37:03] Energy consumed for all CPUs : 0.010033 kWh. Total CPU Power : 22.5 W\n",
      "[codecarbon INFO @ 22:37:03] 0.037028 kWh of electricity used since the beginning.\n",
      "[codecarbon INFO @ 22:37:18] Energy consumed for RAM : 0.002607 kWh. RAM Power : 5.8020172119140625 W\n",
      "[codecarbon INFO @ 22:37:18] Energy consumed for all GPUs : 0.024641 kWh. Total GPU Power : 54.87400000000001 W\n",
      "[codecarbon INFO @ 22:37:18] Energy consumed for all CPUs : 0.010126 kWh. Total CPU Power : 22.5 W\n",
      "[codecarbon INFO @ 22:37:18] 0.037374 kWh of electricity used since the beginning.\n"
     ]
    },
    {
     "data": {
      "application/vnd.jupyter.widget-view+json": {
       "model_id": "f77734bfbb0d40dfb04e9306f513f7ce",
       "version_major": 2,
       "version_minor": 0
      },
      "text/plain": [
       "Validation: |                                             | 0/? [00:00<?, ?it/s]"
      ]
     },
     "metadata": {},
     "output_type": "display_data"
    },
    {
     "name": "stderr",
     "output_type": "stream",
     "text": [
      "[codecarbon INFO @ 22:37:33] Energy consumed for RAM : 0.002631 kWh. RAM Power : 5.8020172119140625 W\n",
      "[codecarbon INFO @ 22:37:33] Energy consumed for all GPUs : 0.024894 kWh. Total GPU Power : 60.637 W\n",
      "[codecarbon INFO @ 22:37:33] Energy consumed for all CPUs : 0.010220 kWh. Total CPU Power : 22.5 W\n",
      "[codecarbon INFO @ 22:37:33] 0.037745 kWh of electricity used since the beginning.\n",
      "[codecarbon INFO @ 22:37:48] Energy consumed for RAM : 0.002655 kWh. RAM Power : 5.8020172119140625 W\n",
      "[codecarbon INFO @ 22:37:48] Energy consumed for all GPUs : 0.025084 kWh. Total GPU Power : 45.56100000000001 W\n",
      "[codecarbon INFO @ 22:37:48] Energy consumed for all CPUs : 0.010314 kWh. Total CPU Power : 22.5 W\n",
      "[codecarbon INFO @ 22:37:48] 0.038052 kWh of electricity used since the beginning.\n",
      "[codecarbon INFO @ 22:38:03] Energy consumed for RAM : 0.002679 kWh. RAM Power : 5.8020172119140625 W\n",
      "[codecarbon INFO @ 22:38:03] Energy consumed for all GPUs : 0.025320 kWh. Total GPU Power : 56.879 W\n",
      "[codecarbon INFO @ 22:38:03] Energy consumed for all CPUs : 0.010408 kWh. Total CPU Power : 22.5 W\n",
      "[codecarbon INFO @ 22:38:03] 0.038407 kWh of electricity used since the beginning.\n"
     ]
    },
    {
     "data": {
      "application/vnd.jupyter.widget-view+json": {
       "model_id": "0b654b02f089468981018aa2b000ffbd",
       "version_major": 2,
       "version_minor": 0
      },
      "text/plain": [
       "Validation: |                                             | 0/? [00:00<?, ?it/s]"
      ]
     },
     "metadata": {},
     "output_type": "display_data"
    },
    {
     "name": "stderr",
     "output_type": "stream",
     "text": [
      "[codecarbon INFO @ 22:38:18] Energy consumed for RAM : 0.002703 kWh. RAM Power : 5.8020172119140625 W\n",
      "[codecarbon INFO @ 22:38:18] Energy consumed for all GPUs : 0.025572 kWh. Total GPU Power : 60.299 W\n",
      "[codecarbon INFO @ 22:38:18] Energy consumed for all CPUs : 0.010501 kWh. Total CPU Power : 22.5 W\n",
      "[codecarbon INFO @ 22:38:18] 0.038776 kWh of electricity used since the beginning.\n",
      "[codecarbon INFO @ 22:38:33] Energy consumed for RAM : 0.002727 kWh. RAM Power : 5.8020172119140625 W\n",
      "[codecarbon INFO @ 22:38:33] Energy consumed for all GPUs : 0.025804 kWh. Total GPU Power : 55.891 W\n",
      "[codecarbon INFO @ 22:38:33] Energy consumed for all CPUs : 0.010595 kWh. Total CPU Power : 22.5 W\n",
      "[codecarbon INFO @ 22:38:33] 0.039127 kWh of electricity used since the beginning.\n"
     ]
    },
    {
     "data": {
      "application/vnd.jupyter.widget-view+json": {
       "model_id": "c10dbb4c7cc44a3bb3f1235c9f7be8de",
       "version_major": 2,
       "version_minor": 0
      },
      "text/plain": [
       "Validation: |                                             | 0/? [00:00<?, ?it/s]"
      ]
     },
     "metadata": {},
     "output_type": "display_data"
    },
    {
     "name": "stderr",
     "output_type": "stream",
     "text": [
      "[codecarbon INFO @ 22:38:48] Energy consumed for RAM : 0.002752 kWh. RAM Power : 5.8020172119140625 W\n",
      "[codecarbon INFO @ 22:38:48] Energy consumed for all GPUs : 0.026054 kWh. Total GPU Power : 59.957 W\n",
      "[codecarbon INFO @ 22:38:48] Energy consumed for all CPUs : 0.010689 kWh. Total CPU Power : 22.5 W\n",
      "[codecarbon INFO @ 22:38:48] 0.039494 kWh of electricity used since the beginning.\n",
      "[codecarbon INFO @ 22:39:03] Energy consumed for RAM : 0.002776 kWh. RAM Power : 5.8020172119140625 W\n",
      "[codecarbon INFO @ 22:39:03] Energy consumed for all GPUs : 0.026307 kWh. Total GPU Power : 60.747 W\n",
      "[codecarbon INFO @ 22:39:03] Energy consumed for all CPUs : 0.010783 kWh. Total CPU Power : 22.5 W\n",
      "[codecarbon INFO @ 22:39:03] 0.039865 kWh of electricity used since the beginning.\n",
      "[codecarbon INFO @ 22:39:18] Energy consumed for RAM : 0.002800 kWh. RAM Power : 5.8020172119140625 W\n",
      "[codecarbon INFO @ 22:39:18] Energy consumed for all GPUs : 0.026553 kWh. Total GPU Power : 58.958 W\n",
      "[codecarbon INFO @ 22:39:18] Energy consumed for all CPUs : 0.010876 kWh. Total CPU Power : 22.5 W\n",
      "[codecarbon INFO @ 22:39:18] 0.040229 kWh of electricity used since the beginning.\n"
     ]
    },
    {
     "data": {
      "application/vnd.jupyter.widget-view+json": {
       "model_id": "025f6c91117a43a8acf5c9c071698aa1",
       "version_major": 2,
       "version_minor": 0
      },
      "text/plain": [
       "Validation: |                                             | 0/? [00:00<?, ?it/s]"
      ]
     },
     "metadata": {},
     "output_type": "display_data"
    },
    {
     "name": "stderr",
     "output_type": "stream",
     "text": [
      "[codecarbon INFO @ 22:39:33] Energy consumed for RAM : 0.002824 kWh. RAM Power : 5.8020172119140625 W\n",
      "[codecarbon INFO @ 22:39:33] Energy consumed for all GPUs : 0.026798 kWh. Total GPU Power : 58.827 W\n",
      "[codecarbon INFO @ 22:39:33] Energy consumed for all CPUs : 0.010970 kWh. Total CPU Power : 22.5 W\n",
      "[codecarbon INFO @ 22:39:33] 0.040592 kWh of electricity used since the beginning.\n",
      "[codecarbon INFO @ 22:39:48] Energy consumed for RAM : 0.002848 kWh. RAM Power : 5.8020172119140625 W\n",
      "[codecarbon INFO @ 22:39:48] Energy consumed for all GPUs : 0.027041 kWh. Total GPU Power : 58.517 W\n",
      "[codecarbon INFO @ 22:39:48] Energy consumed for all CPUs : 0.011064 kWh. Total CPU Power : 22.5 W\n",
      "[codecarbon INFO @ 22:39:48] 0.040953 kWh of electricity used since the beginning.\n",
      "[codecarbon INFO @ 22:40:03] Energy consumed for RAM : 0.002872 kWh. RAM Power : 5.8020172119140625 W\n",
      "[codecarbon INFO @ 22:40:03] Energy consumed for all GPUs : 0.027291 kWh. Total GPU Power : 59.923 W\n",
      "[codecarbon INFO @ 22:40:03] Energy consumed for all CPUs : 0.011158 kWh. Total CPU Power : 22.5 W\n",
      "[codecarbon INFO @ 22:40:03] 0.041321 kWh of electricity used since the beginning.\n"
     ]
    },
    {
     "data": {
      "application/vnd.jupyter.widget-view+json": {
       "model_id": "bab080d5fe6e4eeb9d2ebf15205efd96",
       "version_major": 2,
       "version_minor": 0
      },
      "text/plain": [
       "Validation: |                                             | 0/? [00:00<?, ?it/s]"
      ]
     },
     "metadata": {},
     "output_type": "display_data"
    },
    {
     "name": "stderr",
     "output_type": "stream",
     "text": [
      "[codecarbon INFO @ 22:40:18] Energy consumed for RAM : 0.002896 kWh. RAM Power : 5.8020172119140625 W\n",
      "[codecarbon INFO @ 22:40:18] Energy consumed for all GPUs : 0.027440 kWh. Total GPU Power : 35.76 W\n",
      "[codecarbon INFO @ 22:40:18] Energy consumed for all CPUs : 0.011252 kWh. Total CPU Power : 22.5 W\n",
      "[codecarbon INFO @ 22:40:18] 0.041589 kWh of electricity used since the beginning.\n",
      "[codecarbon INFO @ 22:40:33] Energy consumed for RAM : 0.002920 kWh. RAM Power : 5.8020172119140625 W\n",
      "[codecarbon INFO @ 22:40:33] Energy consumed for all GPUs : 0.027690 kWh. Total GPU Power : 60.787 W\n",
      "[codecarbon INFO @ 22:40:33] Energy consumed for all CPUs : 0.011345 kWh. Total CPU Power : 22.5 W\n",
      "[codecarbon INFO @ 22:40:33] 0.041955 kWh of electricity used since the beginning.\n",
      "[codecarbon INFO @ 22:40:48] Energy consumed for RAM : 0.002945 kWh. RAM Power : 5.8020172119140625 W\n",
      "[codecarbon INFO @ 22:40:48] Energy consumed for all GPUs : 0.027909 kWh. Total GPU Power : 52.679 W\n",
      "[codecarbon INFO @ 22:40:48] Energy consumed for all CPUs : 0.011439 kWh. Total CPU Power : 22.5 W\n",
      "[codecarbon INFO @ 22:40:48] 0.042293 kWh of electricity used since the beginning.\n"
     ]
    },
    {
     "data": {
      "application/vnd.jupyter.widget-view+json": {
       "model_id": "b7e6b97c86424294b24bc823294bea62",
       "version_major": 2,
       "version_minor": 0
      },
      "text/plain": [
       "Validation: |                                             | 0/? [00:00<?, ?it/s]"
      ]
     },
     "metadata": {},
     "output_type": "display_data"
    },
    {
     "name": "stderr",
     "output_type": "stream",
     "text": [
      "[codecarbon INFO @ 22:41:03] Energy consumed for RAM : 0.002969 kWh. RAM Power : 5.8020172119140625 W\n",
      "[codecarbon INFO @ 22:41:03] Energy consumed for all GPUs : 0.028058 kWh. Total GPU Power : 35.688 W\n",
      "[codecarbon INFO @ 22:41:03] Energy consumed for all CPUs : 0.011532 kWh. Total CPU Power : 22.5 W\n",
      "[codecarbon INFO @ 22:41:03] 0.042559 kWh of electricity used since the beginning.\n",
      "[codecarbon INFO @ 22:41:18] Energy consumed for RAM : 0.002993 kWh. RAM Power : 5.8020172119140625 W\n",
      "[codecarbon INFO @ 22:41:18] Energy consumed for all GPUs : 0.028310 kWh. Total GPU Power : 60.585 W\n",
      "[codecarbon INFO @ 22:41:18] Energy consumed for all CPUs : 0.011626 kWh. Total CPU Power : 22.5 W\n",
      "[codecarbon INFO @ 22:41:18] 0.042929 kWh of electricity used since the beginning.\n",
      "[codecarbon INFO @ 22:41:33] Energy consumed for RAM : 0.003017 kWh. RAM Power : 5.8020172119140625 W\n",
      "[codecarbon INFO @ 22:41:33] Energy consumed for all GPUs : 0.028547 kWh. Total GPU Power : 56.80800000000001 W\n",
      "[codecarbon INFO @ 22:41:33] Energy consumed for all CPUs : 0.011720 kWh. Total CPU Power : 22.5 W\n",
      "[codecarbon INFO @ 22:41:33] 0.043284 kWh of electricity used since the beginning.\n"
     ]
    },
    {
     "data": {
      "application/vnd.jupyter.widget-view+json": {
       "model_id": "d535ecd134474d4aa99d8e5aaf04dfa9",
       "version_major": 2,
       "version_minor": 0
      },
      "text/plain": [
       "Validation: |                                             | 0/? [00:00<?, ?it/s]"
      ]
     },
     "metadata": {},
     "output_type": "display_data"
    },
    {
     "name": "stderr",
     "output_type": "stream",
     "text": [
      "[codecarbon INFO @ 22:41:48] Energy consumed for RAM : 0.003041 kWh. RAM Power : 5.8020172119140625 W\n",
      "[codecarbon INFO @ 22:41:48] Energy consumed for all GPUs : 0.028697 kWh. Total GPU Power : 35.931 W\n",
      "[codecarbon INFO @ 22:41:48] Energy consumed for all CPUs : 0.011815 kWh. Total CPU Power : 22.5 W\n",
      "[codecarbon INFO @ 22:41:48] 0.043553 kWh of electricity used since the beginning.\n",
      "[codecarbon INFO @ 22:42:03] Energy consumed for RAM : 0.003065 kWh. RAM Power : 5.8020172119140625 W\n",
      "[codecarbon INFO @ 22:42:03] Energy consumed for all GPUs : 0.028923 kWh. Total GPU Power : 54.94200000000001 W\n",
      "[codecarbon INFO @ 22:42:03] Energy consumed for all CPUs : 0.011907 kWh. Total CPU Power : 22.5 W\n",
      "[codecarbon INFO @ 22:42:03] 0.043895 kWh of electricity used since the beginning.\n",
      "[codecarbon INFO @ 22:42:18] Energy consumed for RAM : 0.003089 kWh. RAM Power : 5.8020172119140625 W\n",
      "[codecarbon INFO @ 22:42:18] Energy consumed for all GPUs : 0.029144 kWh. Total GPU Power : 52.957 W\n",
      "[codecarbon INFO @ 22:42:18] Energy consumed for all CPUs : 0.012001 kWh. Total CPU Power : 22.5 W\n",
      "[codecarbon INFO @ 22:42:18] 0.044234 kWh of electricity used since the beginning.\n"
     ]
    },
    {
     "data": {
      "application/vnd.jupyter.widget-view+json": {
       "model_id": "721113b8c70f43fc80f7978aae18ebf9",
       "version_major": 2,
       "version_minor": 0
      },
      "text/plain": [
       "Validation: |                                             | 0/? [00:00<?, ?it/s]"
      ]
     },
     "metadata": {},
     "output_type": "display_data"
    },
    {
     "name": "stderr",
     "output_type": "stream",
     "text": [
      "[codecarbon INFO @ 22:42:33] Energy consumed for RAM : 0.003113 kWh. RAM Power : 5.8020172119140625 W\n",
      "[codecarbon INFO @ 22:42:33] Energy consumed for all GPUs : 0.029290 kWh. Total GPU Power : 35.274 W\n",
      "[codecarbon INFO @ 22:42:33] Energy consumed for all CPUs : 0.012095 kWh. Total CPU Power : 22.5 W\n",
      "[codecarbon INFO @ 22:42:33] 0.044499 kWh of electricity used since the beginning.\n",
      "[codecarbon INFO @ 22:42:48] Energy consumed for RAM : 0.003138 kWh. RAM Power : 5.8020172119140625 W\n",
      "[codecarbon INFO @ 22:42:48] Energy consumed for all GPUs : 0.029531 kWh. Total GPU Power : 57.885 W\n",
      "[codecarbon INFO @ 22:42:48] Energy consumed for all CPUs : 0.012188 kWh. Total CPU Power : 22.5 W\n",
      "[codecarbon INFO @ 22:42:48] 0.044857 kWh of electricity used since the beginning.\n",
      "[codecarbon INFO @ 22:43:03] Energy consumed for RAM : 0.003162 kWh. RAM Power : 5.8020172119140625 W\n",
      "[codecarbon INFO @ 22:43:03] Energy consumed for all GPUs : 0.029785 kWh. Total GPU Power : 60.906 W\n",
      "[codecarbon INFO @ 22:43:03] Energy consumed for all CPUs : 0.012282 kWh. Total CPU Power : 22.5 W\n",
      "[codecarbon INFO @ 22:43:03] 0.045229 kWh of electricity used since the beginning.\n"
     ]
    },
    {
     "data": {
      "application/vnd.jupyter.widget-view+json": {
       "model_id": "20c5a0e4f7914430ba46c85d59bb8c0d",
       "version_major": 2,
       "version_minor": 0
      },
      "text/plain": [
       "Validation: |                                             | 0/? [00:00<?, ?it/s]"
      ]
     },
     "metadata": {},
     "output_type": "display_data"
    },
    {
     "name": "stderr",
     "output_type": "stream",
     "text": [
      "[codecarbon INFO @ 22:43:18] Energy consumed for RAM : 0.003186 kWh. RAM Power : 5.8020172119140625 W\n",
      "[codecarbon INFO @ 22:43:18] Energy consumed for all GPUs : 0.030111 kWh. Total GPU Power : 78.214 W\n",
      "[codecarbon INFO @ 22:43:18] Energy consumed for all CPUs : 0.012376 kWh. Total CPU Power : 22.5 W\n",
      "[codecarbon INFO @ 22:43:18] 0.045673 kWh of electricity used since the beginning.\n",
      "[codecarbon INFO @ 22:43:33] Energy consumed for RAM : 0.003210 kWh. RAM Power : 5.8020172119140625 W\n",
      "[codecarbon INFO @ 22:43:33] Energy consumed for all GPUs : 0.030364 kWh. Total GPU Power : 60.715 W\n",
      "[codecarbon INFO @ 22:43:33] Energy consumed for all CPUs : 0.012470 kWh. Total CPU Power : 22.5 W\n",
      "[codecarbon INFO @ 22:43:33] 0.046043 kWh of electricity used since the beginning.\n"
     ]
    },
    {
     "data": {
      "application/vnd.jupyter.widget-view+json": {
       "model_id": "8565b6f71a234aa5be31de40635191bb",
       "version_major": 2,
       "version_minor": 0
      },
      "text/plain": [
       "Validation: |                                             | 0/? [00:00<?, ?it/s]"
      ]
     },
     "metadata": {},
     "output_type": "display_data"
    },
    {
     "name": "stderr",
     "output_type": "stream",
     "text": [
      "[codecarbon INFO @ 22:43:48] Energy consumed for RAM : 0.003234 kWh. RAM Power : 5.8020172119140625 W\n",
      "[codecarbon INFO @ 22:43:48] Energy consumed for all GPUs : 0.030550 kWh. Total GPU Power : 44.733000000000004 W\n",
      "[codecarbon INFO @ 22:43:48] Energy consumed for all CPUs : 0.012563 kWh. Total CPU Power : 22.5 W\n",
      "[codecarbon INFO @ 22:43:48] 0.046348 kWh of electricity used since the beginning.\n",
      "[codecarbon INFO @ 22:44:03] Energy consumed for RAM : 0.003258 kWh. RAM Power : 5.8020172119140625 W\n",
      "[codecarbon INFO @ 22:44:03] Energy consumed for all GPUs : 0.030835 kWh. Total GPU Power : 68.468 W\n",
      "[codecarbon INFO @ 22:44:03] Energy consumed for all CPUs : 0.012657 kWh. Total CPU Power : 22.5 W\n",
      "[codecarbon INFO @ 22:44:03] 0.046751 kWh of electricity used since the beginning.\n",
      "[codecarbon INFO @ 22:44:18] Energy consumed for RAM : 0.003282 kWh. RAM Power : 5.8020172119140625 W\n",
      "[codecarbon INFO @ 22:44:18] Energy consumed for all GPUs : 0.031104 kWh. Total GPU Power : 64.623 W\n",
      "[codecarbon INFO @ 22:44:18] Energy consumed for all CPUs : 0.012751 kWh. Total CPU Power : 22.5 W\n",
      "[codecarbon INFO @ 22:44:18] 0.047138 kWh of electricity used since the beginning.\n"
     ]
    },
    {
     "data": {
      "application/vnd.jupyter.widget-view+json": {
       "model_id": "cd2d900a634146b0b4a8066c9f7bae82",
       "version_major": 2,
       "version_minor": 0
      },
      "text/plain": [
       "Validation: |                                             | 0/? [00:00<?, ?it/s]"
      ]
     },
     "metadata": {},
     "output_type": "display_data"
    },
    {
     "name": "stderr",
     "output_type": "stream",
     "text": [
      "[codecarbon INFO @ 22:44:33] Energy consumed for RAM : 0.003307 kWh. RAM Power : 5.8020172119140625 W\n",
      "[codecarbon INFO @ 22:44:33] Energy consumed for all GPUs : 0.031414 kWh. Total GPU Power : 74.369 W\n",
      "[codecarbon INFO @ 22:44:33] Energy consumed for all CPUs : 0.012845 kWh. Total CPU Power : 22.5 W\n",
      "[codecarbon INFO @ 22:44:33] 0.047565 kWh of electricity used since the beginning.\n",
      "[codecarbon INFO @ 22:44:48] Energy consumed for RAM : 0.003331 kWh. RAM Power : 5.8020172119140625 W\n",
      "[codecarbon INFO @ 22:44:48] Energy consumed for all GPUs : 0.031675 kWh. Total GPU Power : 62.624 W\n",
      "[codecarbon INFO @ 22:44:48] Energy consumed for all CPUs : 0.012938 kWh. Total CPU Power : 22.5 W\n",
      "[codecarbon INFO @ 22:44:48] 0.047944 kWh of electricity used since the beginning.\n"
     ]
    },
    {
     "data": {
      "application/vnd.jupyter.widget-view+json": {
       "model_id": "846f0914ba06447b93447b367d2abfa6",
       "version_major": 2,
       "version_minor": 0
      },
      "text/plain": [
       "Validation: |                                             | 0/? [00:00<?, ?it/s]"
      ]
     },
     "metadata": {},
     "output_type": "display_data"
    },
    {
     "name": "stderr",
     "output_type": "stream",
     "text": [
      "[codecarbon INFO @ 22:45:03] Energy consumed for RAM : 0.003355 kWh. RAM Power : 5.8020172119140625 W\n",
      "[codecarbon INFO @ 22:45:03] Energy consumed for all GPUs : 0.031819 kWh. Total GPU Power : 34.665 W\n",
      "[codecarbon INFO @ 22:45:03] Energy consumed for all CPUs : 0.013032 kWh. Total CPU Power : 22.5 W\n",
      "[codecarbon INFO @ 22:45:03] 0.048206 kWh of electricity used since the beginning.\n",
      "[codecarbon INFO @ 22:45:18] Energy consumed for RAM : 0.003379 kWh. RAM Power : 5.8020172119140625 W\n",
      "[codecarbon INFO @ 22:45:18] Energy consumed for all GPUs : 0.032102 kWh. Total GPU Power : 67.892 W\n",
      "[codecarbon INFO @ 22:45:18] Energy consumed for all CPUs : 0.013126 kWh. Total CPU Power : 22.5 W\n",
      "[codecarbon INFO @ 22:45:18] 0.048607 kWh of electricity used since the beginning.\n",
      "[codecarbon INFO @ 22:45:33] Energy consumed for RAM : 0.003403 kWh. RAM Power : 5.8020172119140625 W\n",
      "[codecarbon INFO @ 22:45:33] Energy consumed for all GPUs : 0.032353 kWh. Total GPU Power : 60.335 W\n",
      "[codecarbon INFO @ 22:45:33] Energy consumed for all CPUs : 0.013220 kWh. Total CPU Power : 22.5 W\n",
      "[codecarbon INFO @ 22:45:33] 0.048976 kWh of electricity used since the beginning.\n"
     ]
    },
    {
     "data": {
      "application/vnd.jupyter.widget-view+json": {
       "model_id": "2f8203de36b84b078f7d8de654f1a18c",
       "version_major": 2,
       "version_minor": 0
      },
      "text/plain": [
       "Validation: |                                             | 0/? [00:00<?, ?it/s]"
      ]
     },
     "metadata": {},
     "output_type": "display_data"
    },
    {
     "name": "stderr",
     "output_type": "stream",
     "text": [
      "[codecarbon INFO @ 22:45:48] Energy consumed for RAM : 0.003427 kWh. RAM Power : 5.8020172119140625 W\n",
      "[codecarbon INFO @ 22:45:48] Energy consumed for all GPUs : 0.032661 kWh. Total GPU Power : 73.895 W\n",
      "[codecarbon INFO @ 22:45:48] Energy consumed for all CPUs : 0.013313 kWh. Total CPU Power : 22.5 W\n",
      "[codecarbon INFO @ 22:45:48] 0.049401 kWh of electricity used since the beginning.\n",
      "[codecarbon INFO @ 22:46:03] Energy consumed for RAM : 0.003452 kWh. RAM Power : 5.8020172119140625 W\n",
      "[codecarbon INFO @ 22:46:03] Energy consumed for all GPUs : 0.032937 kWh. Total GPU Power : 66.28 W\n",
      "[codecarbon INFO @ 22:46:03] Energy consumed for all CPUs : 0.013407 kWh. Total CPU Power : 22.5 W\n",
      "[codecarbon INFO @ 22:46:03] 0.049795 kWh of electricity used since the beginning.\n"
     ]
    },
    {
     "data": {
      "application/vnd.jupyter.widget-view+json": {
       "model_id": "ec498ef97e8d4d6eacdbac2819e243c9",
       "version_major": 2,
       "version_minor": 0
      },
      "text/plain": [
       "Validation: |                                             | 0/? [00:00<?, ?it/s]"
      ]
     },
     "metadata": {},
     "output_type": "display_data"
    },
    {
     "name": "stderr",
     "output_type": "stream",
     "text": [
      "[codecarbon INFO @ 22:46:18] Energy consumed for RAM : 0.003476 kWh. RAM Power : 5.8020172119140625 W\n",
      "[codecarbon INFO @ 22:46:18] Energy consumed for all GPUs : 0.033080 kWh. Total GPU Power : 34.175000000000004 W\n",
      "[codecarbon INFO @ 22:46:18] Energy consumed for all CPUs : 0.013502 kWh. Total CPU Power : 22.5 W\n",
      "[codecarbon INFO @ 22:46:18] 0.050058 kWh of electricity used since the beginning.\n",
      "[codecarbon INFO @ 22:46:33] Energy consumed for RAM : 0.003500 kWh. RAM Power : 5.8020172119140625 W\n",
      "[codecarbon INFO @ 22:46:33] Energy consumed for all GPUs : 0.033355 kWh. Total GPU Power : 65.987 W\n",
      "[codecarbon INFO @ 22:46:33] Energy consumed for all CPUs : 0.013595 kWh. Total CPU Power : 22.5 W\n",
      "[codecarbon INFO @ 22:46:33] 0.050450 kWh of electricity used since the beginning.\n"
     ]
    },
    {
     "data": {
      "application/vnd.jupyter.widget-view+json": {
       "model_id": "beb64f594d22485cb56a2874122a5169",
       "version_major": 2,
       "version_minor": 0
      },
      "text/plain": [
       "Validation: |                                             | 0/? [00:00<?, ?it/s]"
      ]
     },
     "metadata": {},
     "output_type": "display_data"
    },
    {
     "name": "stderr",
     "output_type": "stream",
     "text": [
      "[codecarbon INFO @ 22:46:48] Energy consumed for RAM : 0.003524 kWh. RAM Power : 5.8020172119140625 W\n",
      "[codecarbon INFO @ 22:46:48] Energy consumed for all GPUs : 0.033602 kWh. Total GPU Power : 59.158 W\n",
      "[codecarbon INFO @ 22:46:48] Energy consumed for all CPUs : 0.013690 kWh. Total CPU Power : 22.5 W\n",
      "[codecarbon INFO @ 22:46:48] 0.050816 kWh of electricity used since the beginning.\n",
      "[codecarbon INFO @ 22:47:03] Energy consumed for RAM : 0.003548 kWh. RAM Power : 5.8020172119140625 W\n",
      "[codecarbon INFO @ 22:47:03] Energy consumed for all GPUs : 0.033868 kWh. Total GPU Power : 64.606 W\n",
      "[codecarbon INFO @ 22:47:03] Energy consumed for all CPUs : 0.013783 kWh. Total CPU Power : 22.5 W\n",
      "[codecarbon INFO @ 22:47:03] 0.051199 kWh of electricity used since the beginning.\n",
      "[codecarbon INFO @ 22:47:18] Energy consumed for RAM : 0.003572 kWh. RAM Power : 5.8020172119140625 W\n",
      "[codecarbon INFO @ 22:47:18] Energy consumed for all GPUs : 0.034131 kWh. Total GPU Power : 63.24 W\n",
      "[codecarbon INFO @ 22:47:18] Energy consumed for all CPUs : 0.013877 kWh. Total CPU Power : 22.5 W\n",
      "[codecarbon INFO @ 22:47:18] 0.051580 kWh of electricity used since the beginning.\n"
     ]
    },
    {
     "data": {
      "application/vnd.jupyter.widget-view+json": {
       "model_id": "50a35b9977644e58a056e0b35502791a",
       "version_major": 2,
       "version_minor": 0
      },
      "text/plain": [
       "Validation: |                                             | 0/? [00:00<?, ?it/s]"
      ]
     },
     "metadata": {},
     "output_type": "display_data"
    },
    {
     "name": "stderr",
     "output_type": "stream",
     "text": [
      "[codecarbon INFO @ 22:47:33] Energy consumed for RAM : 0.003596 kWh. RAM Power : 5.8020172119140625 W\n",
      "[codecarbon INFO @ 22:47:33] Energy consumed for all GPUs : 0.034450 kWh. Total GPU Power : 76.71300000000001 W\n",
      "[codecarbon INFO @ 22:47:33] Energy consumed for all CPUs : 0.013970 kWh. Total CPU Power : 22.5 W\n",
      "[codecarbon INFO @ 22:47:33] 0.052017 kWh of electricity used since the beginning.\n",
      "[codecarbon INFO @ 22:47:48] Energy consumed for RAM : 0.003621 kWh. RAM Power : 5.8020172119140625 W\n",
      "[codecarbon INFO @ 22:47:48] Energy consumed for all GPUs : 0.034737 kWh. Total GPU Power : 68.836 W\n",
      "[codecarbon INFO @ 22:47:48] Energy consumed for all CPUs : 0.014064 kWh. Total CPU Power : 22.5 W\n",
      "[codecarbon INFO @ 22:47:48] 0.052422 kWh of electricity used since the beginning.\n"
     ]
    },
    {
     "data": {
      "application/vnd.jupyter.widget-view+json": {
       "model_id": "1d021926119f43c9819638c566795424",
       "version_major": 2,
       "version_minor": 0
      },
      "text/plain": [
       "Validation: |                                             | 0/? [00:00<?, ?it/s]"
      ]
     },
     "metadata": {},
     "output_type": "display_data"
    },
    {
     "name": "stderr",
     "output_type": "stream",
     "text": [
      "[codecarbon INFO @ 22:48:03] Energy consumed for RAM : 0.003645 kWh. RAM Power : 5.8020172119140625 W\n",
      "[codecarbon INFO @ 22:48:03] Energy consumed for all GPUs : 0.034880 kWh. Total GPU Power : 34.273 W\n",
      "[codecarbon INFO @ 22:48:03] Energy consumed for all CPUs : 0.014159 kWh. Total CPU Power : 22.5 W\n",
      "[codecarbon INFO @ 22:48:03] 0.052684 kWh of electricity used since the beginning.\n",
      "[codecarbon INFO @ 22:48:18] Energy consumed for RAM : 0.003669 kWh. RAM Power : 5.8020172119140625 W\n",
      "[codecarbon INFO @ 22:48:18] Energy consumed for all GPUs : 0.035159 kWh. Total GPU Power : 67.663 W\n",
      "[codecarbon INFO @ 22:48:18] Energy consumed for all CPUs : 0.014251 kWh. Total CPU Power : 22.5 W\n",
      "[codecarbon INFO @ 22:48:18] 0.053079 kWh of electricity used since the beginning.\n"
     ]
    },
    {
     "data": {
      "application/vnd.jupyter.widget-view+json": {
       "model_id": "82ed17be83cd4d6393eba15b43a5c62f",
       "version_major": 2,
       "version_minor": 0
      },
      "text/plain": [
       "Validation: |                                             | 0/? [00:00<?, ?it/s]"
      ]
     },
     "metadata": {},
     "output_type": "display_data"
    },
    {
     "name": "stderr",
     "output_type": "stream",
     "text": [
      "[codecarbon INFO @ 22:48:33] Energy consumed for RAM : 0.003693 kWh. RAM Power : 5.8020172119140625 W\n",
      "[codecarbon INFO @ 22:48:33] Energy consumed for all GPUs : 0.035417 kWh. Total GPU Power : 62.108000000000004 W\n",
      "[codecarbon INFO @ 22:48:33] Energy consumed for all CPUs : 0.014345 kWh. Total CPU Power : 22.5 W\n",
      "[codecarbon INFO @ 22:48:33] 0.053455 kWh of electricity used since the beginning.\n",
      "[codecarbon INFO @ 22:48:48] Energy consumed for RAM : 0.003717 kWh. RAM Power : 5.8020172119140625 W\n",
      "[codecarbon INFO @ 22:48:48] Energy consumed for all GPUs : 0.035697 kWh. Total GPU Power : 67.255 W\n",
      "[codecarbon INFO @ 22:48:48] Energy consumed for all CPUs : 0.014439 kWh. Total CPU Power : 22.5 W\n",
      "[codecarbon INFO @ 22:48:48] 0.053853 kWh of electricity used since the beginning.\n",
      "[codecarbon INFO @ 22:49:03] Energy consumed for RAM : 0.003741 kWh. RAM Power : 5.8020172119140625 W\n",
      "[codecarbon INFO @ 22:49:03] Energy consumed for all GPUs : 0.035994 kWh. Total GPU Power : 71.363 W\n",
      "[codecarbon INFO @ 22:49:03] Energy consumed for all CPUs : 0.014533 kWh. Total CPU Power : 22.5 W\n",
      "[codecarbon INFO @ 22:49:03] 0.054268 kWh of electricity used since the beginning.\n"
     ]
    },
    {
     "data": {
      "application/vnd.jupyter.widget-view+json": {
       "model_id": "92ed81da96eb48528999a874408748c1",
       "version_major": 2,
       "version_minor": 0
      },
      "text/plain": [
       "Validation: |                                             | 0/? [00:00<?, ?it/s]"
      ]
     },
     "metadata": {},
     "output_type": "display_data"
    },
    {
     "name": "stderr",
     "output_type": "stream",
     "text": [
      "[codecarbon INFO @ 22:49:18] Energy consumed for RAM : 0.003765 kWh. RAM Power : 5.8020172119140625 W\n",
      "[codecarbon INFO @ 22:49:18] Energy consumed for all GPUs : 0.036326 kWh. Total GPU Power : 79.629 W\n",
      "[codecarbon INFO @ 22:49:18] Energy consumed for all CPUs : 0.014626 kWh. Total CPU Power : 22.5 W\n",
      "[codecarbon INFO @ 22:49:18] 0.054718 kWh of electricity used since the beginning.\n",
      "[codecarbon INFO @ 22:49:33] Energy consumed for RAM : 0.003789 kWh. RAM Power : 5.8020172119140625 W\n",
      "[codecarbon INFO @ 22:49:33] Energy consumed for all GPUs : 0.036597 kWh. Total GPU Power : 65.109 W\n",
      "[codecarbon INFO @ 22:49:33] Energy consumed for all CPUs : 0.014720 kWh. Total CPU Power : 22.5 W\n",
      "[codecarbon INFO @ 22:49:33] 0.055107 kWh of electricity used since the beginning.\n"
     ]
    },
    {
     "data": {
      "application/vnd.jupyter.widget-view+json": {
       "model_id": "fd055878eb6e47ca953ce43b9171def9",
       "version_major": 2,
       "version_minor": 0
      },
      "text/plain": [
       "Validation: |                                             | 0/? [00:00<?, ?it/s]"
      ]
     },
     "metadata": {},
     "output_type": "display_data"
    },
    {
     "name": "stderr",
     "output_type": "stream",
     "text": [
      "[codecarbon INFO @ 22:49:48] Energy consumed for RAM : 0.003814 kWh. RAM Power : 5.8020172119140625 W\n",
      "[codecarbon INFO @ 22:49:48] Energy consumed for all GPUs : 0.036740 kWh. Total GPU Power : 34.325 W\n",
      "[codecarbon INFO @ 22:49:48] Energy consumed for all CPUs : 0.014814 kWh. Total CPU Power : 22.5 W\n",
      "[codecarbon INFO @ 22:49:48] 0.055368 kWh of electricity used since the beginning.\n",
      "[codecarbon INFO @ 22:50:03] Energy consumed for RAM : 0.003838 kWh. RAM Power : 5.8020172119140625 W\n",
      "[codecarbon INFO @ 22:50:03] Energy consumed for all GPUs : 0.037020 kWh. Total GPU Power : 67.209 W\n",
      "[codecarbon INFO @ 22:50:03] Energy consumed for all CPUs : 0.014908 kWh. Total CPU Power : 22.5 W\n",
      "[codecarbon INFO @ 22:50:03] 0.055765 kWh of electricity used since the beginning.\n",
      "[codecarbon INFO @ 22:50:18] Energy consumed for RAM : 0.003862 kWh. RAM Power : 5.8020172119140625 W\n",
      "[codecarbon INFO @ 22:50:18] Energy consumed for all GPUs : 0.037258 kWh. Total GPU Power : 57.35000000000001 W\n",
      "[codecarbon INFO @ 22:50:18] Energy consumed for all CPUs : 0.015002 kWh. Total CPU Power : 22.5 W\n",
      "[codecarbon INFO @ 22:50:18] 0.056122 kWh of electricity used since the beginning.\n"
     ]
    },
    {
     "data": {
      "application/vnd.jupyter.widget-view+json": {
       "model_id": "0d44d5e97a1a4e9482db406f946f28a0",
       "version_major": 2,
       "version_minor": 0
      },
      "text/plain": [
       "Validation: |                                             | 0/? [00:00<?, ?it/s]"
      ]
     },
     "metadata": {},
     "output_type": "display_data"
    },
    {
     "name": "stderr",
     "output_type": "stream",
     "text": [
      "[codecarbon INFO @ 22:50:33] Energy consumed for RAM : 0.003886 kWh. RAM Power : 5.8020172119140625 W\n",
      "[codecarbon INFO @ 22:50:33] Energy consumed for all GPUs : 0.037543 kWh. Total GPU Power : 68.28 W\n",
      "[codecarbon INFO @ 22:50:33] Energy consumed for all CPUs : 0.015095 kWh. Total CPU Power : 22.5 W\n",
      "[codecarbon INFO @ 22:50:33] 0.056524 kWh of electricity used since the beginning.\n",
      "[codecarbon INFO @ 22:50:48] Energy consumed for RAM : 0.003910 kWh. RAM Power : 5.8020172119140625 W\n",
      "[codecarbon INFO @ 22:50:48] Energy consumed for all GPUs : 0.037813 kWh. Total GPU Power : 64.861 W\n",
      "[codecarbon INFO @ 22:50:48] Energy consumed for all CPUs : 0.015189 kWh. Total CPU Power : 22.5 W\n",
      "[codecarbon INFO @ 22:50:48] 0.056912 kWh of electricity used since the beginning.\n"
     ]
    },
    {
     "data": {
      "application/vnd.jupyter.widget-view+json": {
       "model_id": "cdf696b9249e4cd58b2eb55ccbb752ad",
       "version_major": 2,
       "version_minor": 0
      },
      "text/plain": [
       "Validation: |                                             | 0/? [00:00<?, ?it/s]"
      ]
     },
     "metadata": {},
     "output_type": "display_data"
    },
    {
     "name": "stderr",
     "output_type": "stream",
     "text": [
      "[codecarbon INFO @ 22:51:03] Energy consumed for RAM : 0.003934 kWh. RAM Power : 5.8020172119140625 W\n",
      "[codecarbon INFO @ 22:51:03] Energy consumed for all GPUs : 0.037952 kWh. Total GPU Power : 33.372 W\n",
      "[codecarbon INFO @ 22:51:03] Energy consumed for all CPUs : 0.015283 kWh. Total CPU Power : 22.5 W\n",
      "[codecarbon INFO @ 22:51:03] 0.057169 kWh of electricity used since the beginning.\n",
      "[codecarbon INFO @ 22:51:18] Energy consumed for RAM : 0.003958 kWh. RAM Power : 5.8020172119140625 W\n",
      "[codecarbon INFO @ 22:51:18] Energy consumed for all GPUs : 0.038245 kWh. Total GPU Power : 70.34400000000001 W\n",
      "[codecarbon INFO @ 22:51:18] Energy consumed for all CPUs : 0.015376 kWh. Total CPU Power : 22.5 W\n",
      "[codecarbon INFO @ 22:51:18] 0.057579 kWh of electricity used since the beginning.\n"
     ]
    },
    {
     "data": {
      "application/vnd.jupyter.widget-view+json": {
       "model_id": "d44b6a9eb2384c259c91e2de46a91be1",
       "version_major": 2,
       "version_minor": 0
      },
      "text/plain": [
       "Validation: |                                             | 0/? [00:00<?, ?it/s]"
      ]
     },
     "metadata": {},
     "output_type": "display_data"
    },
    {
     "name": "stderr",
     "output_type": "stream",
     "text": [
      "[codecarbon INFO @ 22:51:33] Energy consumed for RAM : 0.003983 kWh. RAM Power : 5.8020172119140625 W\n",
      "[codecarbon INFO @ 22:51:33] Energy consumed for all GPUs : 0.038389 kWh. Total GPU Power : 34.626 W\n",
      "[codecarbon INFO @ 22:51:33] Energy consumed for all CPUs : 0.015470 kWh. Total CPU Power : 22.5 W\n",
      "[codecarbon INFO @ 22:51:33] 0.057842 kWh of electricity used since the beginning.\n",
      "[codecarbon INFO @ 22:51:48] Energy consumed for RAM : 0.004007 kWh. RAM Power : 5.8020172119140625 W\n",
      "[codecarbon INFO @ 22:51:48] Energy consumed for all GPUs : 0.038667 kWh. Total GPU Power : 66.755 W\n",
      "[codecarbon INFO @ 22:51:48] Energy consumed for all CPUs : 0.015564 kWh. Total CPU Power : 22.5 W\n",
      "[codecarbon INFO @ 22:51:48] 0.058237 kWh of electricity used since the beginning.\n",
      "[codecarbon INFO @ 22:52:03] Energy consumed for RAM : 0.004031 kWh. RAM Power : 5.8020172119140625 W\n",
      "[codecarbon INFO @ 22:52:03] Energy consumed for all GPUs : 0.038940 kWh. Total GPU Power : 65.512 W\n",
      "[codecarbon INFO @ 22:52:03] Energy consumed for all CPUs : 0.015658 kWh. Total CPU Power : 22.5 W\n",
      "[codecarbon INFO @ 22:52:03] 0.058628 kWh of electricity used since the beginning.\n"
     ]
    },
    {
     "data": {
      "application/vnd.jupyter.widget-view+json": {
       "model_id": "918b9dcfead64f66951b7a1c804e369f",
       "version_major": 2,
       "version_minor": 0
      },
      "text/plain": [
       "Validation: |                                             | 0/? [00:00<?, ?it/s]"
      ]
     },
     "metadata": {},
     "output_type": "display_data"
    },
    {
     "name": "stderr",
     "output_type": "stream",
     "text": [
      "[codecarbon INFO @ 22:52:18] Energy consumed for RAM : 0.004055 kWh. RAM Power : 5.8020172119140625 W\n",
      "[codecarbon INFO @ 22:52:18] Energy consumed for all GPUs : 0.039229 kWh. Total GPU Power : 69.49 W\n",
      "[codecarbon INFO @ 22:52:18] Energy consumed for all CPUs : 0.015751 kWh. Total CPU Power : 22.5 W\n",
      "[codecarbon INFO @ 22:52:18] 0.059035 kWh of electricity used since the beginning.\n",
      "[codecarbon INFO @ 22:52:33] Energy consumed for RAM : 0.004079 kWh. RAM Power : 5.8020172119140625 W\n",
      "[codecarbon INFO @ 22:52:33] Energy consumed for all GPUs : 0.039485 kWh. Total GPU Power : 61.591 W\n",
      "[codecarbon INFO @ 22:52:33] Energy consumed for all CPUs : 0.015845 kWh. Total CPU Power : 22.5 W\n",
      "[codecarbon INFO @ 22:52:33] 0.059410 kWh of electricity used since the beginning.\n"
     ]
    },
    {
     "data": {
      "application/vnd.jupyter.widget-view+json": {
       "model_id": "a72a754b90554f508ccc731357837a5d",
       "version_major": 2,
       "version_minor": 0
      },
      "text/plain": [
       "Validation: |                                             | 0/? [00:00<?, ?it/s]"
      ]
     },
     "metadata": {},
     "output_type": "display_data"
    },
    {
     "name": "stderr",
     "output_type": "stream",
     "text": [
      "[codecarbon INFO @ 22:52:48] Energy consumed for RAM : 0.004103 kWh. RAM Power : 5.8020172119140625 W\n",
      "[codecarbon INFO @ 22:52:48] Energy consumed for all GPUs : 0.039625 kWh. Total GPU Power : 33.549 W\n",
      "[codecarbon INFO @ 22:52:48] Energy consumed for all CPUs : 0.015939 kWh. Total CPU Power : 22.5 W\n",
      "[codecarbon INFO @ 22:52:48] 0.059667 kWh of electricity used since the beginning.\n",
      "[codecarbon INFO @ 22:53:03] Energy consumed for RAM : 0.004128 kWh. RAM Power : 5.8020172119140625 W\n",
      "[codecarbon INFO @ 22:53:03] Energy consumed for all GPUs : 0.039937 kWh. Total GPU Power : 74.762 W\n",
      "[codecarbon INFO @ 22:53:03] Energy consumed for all CPUs : 0.016033 kWh. Total CPU Power : 22.5 W\n",
      "[codecarbon INFO @ 22:53:03] 0.060097 kWh of electricity used since the beginning.\n"
     ]
    },
    {
     "data": {
      "application/vnd.jupyter.widget-view+json": {
       "model_id": "8e63c09b5d6945f7b8f430378ba16911",
       "version_major": 2,
       "version_minor": 0
      },
      "text/plain": [
       "Validation: |                                             | 0/? [00:00<?, ?it/s]"
      ]
     },
     "metadata": {},
     "output_type": "display_data"
    },
    {
     "name": "stderr",
     "output_type": "stream",
     "text": [
      "[codecarbon INFO @ 22:53:18] Energy consumed for RAM : 0.004152 kWh. RAM Power : 5.8020172119140625 W\n",
      "[codecarbon INFO @ 22:53:18] Energy consumed for all GPUs : 0.040178 kWh. Total GPU Power : 58.096000000000004 W\n",
      "[codecarbon INFO @ 22:53:18] Energy consumed for all CPUs : 0.016126 kWh. Total CPU Power : 22.5 W\n",
      "[codecarbon INFO @ 22:53:18] 0.060457 kWh of electricity used since the beginning.\n",
      "[codecarbon INFO @ 22:53:33] Energy consumed for RAM : 0.004176 kWh. RAM Power : 5.8020172119140625 W\n",
      "[codecarbon INFO @ 22:53:33] Energy consumed for all GPUs : 0.040465 kWh. Total GPU Power : 68.811 W\n",
      "[codecarbon INFO @ 22:53:33] Energy consumed for all CPUs : 0.016220 kWh. Total CPU Power : 22.5 W\n",
      "[codecarbon INFO @ 22:53:33] 0.060861 kWh of electricity used since the beginning.\n",
      "[codecarbon INFO @ 22:53:48] Energy consumed for RAM : 0.004200 kWh. RAM Power : 5.8020172119140625 W\n",
      "[codecarbon INFO @ 22:53:48] Energy consumed for all GPUs : 0.040736 kWh. Total GPU Power : 65.151 W\n",
      "[codecarbon INFO @ 22:53:48] Energy consumed for all CPUs : 0.016314 kWh. Total CPU Power : 22.5 W\n",
      "[codecarbon INFO @ 22:53:48] 0.061250 kWh of electricity used since the beginning.\n"
     ]
    },
    {
     "data": {
      "application/vnd.jupyter.widget-view+json": {
       "model_id": "ef50b5f040f743e5b961fe376df57cfe",
       "version_major": 2,
       "version_minor": 0
      },
      "text/plain": [
       "Validation: |                                             | 0/? [00:00<?, ?it/s]"
      ]
     },
     "metadata": {},
     "output_type": "display_data"
    },
    {
     "name": "stderr",
     "output_type": "stream",
     "text": [
      "[codecarbon INFO @ 22:54:03] Energy consumed for RAM : 0.004224 kWh. RAM Power : 5.8020172119140625 W\n",
      "[codecarbon INFO @ 22:54:03] Energy consumed for all GPUs : 0.041049 kWh. Total GPU Power : 74.936 W\n",
      "[codecarbon INFO @ 22:54:03] Energy consumed for all CPUs : 0.016408 kWh. Total CPU Power : 22.5 W\n",
      "[codecarbon INFO @ 22:54:03] 0.061680 kWh of electricity used since the beginning.\n",
      "[codecarbon INFO @ 22:54:18] Energy consumed for RAM : 0.004248 kWh. RAM Power : 5.8020172119140625 W\n",
      "[codecarbon INFO @ 22:54:18] Energy consumed for all GPUs : 0.041315 kWh. Total GPU Power : 64.13 W\n",
      "[codecarbon INFO @ 22:54:18] Energy consumed for all CPUs : 0.016501 kWh. Total CPU Power : 22.5 W\n",
      "[codecarbon INFO @ 22:54:18] 0.062065 kWh of electricity used since the beginning.\n"
     ]
    },
    {
     "data": {
      "application/vnd.jupyter.widget-view+json": {
       "model_id": "e9145c0ac8b74492b09a8aff8bbcd6da",
       "version_major": 2,
       "version_minor": 0
      },
      "text/plain": [
       "Validation: |                                             | 0/? [00:00<?, ?it/s]"
      ]
     },
     "metadata": {},
     "output_type": "display_data"
    },
    {
     "name": "stderr",
     "output_type": "stream",
     "text": [
      "[codecarbon INFO @ 22:54:33] Energy consumed for RAM : 0.004273 kWh. RAM Power : 5.8020172119140625 W\n",
      "[codecarbon INFO @ 22:54:33] Energy consumed for all GPUs : 0.041455 kWh. Total GPU Power : 33.609 W\n",
      "[codecarbon INFO @ 22:54:33] Energy consumed for all CPUs : 0.016595 kWh. Total CPU Power : 22.5 W\n",
      "[codecarbon INFO @ 22:54:33] 0.062323 kWh of electricity used since the beginning.\n",
      "[codecarbon INFO @ 22:54:48] Energy consumed for RAM : 0.004297 kWh. RAM Power : 5.8020172119140625 W\n",
      "[codecarbon INFO @ 22:54:48] Energy consumed for all GPUs : 0.041740 kWh. Total GPU Power : 68.233 W\n",
      "[codecarbon INFO @ 22:54:48] Energy consumed for all CPUs : 0.016689 kWh. Total CPU Power : 22.5 W\n",
      "[codecarbon INFO @ 22:54:48] 0.062725 kWh of electricity used since the beginning.\n"
     ]
    },
    {
     "data": {
      "application/vnd.jupyter.widget-view+json": {
       "model_id": "9537846d121f46aeb949e94431518f7e",
       "version_major": 2,
       "version_minor": 0
      },
      "text/plain": [
       "Validation: |                                             | 0/? [00:00<?, ?it/s]"
      ]
     },
     "metadata": {},
     "output_type": "display_data"
    },
    {
     "name": "stderr",
     "output_type": "stream",
     "text": [
      "[codecarbon INFO @ 22:55:03] Energy consumed for RAM : 0.004321 kWh. RAM Power : 5.8020172119140625 W\n",
      "[codecarbon INFO @ 22:55:03] Energy consumed for all GPUs : 0.041929 kWh. Total GPU Power : 45.528 W\n",
      "[codecarbon INFO @ 22:55:03] Energy consumed for all CPUs : 0.016783 kWh. Total CPU Power : 22.5 W\n",
      "[codecarbon INFO @ 22:55:03] 0.063032 kWh of electricity used since the beginning.\n",
      "[codecarbon INFO @ 22:55:18] Energy consumed for RAM : 0.004345 kWh. RAM Power : 5.8020172119140625 W\n",
      "[codecarbon INFO @ 22:55:18] Energy consumed for all GPUs : 0.042216 kWh. Total GPU Power : 68.834 W\n",
      "[codecarbon INFO @ 22:55:18] Energy consumed for all CPUs : 0.016876 kWh. Total CPU Power : 22.5 W\n",
      "[codecarbon INFO @ 22:55:18] 0.063437 kWh of electricity used since the beginning.\n",
      "[codecarbon INFO @ 22:55:33] Energy consumed for RAM : 0.004369 kWh. RAM Power : 5.8020172119140625 W\n",
      "[codecarbon INFO @ 22:55:33] Energy consumed for all GPUs : 0.042479 kWh. Total GPU Power : 63.315999999999995 W\n",
      "[codecarbon INFO @ 22:55:33] Energy consumed for all CPUs : 0.016970 kWh. Total CPU Power : 22.5 W\n",
      "[codecarbon INFO @ 22:55:33] 0.063819 kWh of electricity used since the beginning.\n"
     ]
    },
    {
     "data": {
      "application/vnd.jupyter.widget-view+json": {
       "model_id": "f4b390ef2790452f9c0b1a5dc31e2654",
       "version_major": 2,
       "version_minor": 0
      },
      "text/plain": [
       "Validation: |                                             | 0/? [00:00<?, ?it/s]"
      ]
     },
     "metadata": {},
     "output_type": "display_data"
    },
    {
     "name": "stderr",
     "output_type": "stream",
     "text": [
      "[codecarbon INFO @ 22:55:48] Energy consumed for RAM : 0.004393 kWh. RAM Power : 5.8020172119140625 W\n",
      "[codecarbon INFO @ 22:55:48] Energy consumed for all GPUs : 0.042817 kWh. Total GPU Power : 80.935 W\n",
      "[codecarbon INFO @ 22:55:48] Energy consumed for all CPUs : 0.017064 kWh. Total CPU Power : 22.5 W\n",
      "[codecarbon INFO @ 22:55:48] 0.064274 kWh of electricity used since the beginning.\n",
      "[codecarbon INFO @ 22:56:03] Energy consumed for RAM : 0.004417 kWh. RAM Power : 5.8020172119140625 W\n",
      "[codecarbon INFO @ 22:56:03] Energy consumed for all GPUs : 0.043086 kWh. Total GPU Power : 64.71000000000001 W\n",
      "[codecarbon INFO @ 22:56:03] Energy consumed for all CPUs : 0.017158 kWh. Total CPU Power : 22.5 W\n",
      "[codecarbon INFO @ 22:56:03] 0.064661 kWh of electricity used since the beginning.\n"
     ]
    },
    {
     "data": {
      "application/vnd.jupyter.widget-view+json": {
       "model_id": "6001d7f61e0e481f8dab47e999c3041b",
       "version_major": 2,
       "version_minor": 0
      },
      "text/plain": [
       "Validation: |                                             | 0/? [00:00<?, ?it/s]"
      ]
     },
     "metadata": {},
     "output_type": "display_data"
    },
    {
     "name": "stderr",
     "output_type": "stream",
     "text": [
      "[codecarbon INFO @ 22:56:18] Energy consumed for RAM : 0.004442 kWh. RAM Power : 5.8020172119140625 W\n",
      "[codecarbon INFO @ 22:56:18] Energy consumed for all GPUs : 0.043228 kWh. Total GPU Power : 34.259 W\n",
      "[codecarbon INFO @ 22:56:18] Energy consumed for all CPUs : 0.017251 kWh. Total CPU Power : 22.5 W\n",
      "[codecarbon INFO @ 22:56:18] 0.064921 kWh of electricity used since the beginning.\n",
      "[codecarbon INFO @ 22:56:33] Energy consumed for RAM : 0.004466 kWh. RAM Power : 5.8020172119140625 W\n",
      "[codecarbon INFO @ 22:56:33] Energy consumed for all GPUs : 0.043508 kWh. Total GPU Power : 67.172 W\n",
      "[codecarbon INFO @ 22:56:33] Energy consumed for all CPUs : 0.017345 kWh. Total CPU Power : 22.5 W\n",
      "[codecarbon INFO @ 22:56:33] 0.065319 kWh of electricity used since the beginning.\n"
     ]
    },
    {
     "data": {
      "application/vnd.jupyter.widget-view+json": {
       "model_id": "aec28a26b16a4d36b039e1a855f65f09",
       "version_major": 2,
       "version_minor": 0
      },
      "text/plain": [
       "Validation: |                                             | 0/? [00:00<?, ?it/s]"
      ]
     },
     "metadata": {},
     "output_type": "display_data"
    },
    {
     "name": "stderr",
     "output_type": "stream",
     "text": [
      "[codecarbon INFO @ 22:56:48] Energy consumed for RAM : 0.004490 kWh. RAM Power : 5.8020172119140625 W\n",
      "[codecarbon INFO @ 22:56:48] Energy consumed for all GPUs : 0.043789 kWh. Total GPU Power : 67.595 W\n",
      "[codecarbon INFO @ 22:56:48] Energy consumed for all CPUs : 0.017439 kWh. Total CPU Power : 22.5 W\n",
      "[codecarbon INFO @ 22:56:48] 0.065718 kWh of electricity used since the beginning.\n",
      "[codecarbon INFO @ 22:57:03] Energy consumed for RAM : 0.004514 kWh. RAM Power : 5.8020172119140625 W\n",
      "[codecarbon INFO @ 22:57:03] Energy consumed for all GPUs : 0.044083 kWh. Total GPU Power : 70.539 W\n",
      "[codecarbon INFO @ 22:57:03] Energy consumed for all CPUs : 0.017533 kWh. Total CPU Power : 22.5 W\n",
      "[codecarbon INFO @ 22:57:03] 0.066130 kWh of electricity used since the beginning.\n",
      "[codecarbon INFO @ 22:57:18] Energy consumed for RAM : 0.004538 kWh. RAM Power : 5.8020172119140625 W\n",
      "[codecarbon INFO @ 22:57:18] Energy consumed for all GPUs : 0.044353 kWh. Total GPU Power : 64.77500000000002 W\n",
      "[codecarbon INFO @ 22:57:18] Energy consumed for all CPUs : 0.017626 kWh. Total CPU Power : 22.5 W\n",
      "[codecarbon INFO @ 22:57:18] 0.066517 kWh of electricity used since the beginning.\n"
     ]
    },
    {
     "data": {
      "application/vnd.jupyter.widget-view+json": {
       "model_id": "9c5b97751a884c4bbb5e4990188a2287",
       "version_major": 2,
       "version_minor": 0
      },
      "text/plain": [
       "Validation: |                                             | 0/? [00:00<?, ?it/s]"
      ]
     },
     "metadata": {},
     "output_type": "display_data"
    },
    {
     "name": "stderr",
     "output_type": "stream",
     "text": [
      "[codecarbon INFO @ 22:57:33] Energy consumed for RAM : 0.004562 kWh. RAM Power : 5.8020172119140625 W\n",
      "[codecarbon INFO @ 22:57:33] Energy consumed for all GPUs : 0.044684 kWh. Total GPU Power : 79.455 W\n",
      "[codecarbon INFO @ 22:57:33] Energy consumed for all CPUs : 0.017720 kWh. Total CPU Power : 22.5 W\n",
      "[codecarbon INFO @ 22:57:33] 0.066966 kWh of electricity used since the beginning.\n",
      "[codecarbon INFO @ 22:57:48] Energy consumed for RAM : 0.004587 kWh. RAM Power : 5.8020172119140625 W\n",
      "[codecarbon INFO @ 22:57:48] Energy consumed for all GPUs : 0.044976 kWh. Total GPU Power : 70.20400000000001 W\n",
      "[codecarbon INFO @ 22:57:48] Energy consumed for all CPUs : 0.017814 kWh. Total CPU Power : 22.5 W\n",
      "[codecarbon INFO @ 22:57:48] 0.067376 kWh of electricity used since the beginning.\n"
     ]
    },
    {
     "data": {
      "application/vnd.jupyter.widget-view+json": {
       "model_id": "66f1bfbf1f0f4d4a9dff4697a66f68ee",
       "version_major": 2,
       "version_minor": 0
      },
      "text/plain": [
       "Validation: |                                             | 0/? [00:00<?, ?it/s]"
      ]
     },
     "metadata": {},
     "output_type": "display_data"
    },
    {
     "name": "stderr",
     "output_type": "stream",
     "text": [
      "[codecarbon INFO @ 22:58:03] Energy consumed for RAM : 0.004611 kWh. RAM Power : 5.8020172119140625 W\n",
      "[codecarbon INFO @ 22:58:03] Energy consumed for all GPUs : 0.045119 kWh. Total GPU Power : 34.295 W\n",
      "[codecarbon INFO @ 22:58:03] Energy consumed for all CPUs : 0.017908 kWh. Total CPU Power : 22.5 W\n",
      "[codecarbon INFO @ 22:58:03] 0.067637 kWh of electricity used since the beginning.\n",
      "[codecarbon INFO @ 22:58:18] Energy consumed for RAM : 0.004635 kWh. RAM Power : 5.8020172119140625 W\n",
      "[codecarbon INFO @ 22:58:18] Energy consumed for all GPUs : 0.045422 kWh. Total GPU Power : 72.862 W\n",
      "[codecarbon INFO @ 22:58:18] Energy consumed for all CPUs : 0.018001 kWh. Total CPU Power : 22.5 W\n",
      "[codecarbon INFO @ 22:58:18] 0.068058 kWh of electricity used since the beginning.\n",
      "[codecarbon INFO @ 22:58:33] Energy consumed for RAM : 0.004659 kWh. RAM Power : 5.8020172119140625 W\n",
      "[codecarbon INFO @ 22:58:33] Energy consumed for all GPUs : 0.045658 kWh. Total GPU Power : 56.550000000000004 W\n",
      "[codecarbon INFO @ 22:58:33] Energy consumed for all CPUs : 0.018095 kWh. Total CPU Power : 22.5 W\n",
      "[codecarbon INFO @ 22:58:33] 0.068413 kWh of electricity used since the beginning.\n"
     ]
    },
    {
     "data": {
      "application/vnd.jupyter.widget-view+json": {
       "model_id": "9c86011fe42440548a0b4ca95a8f39b1",
       "version_major": 2,
       "version_minor": 0
      },
      "text/plain": [
       "Validation: |                                             | 0/? [00:00<?, ?it/s]"
      ]
     },
     "metadata": {},
     "output_type": "display_data"
    },
    {
     "name": "stderr",
     "output_type": "stream",
     "text": [
      "[codecarbon INFO @ 22:58:48] Energy consumed for RAM : 0.004683 kWh. RAM Power : 5.8020172119140625 W\n",
      "[codecarbon INFO @ 22:58:48] Energy consumed for all GPUs : 0.045973 kWh. Total GPU Power : 75.885 W\n",
      "[codecarbon INFO @ 22:58:48] Energy consumed for all CPUs : 0.018189 kWh. Total CPU Power : 22.5 W\n",
      "[codecarbon INFO @ 22:58:48] 0.068845 kWh of electricity used since the beginning.\n",
      "[codecarbon INFO @ 22:59:03] Energy consumed for RAM : 0.004707 kWh. RAM Power : 5.8020172119140625 W\n",
      "[codecarbon INFO @ 22:59:03] Energy consumed for all GPUs : 0.046270 kWh. Total GPU Power : 71.261 W\n",
      "[codecarbon INFO @ 22:59:03] Energy consumed for all CPUs : 0.018282 kWh. Total CPU Power : 22.5 W\n",
      "[codecarbon INFO @ 22:59:03] 0.069260 kWh of electricity used since the beginning.\n"
     ]
    },
    {
     "data": {
      "application/vnd.jupyter.widget-view+json": {
       "model_id": "ff9447d6ffc247be9fe39b39b862b667",
       "version_major": 2,
       "version_minor": 0
      },
      "text/plain": [
       "Validation: |                                             | 0/? [00:00<?, ?it/s]"
      ]
     },
     "metadata": {},
     "output_type": "display_data"
    },
    {
     "name": "stderr",
     "output_type": "stream",
     "text": [
      "[codecarbon INFO @ 22:59:18] Energy consumed for RAM : 0.004731 kWh. RAM Power : 5.8020172119140625 W\n",
      "[codecarbon INFO @ 22:59:18] Energy consumed for all GPUs : 0.046411 kWh. Total GPU Power : 33.751 W\n",
      "[codecarbon INFO @ 22:59:18] Energy consumed for all CPUs : 0.018376 kWh. Total CPU Power : 22.5 W\n",
      "[codecarbon INFO @ 22:59:18] 0.069518 kWh of electricity used since the beginning.\n",
      "[codecarbon INFO @ 22:59:33] Energy consumed for RAM : 0.004756 kWh. RAM Power : 5.8020172119140625 W\n",
      "[codecarbon INFO @ 22:59:33] Energy consumed for all GPUs : 0.046702 kWh. Total GPU Power : 69.903 W\n",
      "[codecarbon INFO @ 22:59:33] Energy consumed for all CPUs : 0.018470 kWh. Total CPU Power : 22.5 W\n",
      "[codecarbon INFO @ 22:59:33] 0.069927 kWh of electricity used since the beginning.\n"
     ]
    },
    {
     "data": {
      "application/vnd.jupyter.widget-view+json": {
       "model_id": "1884635efe2c48e19b649f2e9862f0d4",
       "version_major": 2,
       "version_minor": 0
      },
      "text/plain": [
       "Validation: |                                             | 0/? [00:00<?, ?it/s]"
      ]
     },
     "metadata": {},
     "output_type": "display_data"
    },
    {
     "name": "stderr",
     "output_type": "stream",
     "text": [
      "[codecarbon INFO @ 22:59:48] Energy consumed for RAM : 0.004780 kWh. RAM Power : 5.8020172119140625 W\n",
      "[codecarbon INFO @ 22:59:48] Energy consumed for all GPUs : 0.046959 kWh. Total GPU Power : 61.515 W\n",
      "[codecarbon INFO @ 22:59:48] Energy consumed for all CPUs : 0.018565 kWh. Total CPU Power : 22.5 W\n",
      "[codecarbon INFO @ 22:59:48] 0.070304 kWh of electricity used since the beginning.\n",
      "[codecarbon INFO @ 23:00:03] Energy consumed for RAM : 0.004804 kWh. RAM Power : 5.8020172119140625 W\n",
      "[codecarbon INFO @ 23:00:03] Energy consumed for all GPUs : 0.047226 kWh. Total GPU Power : 65.22 W\n",
      "[codecarbon INFO @ 23:00:03] Energy consumed for all CPUs : 0.018657 kWh. Total CPU Power : 22.5 W\n",
      "[codecarbon INFO @ 23:00:03] 0.070687 kWh of electricity used since the beginning.\n",
      "[codecarbon INFO @ 23:00:18] Energy consumed for RAM : 0.004828 kWh. RAM Power : 5.8020172119140625 W\n",
      "[codecarbon INFO @ 23:00:18] Energy consumed for all GPUs : 0.047510 kWh. Total GPU Power : 68.038 W\n",
      "[codecarbon INFO @ 23:00:18] Energy consumed for all CPUs : 0.018751 kWh. Total CPU Power : 22.5 W\n",
      "[codecarbon INFO @ 23:00:18] 0.071088 kWh of electricity used since the beginning.\n"
     ]
    },
    {
     "data": {
      "application/vnd.jupyter.widget-view+json": {
       "model_id": "35a1d96d8e8f490c801f01f1cfd386fa",
       "version_major": 2,
       "version_minor": 0
      },
      "text/plain": [
       "Validation: |                                             | 0/? [00:00<?, ?it/s]"
      ]
     },
     "metadata": {},
     "output_type": "display_data"
    },
    {
     "name": "stderr",
     "output_type": "stream",
     "text": [
      "[codecarbon INFO @ 23:00:33] Energy consumed for RAM : 0.004852 kWh. RAM Power : 5.8020172119140625 W\n",
      "[codecarbon INFO @ 23:00:33] Energy consumed for all GPUs : 0.047844 kWh. Total GPU Power : 80.2 W\n",
      "[codecarbon INFO @ 23:00:33] Energy consumed for all CPUs : 0.018845 kWh. Total CPU Power : 22.5 W\n",
      "[codecarbon INFO @ 23:00:33] 0.071540 kWh of electricity used since the beginning.\n",
      "[codecarbon INFO @ 23:00:48] Energy consumed for RAM : 0.004876 kWh. RAM Power : 5.8020172119140625 W\n",
      "[codecarbon INFO @ 23:00:48] Energy consumed for all GPUs : 0.048128 kWh. Total GPU Power : 68.385 W\n",
      "[codecarbon INFO @ 23:00:48] Energy consumed for all CPUs : 0.018939 kWh. Total CPU Power : 22.5 W\n",
      "[codecarbon INFO @ 23:00:48] 0.071943 kWh of electricity used since the beginning.\n"
     ]
    },
    {
     "data": {
      "application/vnd.jupyter.widget-view+json": {
       "model_id": "ef62a7af8fc54a3ba8c0c81b57431e31",
       "version_major": 2,
       "version_minor": 0
      },
      "text/plain": [
       "Validation: |                                             | 0/? [00:00<?, ?it/s]"
      ]
     },
     "metadata": {},
     "output_type": "display_data"
    },
    {
     "name": "stderr",
     "output_type": "stream",
     "text": [
      "[codecarbon INFO @ 23:01:03] Energy consumed for RAM : 0.004900 kWh. RAM Power : 5.8020172119140625 W\n",
      "[codecarbon INFO @ 23:01:03] Energy consumed for all GPUs : 0.048270 kWh. Total GPU Power : 33.823 W\n",
      "[codecarbon INFO @ 23:01:03] Energy consumed for all CPUs : 0.019033 kWh. Total CPU Power : 22.5 W\n",
      "[codecarbon INFO @ 23:01:03] 0.072202 kWh of electricity used since the beginning.\n",
      "[codecarbon INFO @ 23:01:18] Energy consumed for RAM : 0.004924 kWh. RAM Power : 5.8020172119140625 W\n",
      "[codecarbon INFO @ 23:01:18] Energy consumed for all GPUs : 0.048580 kWh. Total GPU Power : 74.811 W\n",
      "[codecarbon INFO @ 23:01:18] Energy consumed for all CPUs : 0.019126 kWh. Total CPU Power : 22.5 W\n",
      "[codecarbon INFO @ 23:01:18] 0.072631 kWh of electricity used since the beginning.\n",
      "[codecarbon INFO @ 23:01:33] Energy consumed for RAM : 0.004949 kWh. RAM Power : 5.8020172119140625 W\n",
      "[codecarbon INFO @ 23:01:33] Energy consumed for all GPUs : 0.048850 kWh. Total GPU Power : 64.69 W\n",
      "[codecarbon INFO @ 23:01:33] Energy consumed for all CPUs : 0.019220 kWh. Total CPU Power : 22.5 W\n",
      "[codecarbon INFO @ 23:01:33] 0.073018 kWh of electricity used since the beginning.\n"
     ]
    },
    {
     "data": {
      "application/vnd.jupyter.widget-view+json": {
       "model_id": "bf1d3a87237f42d7914aa7f86d7e228f",
       "version_major": 2,
       "version_minor": 0
      },
      "text/plain": [
       "Validation: |                                             | 0/? [00:00<?, ?it/s]"
      ]
     },
     "metadata": {},
     "output_type": "display_data"
    },
    {
     "name": "stderr",
     "output_type": "stream",
     "text": [
      "[codecarbon INFO @ 23:01:48] Energy consumed for RAM : 0.004973 kWh. RAM Power : 5.8020172119140625 W\n",
      "[codecarbon INFO @ 23:01:48] Energy consumed for all GPUs : 0.049079 kWh. Total GPU Power : 54.975 W\n",
      "[codecarbon INFO @ 23:01:48] Energy consumed for all CPUs : 0.019314 kWh. Total CPU Power : 22.5 W\n",
      "[codecarbon INFO @ 23:01:48] 0.073365 kWh of electricity used since the beginning.\n",
      "[codecarbon INFO @ 23:02:03] Energy consumed for RAM : 0.004997 kWh. RAM Power : 5.8020172119140625 W\n",
      "[codecarbon INFO @ 23:02:03] Energy consumed for all GPUs : 0.049369 kWh. Total GPU Power : 69.64 W\n",
      "[codecarbon INFO @ 23:02:03] Energy consumed for all CPUs : 0.019407 kWh. Total CPU Power : 22.5 W\n",
      "[codecarbon INFO @ 23:02:03] 0.073773 kWh of electricity used since the beginning.\n"
     ]
    },
    {
     "data": {
      "application/vnd.jupyter.widget-view+json": {
       "model_id": "b843c13ea68945c899c114e3cfdc183b",
       "version_major": 2,
       "version_minor": 0
      },
      "text/plain": [
       "Validation: |                                             | 0/? [00:00<?, ?it/s]"
      ]
     },
     "metadata": {},
     "output_type": "display_data"
    },
    {
     "name": "stderr",
     "output_type": "stream",
     "text": [
      "[codecarbon INFO @ 23:02:18] Energy consumed for RAM : 0.005021 kWh. RAM Power : 5.8020172119140625 W\n",
      "[codecarbon INFO @ 23:02:18] Energy consumed for all GPUs : 0.049512 kWh. Total GPU Power : 34.398 W\n",
      "[codecarbon INFO @ 23:02:18] Energy consumed for all CPUs : 0.019501 kWh. Total CPU Power : 22.5 W\n",
      "[codecarbon INFO @ 23:02:18] 0.074034 kWh of electricity used since the beginning.\n",
      "[codecarbon INFO @ 23:02:33] Energy consumed for RAM : 0.005045 kWh. RAM Power : 5.8020172119140625 W\n",
      "[codecarbon INFO @ 23:02:33] Energy consumed for all GPUs : 0.049835 kWh. Total GPU Power : 77.607 W\n",
      "[codecarbon INFO @ 23:02:33] Energy consumed for all CPUs : 0.019595 kWh. Total CPU Power : 22.5 W\n",
      "[codecarbon INFO @ 23:02:33] 0.074475 kWh of electricity used since the beginning.\n",
      "[codecarbon INFO @ 23:02:48] Energy consumed for RAM : 0.005069 kWh. RAM Power : 5.8020172119140625 W\n",
      "[codecarbon INFO @ 23:02:48] Energy consumed for all GPUs : 0.050091 kWh. Total GPU Power : 61.36800000000001 W\n",
      "[codecarbon INFO @ 23:02:48] Energy consumed for all CPUs : 0.019689 kWh. Total CPU Power : 22.5 W\n",
      "[codecarbon INFO @ 23:02:48] 0.074849 kWh of electricity used since the beginning.\n"
     ]
    },
    {
     "data": {
      "application/vnd.jupyter.widget-view+json": {
       "model_id": "c610f361e89d40bdb93b2ea28f81025f",
       "version_major": 2,
       "version_minor": 0
      },
      "text/plain": [
       "Validation: |                                             | 0/? [00:00<?, ?it/s]"
      ]
     },
     "metadata": {},
     "output_type": "display_data"
    },
    {
     "name": "stderr",
     "output_type": "stream",
     "text": [
      "[codecarbon INFO @ 23:03:03] Energy consumed for RAM : 0.005093 kWh. RAM Power : 5.8020172119140625 W\n",
      "[codecarbon INFO @ 23:03:03] Energy consumed for all GPUs : 0.050230 kWh. Total GPU Power : 33.311 W\n",
      "[codecarbon INFO @ 23:03:03] Energy consumed for all CPUs : 0.019782 kWh. Total CPU Power : 22.5 W\n",
      "[codecarbon INFO @ 23:03:03] 0.075105 kWh of electricity used since the beginning.\n",
      "[codecarbon INFO @ 23:03:18] Energy consumed for RAM : 0.005118 kWh. RAM Power : 5.8020172119140625 W\n",
      "[codecarbon INFO @ 23:03:18] Energy consumed for all GPUs : 0.050517 kWh. Total GPU Power : 69.08200000000001 W\n",
      "[codecarbon INFO @ 23:03:18] Energy consumed for all CPUs : 0.019876 kWh. Total CPU Power : 22.5 W\n",
      "[codecarbon INFO @ 23:03:18] 0.075511 kWh of electricity used since the beginning.\n"
     ]
    },
    {
     "data": {
      "application/vnd.jupyter.widget-view+json": {
       "model_id": "237bcf055c034d699fed84fb47d28805",
       "version_major": 2,
       "version_minor": 0
      },
      "text/plain": [
       "Validation: |                                             | 0/? [00:00<?, ?it/s]"
      ]
     },
     "metadata": {},
     "output_type": "display_data"
    },
    {
     "name": "stderr",
     "output_type": "stream",
     "text": [
      "[codecarbon INFO @ 23:03:33] Energy consumed for RAM : 0.005142 kWh. RAM Power : 5.8020172119140625 W\n",
      "[codecarbon INFO @ 23:03:33] Energy consumed for all GPUs : 0.050793 kWh. Total GPU Power : 66.129 W\n",
      "[codecarbon INFO @ 23:03:33] Energy consumed for all CPUs : 0.019970 kWh. Total CPU Power : 22.5 W\n",
      "[codecarbon INFO @ 23:03:33] 0.075904 kWh of electricity used since the beginning.\n",
      "[codecarbon INFO @ 23:03:48] Energy consumed for RAM : 0.005166 kWh. RAM Power : 5.8020172119140625 W\n",
      "[codecarbon INFO @ 23:03:48] Energy consumed for all GPUs : 0.051160 kWh. Total GPU Power : 88.159 W\n",
      "[codecarbon INFO @ 23:03:48] Energy consumed for all CPUs : 0.020064 kWh. Total CPU Power : 22.5 W\n",
      "[codecarbon INFO @ 23:03:48] 0.076389 kWh of electricity used since the beginning.\n",
      "[codecarbon INFO @ 23:04:03] Energy consumed for RAM : 0.005190 kWh. RAM Power : 5.8020172119140625 W\n",
      "[codecarbon INFO @ 23:04:03] Energy consumed for all GPUs : 0.051417 kWh. Total GPU Power : 61.89 W\n",
      "[codecarbon INFO @ 23:04:03] Energy consumed for all CPUs : 0.020157 kWh. Total CPU Power : 22.5 W\n",
      "[codecarbon INFO @ 23:04:03] 0.076765 kWh of electricity used since the beginning.\n"
     ]
    },
    {
     "data": {
      "application/vnd.jupyter.widget-view+json": {
       "model_id": "1ffe775bee294d1b959211e3071b2e21",
       "version_major": 2,
       "version_minor": 0
      },
      "text/plain": [
       "Validation: |                                             | 0/? [00:00<?, ?it/s]"
      ]
     },
     "metadata": {},
     "output_type": "display_data"
    },
    {
     "name": "stderr",
     "output_type": "stream",
     "text": [
      "[codecarbon INFO @ 23:04:18] Energy consumed for RAM : 0.005214 kWh. RAM Power : 5.8020172119140625 W\n",
      "[codecarbon INFO @ 23:04:18] Energy consumed for all GPUs : 0.051557 kWh. Total GPU Power : 33.605000000000004 W\n",
      "[codecarbon INFO @ 23:04:18] Energy consumed for all CPUs : 0.020251 kWh. Total CPU Power : 22.5 W\n",
      "[codecarbon INFO @ 23:04:18] 0.077023 kWh of electricity used since the beginning.\n",
      "[codecarbon INFO @ 23:04:33] Energy consumed for RAM : 0.005238 kWh. RAM Power : 5.8020172119140625 W\n",
      "[codecarbon INFO @ 23:04:33] Energy consumed for all GPUs : 0.051877 kWh. Total GPU Power : 76.789 W\n",
      "[codecarbon INFO @ 23:04:33] Energy consumed for all CPUs : 0.020345 kWh. Total CPU Power : 22.5 W\n",
      "[codecarbon INFO @ 23:04:33] 0.077460 kWh of electricity used since the beginning.\n",
      "[codecarbon INFO @ 23:04:48] Energy consumed for RAM : 0.005263 kWh. RAM Power : 5.8020172119140625 W\n",
      "[codecarbon INFO @ 23:04:48] Energy consumed for all GPUs : 0.052163 kWh. Total GPU Power : 68.54100000000001 W\n",
      "[codecarbon INFO @ 23:04:48] Energy consumed for all CPUs : 0.020439 kWh. Total CPU Power : 22.5 W\n",
      "[codecarbon INFO @ 23:04:48] 0.077864 kWh of electricity used since the beginning.\n"
     ]
    },
    {
     "data": {
      "application/vnd.jupyter.widget-view+json": {
       "model_id": "8071e4130120424d92acb286c99d1e11",
       "version_major": 2,
       "version_minor": 0
      },
      "text/plain": [
       "Validation: |                                             | 0/? [00:00<?, ?it/s]"
      ]
     },
     "metadata": {},
     "output_type": "display_data"
    },
    {
     "name": "stderr",
     "output_type": "stream",
     "text": [
      "[codecarbon INFO @ 23:05:03] Energy consumed for RAM : 0.005287 kWh. RAM Power : 5.8020172119140625 W\n",
      "[codecarbon INFO @ 23:05:03] Energy consumed for all GPUs : 0.052468 kWh. Total GPU Power : 73.322 W\n",
      "[codecarbon INFO @ 23:05:03] Energy consumed for all CPUs : 0.020532 kWh. Total CPU Power : 22.5 W\n",
      "[codecarbon INFO @ 23:05:03] 0.078287 kWh of electricity used since the beginning.\n",
      "[codecarbon INFO @ 23:05:18] Energy consumed for RAM : 0.005311 kWh. RAM Power : 5.8020172119140625 W\n",
      "[codecarbon INFO @ 23:05:18] Energy consumed for all GPUs : 0.052752 kWh. Total GPU Power : 68.255 W\n",
      "[codecarbon INFO @ 23:05:18] Energy consumed for all CPUs : 0.020626 kWh. Total CPU Power : 22.5 W\n",
      "[codecarbon INFO @ 23:05:18] 0.078689 kWh of electricity used since the beginning.\n"
     ]
    },
    {
     "data": {
      "application/vnd.jupyter.widget-view+json": {
       "model_id": "d7c42545332f488392706a71618d4fdf",
       "version_major": 2,
       "version_minor": 0
      },
      "text/plain": [
       "Validation: |                                             | 0/? [00:00<?, ?it/s]"
      ]
     },
     "metadata": {},
     "output_type": "display_data"
    },
    {
     "name": "stderr",
     "output_type": "stream",
     "text": [
      "[codecarbon INFO @ 23:05:33] Energy consumed for RAM : 0.005335 kWh. RAM Power : 5.8020172119140625 W\n",
      "[codecarbon INFO @ 23:05:33] Energy consumed for all GPUs : 0.052895 kWh. Total GPU Power : 34.291000000000004 W\n",
      "[codecarbon INFO @ 23:05:33] Energy consumed for all CPUs : 0.020721 kWh. Total CPU Power : 22.5 W\n",
      "[codecarbon INFO @ 23:05:33] 0.078952 kWh of electricity used since the beginning.\n",
      "[codecarbon INFO @ 23:05:48] Energy consumed for RAM : 0.005359 kWh. RAM Power : 5.8020172119140625 W\n",
      "[codecarbon INFO @ 23:05:48] Energy consumed for all GPUs : 0.053174 kWh. Total GPU Power : 67.834 W\n",
      "[codecarbon INFO @ 23:05:48] Energy consumed for all CPUs : 0.020814 kWh. Total CPU Power : 22.5 W\n",
      "[codecarbon INFO @ 23:05:48] 0.079347 kWh of electricity used since the beginning.\n"
     ]
    },
    {
     "data": {
      "application/vnd.jupyter.widget-view+json": {
       "model_id": "779377b877384384a8601a3f3218a9a5",
       "version_major": 2,
       "version_minor": 0
      },
      "text/plain": [
       "Validation: |                                             | 0/? [00:00<?, ?it/s]"
      ]
     },
     "metadata": {},
     "output_type": "display_data"
    },
    {
     "name": "stderr",
     "output_type": "stream",
     "text": [
      "[codecarbon INFO @ 23:06:03] Energy consumed for RAM : 0.005383 kWh. RAM Power : 5.8020172119140625 W\n",
      "[codecarbon INFO @ 23:06:03] Energy consumed for all GPUs : 0.053412 kWh. Total GPU Power : 57.131 W\n",
      "[codecarbon INFO @ 23:06:03] Energy consumed for all CPUs : 0.020907 kWh. Total CPU Power : 22.5 W\n",
      "[codecarbon INFO @ 23:06:03] 0.079703 kWh of electricity used since the beginning.\n",
      "[codecarbon INFO @ 23:06:18] Energy consumed for RAM : 0.005407 kWh. RAM Power : 5.8020172119140625 W\n",
      "[codecarbon INFO @ 23:06:18] Energy consumed for all GPUs : 0.053712 kWh. Total GPU Power : 72.117 W\n",
      "[codecarbon INFO @ 23:06:18] Energy consumed for all CPUs : 0.021001 kWh. Total CPU Power : 22.5 W\n",
      "[codecarbon INFO @ 23:06:18] 0.080121 kWh of electricity used since the beginning.\n",
      "[codecarbon INFO @ 23:06:33] Energy consumed for RAM : 0.005431 kWh. RAM Power : 5.8020172119140625 W\n",
      "[codecarbon INFO @ 23:06:33] Energy consumed for all GPUs : 0.053992 kWh. Total GPU Power : 67.007 W\n",
      "[codecarbon INFO @ 23:06:33] Energy consumed for all CPUs : 0.021095 kWh. Total CPU Power : 22.5 W\n",
      "[codecarbon INFO @ 23:06:33] 0.080518 kWh of electricity used since the beginning.\n"
     ]
    },
    {
     "data": {
      "application/vnd.jupyter.widget-view+json": {
       "model_id": "55f9703fdd60445887652e5e6286c29a",
       "version_major": 2,
       "version_minor": 0
      },
      "text/plain": [
       "Validation: |                                             | 0/? [00:00<?, ?it/s]"
      ]
     },
     "metadata": {},
     "output_type": "display_data"
    },
    {
     "name": "stderr",
     "output_type": "stream",
     "text": [
      "[codecarbon INFO @ 23:06:48] Energy consumed for RAM : 0.005456 kWh. RAM Power : 5.8020172119140625 W\n",
      "[codecarbon INFO @ 23:06:48] Energy consumed for all GPUs : 0.054135 kWh. Total GPU Power : 34.312 W\n",
      "[codecarbon INFO @ 23:06:48] Energy consumed for all CPUs : 0.021189 kWh. Total CPU Power : 22.5 W\n",
      "[codecarbon INFO @ 23:06:48] 0.080779 kWh of electricity used since the beginning.\n",
      "[codecarbon INFO @ 23:07:03] Energy consumed for RAM : 0.005480 kWh. RAM Power : 5.8020172119140625 W\n",
      "[codecarbon INFO @ 23:07:03] Energy consumed for all GPUs : 0.054431 kWh. Total GPU Power : 71.236 W\n",
      "[codecarbon INFO @ 23:07:03] Energy consumed for all CPUs : 0.021282 kWh. Total CPU Power : 22.5 W\n",
      "[codecarbon INFO @ 23:07:03] 0.081193 kWh of electricity used since the beginning.\n"
     ]
    },
    {
     "data": {
      "application/vnd.jupyter.widget-view+json": {
       "model_id": "01e96d0c959547fc89e4bf2d253f8cce",
       "version_major": 2,
       "version_minor": 0
      },
      "text/plain": [
       "Validation: |                                             | 0/? [00:00<?, ?it/s]"
      ]
     },
     "metadata": {},
     "output_type": "display_data"
    },
    {
     "name": "stderr",
     "output_type": "stream",
     "text": [
      "[codecarbon INFO @ 23:07:18] Energy consumed for RAM : 0.005504 kWh. RAM Power : 5.8020172119140625 W\n",
      "[codecarbon INFO @ 23:07:18] Energy consumed for all GPUs : 0.054576 kWh. Total GPU Power : 34.491 W\n",
      "[codecarbon INFO @ 23:07:18] Energy consumed for all CPUs : 0.021378 kWh. Total CPU Power : 22.5 W\n",
      "[codecarbon INFO @ 23:07:18] 0.081458 kWh of electricity used since the beginning.\n",
      "[codecarbon INFO @ 23:07:33] Energy consumed for RAM : 0.005528 kWh. RAM Power : 5.8020172119140625 W\n",
      "[codecarbon INFO @ 23:07:33] Energy consumed for all GPUs : 0.054892 kWh. Total GPU Power : 76.269 W\n",
      "[codecarbon INFO @ 23:07:33] Energy consumed for all CPUs : 0.021471 kWh. Total CPU Power : 22.5 W\n",
      "[codecarbon INFO @ 23:07:33] 0.081890 kWh of electricity used since the beginning.\n",
      "[codecarbon INFO @ 23:07:48] Energy consumed for RAM : 0.005552 kWh. RAM Power : 5.8020172119140625 W\n",
      "[codecarbon INFO @ 23:07:48] Energy consumed for all GPUs : 0.055172 kWh. Total GPU Power : 67.32900000000001 W\n",
      "[codecarbon INFO @ 23:07:48] Energy consumed for all CPUs : 0.021564 kWh. Total CPU Power : 22.5 W\n",
      "[codecarbon INFO @ 23:07:48] 0.082289 kWh of electricity used since the beginning.\n"
     ]
    },
    {
     "data": {
      "application/vnd.jupyter.widget-view+json": {
       "model_id": "fa12d591b4554af8b421ad6cc7941785",
       "version_major": 2,
       "version_minor": 0
      },
      "text/plain": [
       "Validation: |                                             | 0/? [00:00<?, ?it/s]"
      ]
     },
     "metadata": {},
     "output_type": "display_data"
    },
    {
     "name": "stderr",
     "output_type": "stream",
     "text": [
      "[codecarbon INFO @ 23:08:03] Energy consumed for RAM : 0.005576 kWh. RAM Power : 5.8020172119140625 W\n",
      "[codecarbon INFO @ 23:08:03] Energy consumed for all GPUs : 0.055502 kWh. Total GPU Power : 79.32000000000002 W\n",
      "[codecarbon INFO @ 23:08:03] Energy consumed for all CPUs : 0.021658 kWh. Total CPU Power : 22.5 W\n",
      "[codecarbon INFO @ 23:08:03] 0.082737 kWh of electricity used since the beginning.\n",
      "[codecarbon INFO @ 23:08:18] Energy consumed for RAM : 0.005601 kWh. RAM Power : 5.8020172119140625 W\n",
      "[codecarbon INFO @ 23:08:18] Energy consumed for all GPUs : 0.055782 kWh. Total GPU Power : 67.19500000000001 W\n",
      "[codecarbon INFO @ 23:08:18] Energy consumed for all CPUs : 0.021752 kWh. Total CPU Power : 22.5 W\n",
      "[codecarbon INFO @ 23:08:18] 0.083135 kWh of electricity used since the beginning.\n"
     ]
    },
    {
     "data": {
      "application/vnd.jupyter.widget-view+json": {
       "model_id": "49cc259d0f9844f4ba55984a08989eee",
       "version_major": 2,
       "version_minor": 0
      },
      "text/plain": [
       "Validation: |                                             | 0/? [00:00<?, ?it/s]"
      ]
     },
     "metadata": {},
     "output_type": "display_data"
    },
    {
     "name": "stderr",
     "output_type": "stream",
     "text": [
      "[codecarbon INFO @ 23:08:33] Energy consumed for RAM : 0.005625 kWh. RAM Power : 5.8020172119140625 W\n",
      "[codecarbon INFO @ 23:08:33] Energy consumed for all GPUs : 0.055924 kWh. Total GPU Power : 33.957 W\n",
      "[codecarbon INFO @ 23:08:33] Energy consumed for all CPUs : 0.021846 kWh. Total CPU Power : 22.5 W\n",
      "[codecarbon INFO @ 23:08:33] 0.083394 kWh of electricity used since the beginning.\n",
      "[codecarbon INFO @ 23:08:48] Energy consumed for RAM : 0.005649 kWh. RAM Power : 5.8020172119140625 W\n",
      "[codecarbon INFO @ 23:08:48] Energy consumed for all GPUs : 0.056228 kWh. Total GPU Power : 73.154 W\n",
      "[codecarbon INFO @ 23:08:48] Energy consumed for all CPUs : 0.021939 kWh. Total CPU Power : 22.5 W\n",
      "[codecarbon INFO @ 23:08:48] 0.083817 kWh of electricity used since the beginning.\n"
     ]
    },
    {
     "data": {
      "application/vnd.jupyter.widget-view+json": {
       "model_id": "30fe4b524bdb4230bf2fa2aaad3a0094",
       "version_major": 2,
       "version_minor": 0
      },
      "text/plain": [
       "Validation: |                                             | 0/? [00:00<?, ?it/s]"
      ]
     },
     "metadata": {},
     "output_type": "display_data"
    },
    {
     "name": "stderr",
     "output_type": "stream",
     "text": [
      "[codecarbon INFO @ 23:09:03] Energy consumed for RAM : 0.005673 kWh. RAM Power : 5.8020172119140625 W\n",
      "[codecarbon INFO @ 23:09:03] Energy consumed for all GPUs : 0.056409 kWh. Total GPU Power : 43.14000000000001 W\n",
      "[codecarbon INFO @ 23:09:03] Energy consumed for all CPUs : 0.022034 kWh. Total CPU Power : 22.5 W\n",
      "[codecarbon INFO @ 23:09:04] 0.084116 kWh of electricity used since the beginning.\n",
      "[codecarbon INFO @ 23:09:18] Energy consumed for RAM : 0.005697 kWh. RAM Power : 5.8020172119140625 W\n",
      "[codecarbon INFO @ 23:09:18] Energy consumed for all GPUs : 0.056709 kWh. Total GPU Power : 72.804 W\n",
      "[codecarbon INFO @ 23:09:18] Energy consumed for all CPUs : 0.022127 kWh. Total CPU Power : 22.5 W\n",
      "[codecarbon INFO @ 23:09:18] 0.084532 kWh of electricity used since the beginning.\n",
      "[codecarbon INFO @ 23:09:33] Energy consumed for RAM : 0.005721 kWh. RAM Power : 5.8020172119140625 W\n",
      "[codecarbon INFO @ 23:09:33] Energy consumed for all GPUs : 0.056989 kWh. Total GPU Power : 67.425 W\n",
      "[codecarbon INFO @ 23:09:33] Energy consumed for all CPUs : 0.022220 kWh. Total CPU Power : 22.5 W\n",
      "[codecarbon INFO @ 23:09:33] 0.084931 kWh of electricity used since the beginning.\n"
     ]
    },
    {
     "data": {
      "application/vnd.jupyter.widget-view+json": {
       "model_id": "0ce85049fa5542d09ae423a2545b7770",
       "version_major": 2,
       "version_minor": 0
      },
      "text/plain": [
       "Validation: |                                             | 0/? [00:00<?, ?it/s]"
      ]
     },
     "metadata": {},
     "output_type": "display_data"
    },
    {
     "name": "stderr",
     "output_type": "stream",
     "text": [
      "[codecarbon INFO @ 23:09:48] Energy consumed for RAM : 0.005745 kWh. RAM Power : 5.8020172119140625 W\n",
      "[codecarbon INFO @ 23:09:48] Energy consumed for all GPUs : 0.057321 kWh. Total GPU Power : 79.632 W\n",
      "[codecarbon INFO @ 23:09:48] Energy consumed for all CPUs : 0.022314 kWh. Total CPU Power : 22.5 W\n",
      "[codecarbon INFO @ 23:09:48] 0.085380 kWh of electricity used since the beginning.\n",
      "[codecarbon INFO @ 23:10:03] Energy consumed for RAM : 0.005769 kWh. RAM Power : 5.8020172119140625 W\n",
      "[codecarbon INFO @ 23:10:03] Energy consumed for all GPUs : 0.057607 kWh. Total GPU Power : 68.748 W\n",
      "[codecarbon INFO @ 23:10:03] Energy consumed for all CPUs : 0.022408 kWh. Total CPU Power : 22.5 W\n",
      "[codecarbon INFO @ 23:10:03] 0.085785 kWh of electricity used since the beginning.\n"
     ]
    },
    {
     "data": {
      "application/vnd.jupyter.widget-view+json": {
       "model_id": "87dad01d1c6e422e9c0a055cf78cf5a7",
       "version_major": 2,
       "version_minor": 0
      },
      "text/plain": [
       "Validation: |                                             | 0/? [00:00<?, ?it/s]"
      ]
     },
     "metadata": {},
     "output_type": "display_data"
    },
    {
     "name": "stderr",
     "output_type": "stream",
     "text": [
      "[codecarbon INFO @ 23:10:18] Energy consumed for RAM : 0.005794 kWh. RAM Power : 5.8020172119140625 W\n",
      "[codecarbon INFO @ 23:10:18] Energy consumed for all GPUs : 0.057750 kWh. Total GPU Power : 34.167 W\n",
      "[codecarbon INFO @ 23:10:18] Energy consumed for all CPUs : 0.022502 kWh. Total CPU Power : 22.5 W\n",
      "[codecarbon INFO @ 23:10:19] 0.086045 kWh of electricity used since the beginning.\n",
      "[codecarbon INFO @ 23:10:33] Energy consumed for RAM : 0.005817 kWh. RAM Power : 5.8020172119140625 W\n",
      "[codecarbon INFO @ 23:10:33] Energy consumed for all GPUs : 0.058010 kWh. Total GPU Power : 64.824 W\n",
      "[codecarbon INFO @ 23:10:33] Energy consumed for all CPUs : 0.022593 kWh. Total CPU Power : 22.5 W\n",
      "[codecarbon INFO @ 23:10:33] 0.086419 kWh of electricity used since the beginning.\n"
     ]
    },
    {
     "data": {
      "application/vnd.jupyter.widget-view+json": {
       "model_id": "9b71cef76c4347ca9c8ef4ec409a851f",
       "version_major": 2,
       "version_minor": 0
      },
      "text/plain": [
       "Validation: |                                             | 0/? [00:00<?, ?it/s]"
      ]
     },
     "metadata": {},
     "output_type": "display_data"
    },
    {
     "name": "stderr",
     "output_type": "stream",
     "text": [
      "[codecarbon INFO @ 23:10:48] Energy consumed for RAM : 0.005841 kWh. RAM Power : 5.8020172119140625 W\n",
      "[codecarbon INFO @ 23:10:48] Energy consumed for all GPUs : 0.058269 kWh. Total GPU Power : 62.184000000000005 W\n",
      "[codecarbon INFO @ 23:10:48] Energy consumed for all CPUs : 0.022686 kWh. Total CPU Power : 22.5 W\n",
      "[codecarbon INFO @ 23:10:48] 0.086796 kWh of electricity used since the beginning.\n",
      "[codecarbon INFO @ 23:11:03] Energy consumed for RAM : 0.005865 kWh. RAM Power : 5.8020172119140625 W\n",
      "[codecarbon INFO @ 23:11:03] Energy consumed for all GPUs : 0.058581 kWh. Total GPU Power : 74.96000000000001 W\n",
      "[codecarbon INFO @ 23:11:03] Energy consumed for all CPUs : 0.022780 kWh. Total CPU Power : 22.5 W\n",
      "[codecarbon INFO @ 23:11:03] 0.087226 kWh of electricity used since the beginning.\n",
      "[codecarbon INFO @ 23:11:18] Energy consumed for RAM : 0.005889 kWh. RAM Power : 5.8020172119140625 W\n",
      "[codecarbon INFO @ 23:11:18] Energy consumed for all GPUs : 0.058862 kWh. Total GPU Power : 67.513 W\n",
      "[codecarbon INFO @ 23:11:18] Energy consumed for all CPUs : 0.022874 kWh. Total CPU Power : 22.5 W\n",
      "[codecarbon INFO @ 23:11:18] 0.087625 kWh of electricity used since the beginning.\n"
     ]
    },
    {
     "data": {
      "application/vnd.jupyter.widget-view+json": {
       "model_id": "3b65954404634f6496389847bcf53aaf",
       "version_major": 2,
       "version_minor": 0
      },
      "text/plain": [
       "Validation: |                                             | 0/? [00:00<?, ?it/s]"
      ]
     },
     "metadata": {},
     "output_type": "display_data"
    },
    {
     "name": "stderr",
     "output_type": "stream",
     "text": [
      "[codecarbon INFO @ 23:11:33] Energy consumed for RAM : 0.005914 kWh. RAM Power : 5.8020172119140625 W\n",
      "[codecarbon INFO @ 23:11:33] Energy consumed for all GPUs : 0.059179 kWh. Total GPU Power : 75.947 W\n",
      "[codecarbon INFO @ 23:11:33] Energy consumed for all CPUs : 0.022968 kWh. Total CPU Power : 22.5 W\n",
      "[codecarbon INFO @ 23:11:33] 0.088060 kWh of electricity used since the beginning.\n",
      "[codecarbon INFO @ 23:11:48] Energy consumed for RAM : 0.005938 kWh. RAM Power : 5.8020172119140625 W\n",
      "[codecarbon INFO @ 23:11:48] Energy consumed for all GPUs : 0.059458 kWh. Total GPU Power : 67.006 W\n",
      "[codecarbon INFO @ 23:11:48] Energy consumed for all CPUs : 0.023061 kWh. Total CPU Power : 22.5 W\n",
      "[codecarbon INFO @ 23:11:48] 0.088457 kWh of electricity used since the beginning.\n"
     ]
    },
    {
     "data": {
      "application/vnd.jupyter.widget-view+json": {
       "model_id": "7135bfd4f0d84fa992482062ef3bc064",
       "version_major": 2,
       "version_minor": 0
      },
      "text/plain": [
       "Validation: |                                             | 0/? [00:00<?, ?it/s]"
      ]
     },
     "metadata": {},
     "output_type": "display_data"
    },
    {
     "name": "stderr",
     "output_type": "stream",
     "text": [
      "[codecarbon INFO @ 23:12:03] Energy consumed for RAM : 0.005962 kWh. RAM Power : 5.8020172119140625 W\n",
      "[codecarbon INFO @ 23:12:03] Energy consumed for all GPUs : 0.059605 kWh. Total GPU Power : 35.262 W\n",
      "[codecarbon INFO @ 23:12:03] Energy consumed for all CPUs : 0.023155 kWh. Total CPU Power : 22.5 W\n",
      "[codecarbon INFO @ 23:12:03] 0.088722 kWh of electricity used since the beginning.\n",
      "[codecarbon INFO @ 23:12:18] Energy consumed for RAM : 0.005986 kWh. RAM Power : 5.8020172119140625 W\n",
      "[codecarbon INFO @ 23:12:18] Energy consumed for all GPUs : 0.059862 kWh. Total GPU Power : 61.90200000000001 W\n",
      "[codecarbon INFO @ 23:12:18] Energy consumed for all CPUs : 0.023249 kWh. Total CPU Power : 22.5 W\n",
      "[codecarbon INFO @ 23:12:18] 0.089097 kWh of electricity used since the beginning.\n",
      "[codecarbon INFO @ 23:12:33] Energy consumed for RAM : 0.006010 kWh. RAM Power : 5.8020172119140625 W\n",
      "[codecarbon INFO @ 23:12:33] Energy consumed for all GPUs : 0.060115 kWh. Total GPU Power : 60.766 W\n",
      "[codecarbon INFO @ 23:12:33] Energy consumed for all CPUs : 0.023342 kWh. Total CPU Power : 22.5 W\n",
      "[codecarbon INFO @ 23:12:33] 0.089468 kWh of electricity used since the beginning.\n"
     ]
    },
    {
     "data": {
      "application/vnd.jupyter.widget-view+json": {
       "model_id": "0f3512d556a046809fdfe3429304c70c",
       "version_major": 2,
       "version_minor": 0
      },
      "text/plain": [
       "Validation: |                                             | 0/? [00:00<?, ?it/s]"
      ]
     },
     "metadata": {},
     "output_type": "display_data"
    },
    {
     "name": "stderr",
     "output_type": "stream",
     "text": [
      "[codecarbon INFO @ 23:12:48] Energy consumed for RAM : 0.006034 kWh. RAM Power : 5.8020172119140625 W\n",
      "[codecarbon INFO @ 23:12:48] Energy consumed for all GPUs : 0.060357 kWh. Total GPU Power : 58.129 W\n",
      "[codecarbon INFO @ 23:12:48] Energy consumed for all CPUs : 0.023436 kWh. Total CPU Power : 22.5 W\n",
      "[codecarbon INFO @ 23:12:48] 0.089828 kWh of electricity used since the beginning.\n",
      "[codecarbon INFO @ 23:13:03] Energy consumed for RAM : 0.006058 kWh. RAM Power : 5.8020172119140625 W\n",
      "[codecarbon INFO @ 23:13:03] Energy consumed for all GPUs : 0.060604 kWh. Total GPU Power : 59.371 W\n",
      "[codecarbon INFO @ 23:13:03] Energy consumed for all CPUs : 0.023530 kWh. Total CPU Power : 22.5 W\n",
      "[codecarbon INFO @ 23:13:03] 0.090193 kWh of electricity used since the beginning.\n"
     ]
    },
    {
     "data": {
      "application/vnd.jupyter.widget-view+json": {
       "model_id": "8f1ae1d585314f07b30182bedea1b924",
       "version_major": 2,
       "version_minor": 0
      },
      "text/plain": [
       "Validation: |                                             | 0/? [00:00<?, ?it/s]"
      ]
     },
     "metadata": {},
     "output_type": "display_data"
    },
    {
     "name": "stderr",
     "output_type": "stream",
     "text": [
      "[codecarbon INFO @ 23:13:18] Energy consumed for RAM : 0.006083 kWh. RAM Power : 5.8020172119140625 W\n",
      "[codecarbon INFO @ 23:13:18] Energy consumed for all GPUs : 0.060770 kWh. Total GPU Power : 39.618 W\n",
      "[codecarbon INFO @ 23:13:18] Energy consumed for all CPUs : 0.023624 kWh. Total CPU Power : 22.5 W\n",
      "[codecarbon INFO @ 23:13:19] 0.090477 kWh of electricity used since the beginning.\n",
      "[codecarbon INFO @ 23:13:33] Energy consumed for RAM : 0.006107 kWh. RAM Power : 5.8020172119140625 W\n",
      "[codecarbon INFO @ 23:13:33] Energy consumed for all GPUs : 0.061004 kWh. Total GPU Power : 56.85 W\n",
      "[codecarbon INFO @ 23:13:33] Energy consumed for all CPUs : 0.023717 kWh. Total CPU Power : 22.5 W\n",
      "[codecarbon INFO @ 23:13:33] 0.090827 kWh of electricity used since the beginning.\n",
      "[codecarbon INFO @ 23:13:48] Energy consumed for RAM : 0.006131 kWh. RAM Power : 5.8020172119140625 W\n",
      "[codecarbon INFO @ 23:13:48] Energy consumed for all GPUs : 0.061256 kWh. Total GPU Power : 60.541000000000004 W\n",
      "[codecarbon INFO @ 23:13:48] Energy consumed for all CPUs : 0.023811 kWh. Total CPU Power : 22.5 W\n",
      "[codecarbon INFO @ 23:13:48] 0.091198 kWh of electricity used since the beginning.\n"
     ]
    },
    {
     "data": {
      "application/vnd.jupyter.widget-view+json": {
       "model_id": "cff463f85d314584ace3ab614d432f3e",
       "version_major": 2,
       "version_minor": 0
      },
      "text/plain": [
       "Validation: |                                             | 0/? [00:00<?, ?it/s]"
      ]
     },
     "metadata": {},
     "output_type": "display_data"
    },
    {
     "name": "stderr",
     "output_type": "stream",
     "text": [
      "[codecarbon INFO @ 23:14:03] Energy consumed for RAM : 0.006155 kWh. RAM Power : 5.8020172119140625 W\n",
      "[codecarbon INFO @ 23:14:03] Energy consumed for all GPUs : 0.061403 kWh. Total GPU Power : 35.296 W\n",
      "[codecarbon INFO @ 23:14:03] Energy consumed for all CPUs : 0.023905 kWh. Total CPU Power : 22.5 W\n",
      "[codecarbon INFO @ 23:14:03] 0.091462 kWh of electricity used since the beginning.\n",
      "[codecarbon INFO @ 23:14:18] Energy consumed for RAM : 0.006179 kWh. RAM Power : 5.8020172119140625 W\n",
      "[codecarbon INFO @ 23:14:18] Energy consumed for all GPUs : 0.061659 kWh. Total GPU Power : 61.562000000000005 W\n",
      "[codecarbon INFO @ 23:14:18] Energy consumed for all CPUs : 0.023998 kWh. Total CPU Power : 22.5 W\n",
      "[codecarbon INFO @ 23:14:18] 0.091837 kWh of electricity used since the beginning.\n",
      "[codecarbon INFO @ 23:14:33] Energy consumed for RAM : 0.006203 kWh. RAM Power : 5.8020172119140625 W\n",
      "[codecarbon INFO @ 23:14:33] Energy consumed for all GPUs : 0.061904 kWh. Total GPU Power : 58.699 W\n",
      "[codecarbon INFO @ 23:14:33] Energy consumed for all CPUs : 0.024092 kWh. Total CPU Power : 22.5 W\n",
      "[codecarbon INFO @ 23:14:33] 0.092199 kWh of electricity used since the beginning.\n"
     ]
    },
    {
     "data": {
      "application/vnd.jupyter.widget-view+json": {
       "model_id": "70bab1f59ea746838bd7eb9bf4ae3c5d",
       "version_major": 2,
       "version_minor": 0
      },
      "text/plain": [
       "Validation: |                                             | 0/? [00:00<?, ?it/s]"
      ]
     },
     "metadata": {},
     "output_type": "display_data"
    },
    {
     "name": "stderr",
     "output_type": "stream",
     "text": [
      "`Trainer.fit` stopped: `max_epochs=100` reached.\n",
      "[codecarbon INFO @ 23:14:47] Energy consumed for RAM : 0.006225 kWh. RAM Power : 5.8020172119140625 W\n",
      "[codecarbon INFO @ 23:14:47] Energy consumed for all GPUs : 0.062036 kWh. Total GPU Power : 34.935 W\n",
      "[codecarbon INFO @ 23:14:47] Energy consumed for all CPUs : 0.024177 kWh. Total CPU Power : 22.5 W\n",
      "[codecarbon INFO @ 23:14:47] 0.092438 kWh of electricity used since the beginning.\n"
     ]
    }
   ],
   "source": [
    "lr_monitor = pl.callbacks.LearningRateMonitor(logging_interval='epoch')\n",
    "\n",
    "tb_logger = pl_loggers.TensorBoardLogger(save_dir=\"gan/\", default_hp_metric=False)\n",
    "trainer = pl.Trainer(\n",
    "    max_epochs=num_epochs,\n",
    "    accelerator='auto',\n",
    "    log_every_n_steps=1,\n",
    "    logger=tb_logger,\n",
    "    deterministic=True,\n",
    "    callbacks=[lr_monitor]\n",
    ")\n",
    "with EmissionsTracker() as tracker:\n",
    "    trainer.fit(model, data_module)"
   ]
  },
  {
   "cell_type": "code",
   "execution_count": null,
   "id": "70b59ac5-1378-4fb5-b7a8-d91a921bcb17",
   "metadata": {},
   "outputs": [],
   "source": []
  },
  {
   "cell_type": "code",
   "execution_count": null,
   "id": "b77e0572-8b6e-4b59-a557-81ec536d9e5f",
   "metadata": {},
   "outputs": [],
   "source": []
  }
 ],
 "metadata": {
  "kernelspec": {
   "display_name": "ML",
   "language": "python",
   "name": "ml"
  },
  "language_info": {
   "codemirror_mode": {
    "name": "ipython",
    "version": 3
   },
   "file_extension": ".py",
   "mimetype": "text/x-python",
   "name": "python",
   "nbconvert_exporter": "python",
   "pygments_lexer": "ipython3",
   "version": "3.10.13"
  }
 },
 "nbformat": 4,
 "nbformat_minor": 5
}
